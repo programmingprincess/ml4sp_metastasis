{
 "cells": [
  {
   "cell_type": "markdown",
   "metadata": {},
   "source": [
    "# Classification \n",
    "Ideas to try \n",
    "- [] MinMax scaling?"
   ]
  },
  {
   "cell_type": "code",
   "execution_count": 1,
   "metadata": {},
   "outputs": [],
   "source": [
    "# import GEOparse\n",
    "import matplotlib.pyplot as plt\n",
    "import pandas as pd\n",
    "import numpy as np\n",
    "import sklearn\n",
    "from sklearn.decomposition import PCA\n",
    "import scipy\n",
    "from scipy.sparse.linalg import svds \n",
    "from scipy.stats import itemfreq"
   ]
  },
  {
   "cell_type": "code",
   "execution_count": 2,
   "metadata": {},
   "outputs": [
    {
     "data": {
      "text/html": [
       "<div>\n",
       "<style scoped>\n",
       "    .dataframe tbody tr th:only-of-type {\n",
       "        vertical-align: middle;\n",
       "    }\n",
       "\n",
       "    .dataframe tbody tr th {\n",
       "        vertical-align: top;\n",
       "    }\n",
       "\n",
       "    .dataframe thead th {\n",
       "        text-align: right;\n",
       "    }\n",
       "</style>\n",
       "<table border=\"1\" class=\"dataframe\">\n",
       "  <thead>\n",
       "    <tr style=\"text-align: right;\">\n",
       "      <th></th>\n",
       "      <th>ID_REF</th>\n",
       "      <th>GSM279964</th>\n",
       "      <th>GSM279974</th>\n",
       "      <th>GSM279975</th>\n",
       "      <th>GSM279977</th>\n",
       "      <th>GSM279978</th>\n",
       "      <th>GSM279958</th>\n",
       "      <th>GSM279961</th>\n",
       "      <th>GSM279963</th>\n",
       "      <th>GSM279965</th>\n",
       "      <th>...</th>\n",
       "      <th>GSM237966</th>\n",
       "      <th>GSM237967</th>\n",
       "      <th>GSM237968</th>\n",
       "      <th>GSM237969</th>\n",
       "      <th>GSM237970</th>\n",
       "      <th>GSM237972</th>\n",
       "      <th>GSM237973</th>\n",
       "      <th>GSM237974</th>\n",
       "      <th>GSM237977</th>\n",
       "      <th>GSM237978</th>\n",
       "    </tr>\n",
       "  </thead>\n",
       "  <tbody>\n",
       "    <tr>\n",
       "      <th>0</th>\n",
       "      <td>1007_s_at</td>\n",
       "      <td>10.022909</td>\n",
       "      <td>9.818693</td>\n",
       "      <td>9.647424</td>\n",
       "      <td>9.841938</td>\n",
       "      <td>9.190691</td>\n",
       "      <td>10.214065</td>\n",
       "      <td>10.284017</td>\n",
       "      <td>7.008211</td>\n",
       "      <td>9.145673</td>\n",
       "      <td>...</td>\n",
       "      <td>3739.4300</td>\n",
       "      <td>2809.7200</td>\n",
       "      <td>2350.390</td>\n",
       "      <td>4079.3500</td>\n",
       "      <td>7302.00000</td>\n",
       "      <td>2898.6400</td>\n",
       "      <td>3494.1600</td>\n",
       "      <td>5225.7500</td>\n",
       "      <td>5917.5400</td>\n",
       "      <td>4249.9400</td>\n",
       "    </tr>\n",
       "    <tr>\n",
       "      <th>1</th>\n",
       "      <td>1053_at</td>\n",
       "      <td>6.411660</td>\n",
       "      <td>5.665370</td>\n",
       "      <td>5.613482</td>\n",
       "      <td>5.190008</td>\n",
       "      <td>5.180046</td>\n",
       "      <td>6.396298</td>\n",
       "      <td>6.048790</td>\n",
       "      <td>5.671556</td>\n",
       "      <td>5.624627</td>\n",
       "      <td>...</td>\n",
       "      <td>1205.6400</td>\n",
       "      <td>883.9270</td>\n",
       "      <td>1418.130</td>\n",
       "      <td>721.6150</td>\n",
       "      <td>641.33900</td>\n",
       "      <td>1009.4900</td>\n",
       "      <td>788.6240</td>\n",
       "      <td>1227.7000</td>\n",
       "      <td>662.1490</td>\n",
       "      <td>1315.5500</td>\n",
       "    </tr>\n",
       "    <tr>\n",
       "      <th>2</th>\n",
       "      <td>117_at</td>\n",
       "      <td>6.181633</td>\n",
       "      <td>5.700626</td>\n",
       "      <td>5.786576</td>\n",
       "      <td>5.237599</td>\n",
       "      <td>6.131352</td>\n",
       "      <td>7.620443</td>\n",
       "      <td>6.481317</td>\n",
       "      <td>5.739559</td>\n",
       "      <td>6.072929</td>\n",
       "      <td>...</td>\n",
       "      <td>89.1387</td>\n",
       "      <td>81.6689</td>\n",
       "      <td>366.327</td>\n",
       "      <td>151.8190</td>\n",
       "      <td>191.91400</td>\n",
       "      <td>134.4140</td>\n",
       "      <td>67.0623</td>\n",
       "      <td>104.0020</td>\n",
       "      <td>15.1112</td>\n",
       "      <td>119.9420</td>\n",
       "    </tr>\n",
       "    <tr>\n",
       "      <th>3</th>\n",
       "      <td>121_at</td>\n",
       "      <td>7.436633</td>\n",
       "      <td>7.053211</td>\n",
       "      <td>7.258615</td>\n",
       "      <td>7.562595</td>\n",
       "      <td>7.330315</td>\n",
       "      <td>7.364233</td>\n",
       "      <td>7.421833</td>\n",
       "      <td>7.620457</td>\n",
       "      <td>7.507055</td>\n",
       "      <td>...</td>\n",
       "      <td>787.3290</td>\n",
       "      <td>848.5340</td>\n",
       "      <td>1454.480</td>\n",
       "      <td>1142.3000</td>\n",
       "      <td>1099.31000</td>\n",
       "      <td>762.8810</td>\n",
       "      <td>408.8580</td>\n",
       "      <td>684.3200</td>\n",
       "      <td>612.0700</td>\n",
       "      <td>809.6950</td>\n",
       "    </tr>\n",
       "    <tr>\n",
       "      <th>4</th>\n",
       "      <td>1255_g_at</td>\n",
       "      <td>2.887094</td>\n",
       "      <td>3.000947</td>\n",
       "      <td>3.121344</td>\n",
       "      <td>3.086248</td>\n",
       "      <td>3.480671</td>\n",
       "      <td>2.905494</td>\n",
       "      <td>2.968376</td>\n",
       "      <td>3.221801</td>\n",
       "      <td>3.069448</td>\n",
       "      <td>...</td>\n",
       "      <td>80.9794</td>\n",
       "      <td>30.6078</td>\n",
       "      <td>103.337</td>\n",
       "      <td>36.9773</td>\n",
       "      <td>5.61104</td>\n",
       "      <td>92.5094</td>\n",
       "      <td>30.6197</td>\n",
       "      <td>17.8383</td>\n",
       "      <td>11.1367</td>\n",
       "      <td>93.9161</td>\n",
       "    </tr>\n",
       "  </tbody>\n",
       "</table>\n",
       "<p>5 rows × 1495 columns</p>\n",
       "</div>"
      ],
      "text/plain": [
       "      ID_REF  GSM279964  GSM279974  GSM279975  GSM279977  GSM279978  \\\n",
       "0  1007_s_at  10.022909   9.818693   9.647424   9.841938   9.190691   \n",
       "1    1053_at   6.411660   5.665370   5.613482   5.190008   5.180046   \n",
       "2     117_at   6.181633   5.700626   5.786576   5.237599   6.131352   \n",
       "3     121_at   7.436633   7.053211   7.258615   7.562595   7.330315   \n",
       "4  1255_g_at   2.887094   3.000947   3.121344   3.086248   3.480671   \n",
       "\n",
       "   GSM279958  GSM279961  GSM279963  GSM279965  ...  GSM237966  GSM237967  \\\n",
       "0  10.214065  10.284017   7.008211   9.145673  ...  3739.4300  2809.7200   \n",
       "1   6.396298   6.048790   5.671556   5.624627  ...  1205.6400   883.9270   \n",
       "2   7.620443   6.481317   5.739559   6.072929  ...    89.1387    81.6689   \n",
       "3   7.364233   7.421833   7.620457   7.507055  ...   787.3290   848.5340   \n",
       "4   2.905494   2.968376   3.221801   3.069448  ...    80.9794    30.6078   \n",
       "\n",
       "   GSM237968  GSM237969   GSM237970  GSM237972  GSM237973  GSM237974  \\\n",
       "0   2350.390  4079.3500  7302.00000  2898.6400  3494.1600  5225.7500   \n",
       "1   1418.130   721.6150   641.33900  1009.4900   788.6240  1227.7000   \n",
       "2    366.327   151.8190   191.91400   134.4140    67.0623   104.0020   \n",
       "3   1454.480  1142.3000  1099.31000   762.8810   408.8580   684.3200   \n",
       "4    103.337    36.9773     5.61104    92.5094    30.6197    17.8383   \n",
       "\n",
       "   GSM237977  GSM237978  \n",
       "0  5917.5400  4249.9400  \n",
       "1   662.1490  1315.5500  \n",
       "2    15.1112   119.9420  \n",
       "3   612.0700   809.6950  \n",
       "4    11.1367    93.9161  \n",
       "\n",
       "[5 rows x 1495 columns]"
      ]
     },
     "execution_count": 2,
     "metadata": {},
     "output_type": "execute_result"
    }
   ],
   "source": [
    "data = pd.read_csv(\"mirnas_all_nov21.txt\", sep=\"\\t\")\n",
    "labels = pd.read_csv(\"mirnas_all_labels_nov21.txt\", sep=\"\\t\")\n",
    "\n",
    "data=data.drop(['Unnamed: 0'], axis=1)\n",
    "data.set_index('ID_REF')\n",
    "data.head()"
   ]
  },
  {
   "cell_type": "code",
   "execution_count": 4,
   "metadata": {},
   "outputs": [
    {
     "name": "stdout",
     "output_type": "stream",
     "text": [
      "     Dataset_id  Class_id                                         Class_name  \\\n",
      "0      GSE11078         1  metastasis tumor of breast cancer lung metastasis   \n",
      "1      GSE11078         1  metastasis tumor of breast cancer lung metastasis   \n",
      "2      GSE11078         1  metastasis tumor of breast cancer lung metastasis   \n",
      "3      GSE11078         1  metastasis tumor of breast cancer lung metastasis   \n",
      "4      GSE11078         1  metastasis tumor of breast cancer lung metastasis   \n",
      "...         ...       ...                                                ...   \n",
      "1489    GSE9348         2                   primary tumor without metastasis   \n",
      "1490    GSE9348         2                   primary tumor without metastasis   \n",
      "1491    GSE9348         2                   primary tumor without metastasis   \n",
      "1492    GSE9348         2                   primary tumor without metastasis   \n",
      "1493    GSE9348         2                   primary tumor without metastasis   \n",
      "\n",
      "      Sample_id        Cancer_type Cancer_subtype Metastasis_status  \\\n",
      "0     GSM279964      breast cancer            NaN               YES   \n",
      "1     GSM279974      breast cancer            NaN               YES   \n",
      "2     GSM279975      breast cancer            NaN               YES   \n",
      "3     GSM279977      breast cancer            NaN               YES   \n",
      "4     GSM279978      breast cancer            NaN               YES   \n",
      "...         ...                ...            ...               ...   \n",
      "1489  GSM237972  colorectal cancer            NaN                NO   \n",
      "1490  GSM237973  colorectal cancer            NaN                NO   \n",
      "1491  GSM237974  colorectal cancer            NaN                NO   \n",
      "1492  GSM237977  colorectal cancer            NaN                NO   \n",
      "1493  GSM237978  colorectal cancer            NaN                NO   \n",
      "\n",
      "     Primary_site Metastasis_site      Sample_label  \n",
      "0          breast            lung  Metastasis Tumor  \n",
      "1          breast            lung  Metastasis Tumor  \n",
      "2          breast            lung  Metastasis Tumor  \n",
      "3          breast            lung  Metastasis Tumor  \n",
      "4          breast            lung  Metastasis Tumor  \n",
      "...           ...             ...               ...  \n",
      "1489   colorectum             NaN     Primary Tumor  \n",
      "1490   colorectum             NaN     Primary Tumor  \n",
      "1491   colorectum             NaN     Primary Tumor  \n",
      "1492   colorectum             NaN     Primary Tumor  \n",
      "1493   colorectum             NaN     Primary Tumor  \n",
      "\n",
      "[1494 rows x 10 columns]\n"
     ]
    }
   ],
   "source": [
    "print(labels)"
   ]
  },
  {
   "cell_type": "code",
   "execution_count": 3,
   "metadata": {},
   "outputs": [
    {
     "data": {
      "text/plain": [
       "(54675, 1494)"
      ]
     },
     "execution_count": 3,
     "metadata": {},
     "output_type": "execute_result"
    }
   ],
   "source": [
    "# turn dataset into numpy array; will need these to recreate data frame later\n",
    "data_heading=data.columns\n",
    "id_refs=data['ID_REF']\n",
    "\n",
    "np_data = np.array(data)[:,1:].astype(float)\n",
    "np_data.shape"
   ]
  },
  {
   "cell_type": "code",
   "execution_count": 4,
   "metadata": {},
   "outputs": [],
   "source": [
    "# tiffany's PCA, uses SVD\n",
    "def PCA(PCA_K, input_data):\n",
    "\n",
    "    total_dim, sample_n = input_data.shape\n",
    "\n",
    "    data_mean = np.reshape(np.mean(input_data, axis=1),(total_dim,1))\n",
    "    data_demean = np.subtract(input_data, data_mean)\n",
    "\n",
    "    u, s, vt = svds(data_demean, k=PCA_K)\n",
    "\n",
    "    PCA_weights = np.matmul(np.transpose(u), data_demean)\n",
    "    \n",
    "    return PCA_weights, u, s, data_mean\n"
   ]
  },
  {
   "cell_type": "code",
   "execution_count": 5,
   "metadata": {},
   "outputs": [],
   "source": [
    "# Basically need to change what np_data is\n",
    "\n",
    "lungs=labels[labels['Metastasis_site']=='lung']['Sample_id']\n",
    "lung_labels=labels[labels['Metastasis_site']=='lung']['Primary_site']\n",
    "\n",
    "lung_data = data[lungs]"
   ]
  },
  {
   "cell_type": "code",
   "execution_count": 42,
   "metadata": {},
   "outputs": [
    {
     "data": {
      "text/html": [
       "<div>\n",
       "<style scoped>\n",
       "    .dataframe tbody tr th:only-of-type {\n",
       "        vertical-align: middle;\n",
       "    }\n",
       "\n",
       "    .dataframe tbody tr th {\n",
       "        vertical-align: top;\n",
       "    }\n",
       "\n",
       "    .dataframe thead th {\n",
       "        text-align: right;\n",
       "    }\n",
       "</style>\n",
       "<table border=\"1\" class=\"dataframe\">\n",
       "  <thead>\n",
       "    <tr style=\"text-align: right;\">\n",
       "      <th></th>\n",
       "      <th>GSM279964</th>\n",
       "      <th>GSM279974</th>\n",
       "      <th>GSM279975</th>\n",
       "      <th>GSM279977</th>\n",
       "      <th>GSM279978</th>\n",
       "      <th>GSM352095</th>\n",
       "      <th>GSM352114</th>\n",
       "      <th>GSM352127</th>\n",
       "      <th>GSM352132</th>\n",
       "      <th>GSM359477</th>\n",
       "      <th>...</th>\n",
       "      <th>GSM2263282</th>\n",
       "      <th>GSM2263284</th>\n",
       "      <th>GSM2263287</th>\n",
       "      <th>GSM2263288</th>\n",
       "      <th>GSM2263292</th>\n",
       "      <th>GSM2263294</th>\n",
       "      <th>GSM2263295</th>\n",
       "      <th>GSM2263298</th>\n",
       "      <th>GSM2263299</th>\n",
       "      <th>GSM2263302</th>\n",
       "    </tr>\n",
       "  </thead>\n",
       "  <tbody>\n",
       "    <tr>\n",
       "      <th>0</th>\n",
       "      <td>10.022909</td>\n",
       "      <td>9.818693</td>\n",
       "      <td>9.647424</td>\n",
       "      <td>9.841938</td>\n",
       "      <td>9.190691</td>\n",
       "      <td>11.942972</td>\n",
       "      <td>12.145630</td>\n",
       "      <td>11.734945</td>\n",
       "      <td>12.049945</td>\n",
       "      <td>8.162700</td>\n",
       "      <td>...</td>\n",
       "      <td>8.647694</td>\n",
       "      <td>9.525532</td>\n",
       "      <td>9.248846</td>\n",
       "      <td>9.306287</td>\n",
       "      <td>9.145314</td>\n",
       "      <td>8.530944</td>\n",
       "      <td>8.081856</td>\n",
       "      <td>8.434029</td>\n",
       "      <td>8.726478</td>\n",
       "      <td>8.131775</td>\n",
       "    </tr>\n",
       "    <tr>\n",
       "      <th>1</th>\n",
       "      <td>6.411660</td>\n",
       "      <td>5.665370</td>\n",
       "      <td>5.613482</td>\n",
       "      <td>5.190008</td>\n",
       "      <td>5.180046</td>\n",
       "      <td>9.124514</td>\n",
       "      <td>8.129902</td>\n",
       "      <td>7.521694</td>\n",
       "      <td>9.248112</td>\n",
       "      <td>7.890935</td>\n",
       "      <td>...</td>\n",
       "      <td>6.397119</td>\n",
       "      <td>6.619812</td>\n",
       "      <td>6.722360</td>\n",
       "      <td>6.426902</td>\n",
       "      <td>6.922576</td>\n",
       "      <td>7.025303</td>\n",
       "      <td>6.750538</td>\n",
       "      <td>6.223376</td>\n",
       "      <td>6.846281</td>\n",
       "      <td>6.917279</td>\n",
       "    </tr>\n",
       "    <tr>\n",
       "      <th>2</th>\n",
       "      <td>6.181633</td>\n",
       "      <td>5.700626</td>\n",
       "      <td>5.786576</td>\n",
       "      <td>5.237599</td>\n",
       "      <td>6.131352</td>\n",
       "      <td>7.832843</td>\n",
       "      <td>8.401506</td>\n",
       "      <td>7.766366</td>\n",
       "      <td>8.001030</td>\n",
       "      <td>5.349770</td>\n",
       "      <td>...</td>\n",
       "      <td>7.384940</td>\n",
       "      <td>6.108547</td>\n",
       "      <td>7.219937</td>\n",
       "      <td>6.434265</td>\n",
       "      <td>6.027906</td>\n",
       "      <td>7.149351</td>\n",
       "      <td>7.596471</td>\n",
       "      <td>7.694820</td>\n",
       "      <td>6.647473</td>\n",
       "      <td>7.124813</td>\n",
       "    </tr>\n",
       "    <tr>\n",
       "      <th>3</th>\n",
       "      <td>7.436633</td>\n",
       "      <td>7.053211</td>\n",
       "      <td>7.258615</td>\n",
       "      <td>7.562595</td>\n",
       "      <td>7.330315</td>\n",
       "      <td>9.293999</td>\n",
       "      <td>9.672572</td>\n",
       "      <td>9.791220</td>\n",
       "      <td>9.320542</td>\n",
       "      <td>8.129856</td>\n",
       "      <td>...</td>\n",
       "      <td>9.614226</td>\n",
       "      <td>9.309642</td>\n",
       "      <td>9.291900</td>\n",
       "      <td>9.807605</td>\n",
       "      <td>9.701834</td>\n",
       "      <td>8.903797</td>\n",
       "      <td>8.225796</td>\n",
       "      <td>8.990390</td>\n",
       "      <td>9.270007</td>\n",
       "      <td>10.512534</td>\n",
       "    </tr>\n",
       "    <tr>\n",
       "      <th>4</th>\n",
       "      <td>2.887094</td>\n",
       "      <td>3.000947</td>\n",
       "      <td>3.121344</td>\n",
       "      <td>3.086248</td>\n",
       "      <td>3.480671</td>\n",
       "      <td>4.545640</td>\n",
       "      <td>4.658521</td>\n",
       "      <td>4.812589</td>\n",
       "      <td>4.745899</td>\n",
       "      <td>2.195735</td>\n",
       "      <td>...</td>\n",
       "      <td>3.487416</td>\n",
       "      <td>3.369951</td>\n",
       "      <td>3.571586</td>\n",
       "      <td>3.324024</td>\n",
       "      <td>3.689759</td>\n",
       "      <td>3.515181</td>\n",
       "      <td>3.414399</td>\n",
       "      <td>3.292489</td>\n",
       "      <td>3.466469</td>\n",
       "      <td>3.369423</td>\n",
       "    </tr>\n",
       "  </tbody>\n",
       "</table>\n",
       "<p>5 rows × 103 columns</p>\n",
       "</div>"
      ],
      "text/plain": [
       "   GSM279964  GSM279974  GSM279975  GSM279977  GSM279978  GSM352095  \\\n",
       "0  10.022909   9.818693   9.647424   9.841938   9.190691  11.942972   \n",
       "1   6.411660   5.665370   5.613482   5.190008   5.180046   9.124514   \n",
       "2   6.181633   5.700626   5.786576   5.237599   6.131352   7.832843   \n",
       "3   7.436633   7.053211   7.258615   7.562595   7.330315   9.293999   \n",
       "4   2.887094   3.000947   3.121344   3.086248   3.480671   4.545640   \n",
       "\n",
       "   GSM352114  GSM352127  GSM352132  GSM359477  ...  GSM2263282  GSM2263284  \\\n",
       "0  12.145630  11.734945  12.049945   8.162700  ...    8.647694    9.525532   \n",
       "1   8.129902   7.521694   9.248112   7.890935  ...    6.397119    6.619812   \n",
       "2   8.401506   7.766366   8.001030   5.349770  ...    7.384940    6.108547   \n",
       "3   9.672572   9.791220   9.320542   8.129856  ...    9.614226    9.309642   \n",
       "4   4.658521   4.812589   4.745899   2.195735  ...    3.487416    3.369951   \n",
       "\n",
       "   GSM2263287  GSM2263288  GSM2263292  GSM2263294  GSM2263295  GSM2263298  \\\n",
       "0    9.248846    9.306287    9.145314    8.530944    8.081856    8.434029   \n",
       "1    6.722360    6.426902    6.922576    7.025303    6.750538    6.223376   \n",
       "2    7.219937    6.434265    6.027906    7.149351    7.596471    7.694820   \n",
       "3    9.291900    9.807605    9.701834    8.903797    8.225796    8.990390   \n",
       "4    3.571586    3.324024    3.689759    3.515181    3.414399    3.292489   \n",
       "\n",
       "   GSM2263299  GSM2263302  \n",
       "0    8.726478    8.131775  \n",
       "1    6.846281    6.917279  \n",
       "2    6.647473    7.124813  \n",
       "3    9.270007   10.512534  \n",
       "4    3.466469    3.369423  \n",
       "\n",
       "[5 rows x 103 columns]"
      ]
     },
     "execution_count": 42,
     "metadata": {},
     "output_type": "execute_result"
    }
   ],
   "source": [
    "lung_data.head()"
   ]
  },
  {
   "cell_type": "code",
   "execution_count": 54,
   "metadata": {},
   "outputs": [],
   "source": [
    "np_data = np.array(lung_data)[:,:].astype(float)"
   ]
  },
  {
   "cell_type": "code",
   "execution_count": 55,
   "metadata": {},
   "outputs": [
    {
     "data": {
      "text/plain": [
       "(54675, 103)"
      ]
     },
     "execution_count": 55,
     "metadata": {},
     "output_type": "execute_result"
    }
   ],
   "source": [
    "np_data.shape"
   ]
  },
  {
   "cell_type": "code",
   "execution_count": 56,
   "metadata": {},
   "outputs": [],
   "source": [
    "# #s[300:373]\n",
    "# temp = np_data[:1000,:1000]\n",
    "# temp.shape"
   ]
  },
  {
   "cell_type": "code",
   "execution_count": 57,
   "metadata": {},
   "outputs": [],
   "source": [
    "weights, u, s, mean = PCA(100, np_data)"
   ]
  },
  {
   "cell_type": "code",
   "execution_count": 58,
   "metadata": {},
   "outputs": [],
   "source": [
    "# pca_data = np.matmul(np.transpose(u[:,300:373]), np.subtract(np_data,mean))\n",
    "# pca_data = np.matmul(np.transpose(u), np.subtract(np_data,mean))"
   ]
  },
  {
   "cell_type": "code",
   "execution_count": 59,
   "metadata": {},
   "outputs": [
    {
     "data": {
      "text/plain": [
       "(100, 103)"
      ]
     },
     "execution_count": 59,
     "metadata": {},
     "output_type": "execute_result"
    }
   ],
   "source": [
    "weights.shape"
   ]
  },
  {
   "cell_type": "markdown",
   "metadata": {},
   "source": [
    "### After playing with the number of features, for random forest, using 30 features produces the best result"
   ]
  },
  {
   "cell_type": "code",
   "execution_count": 60,
   "metadata": {},
   "outputs": [],
   "source": [
    "pca_data = np.matmul(np.transpose(u[:,70:]), np.subtract(np_data,mean))"
   ]
  },
  {
   "cell_type": "code",
   "execution_count": 61,
   "metadata": {},
   "outputs": [
    {
     "data": {
      "text/plain": [
       "(30, 103)"
      ]
     },
     "execution_count": 61,
     "metadata": {},
     "output_type": "execute_result"
    }
   ],
   "source": [
    "pca_data.shape"
   ]
  },
  {
   "cell_type": "markdown",
   "metadata": {},
   "source": [
    "## Split into train/test"
   ]
  },
  {
   "cell_type": "code",
   "execution_count": 62,
   "metadata": {},
   "outputs": [],
   "source": [
    "pd_pca=pd.DataFrame(pca_data)"
   ]
  },
  {
   "cell_type": "code",
   "execution_count": 63,
   "metadata": {},
   "outputs": [],
   "source": [
    "# data_heading=data.columns\n",
    "# id_refs=data['ID_REF']"
   ]
  },
  {
   "cell_type": "code",
   "execution_count": 64,
   "metadata": {},
   "outputs": [
    {
     "ename": "ValueError",
     "evalue": "Length mismatch: Expected axis has 103 elements, new values have 102 elements",
     "output_type": "error",
     "traceback": [
      "\u001b[0;31m---------------------------------------------------------------------------\u001b[0m",
      "\u001b[0;31mValueError\u001b[0m                                Traceback (most recent call last)",
      "\u001b[0;32m<ipython-input-64-2e1b10b27641>\u001b[0m in \u001b[0;36m<module>\u001b[0;34m\u001b[0m\n\u001b[1;32m      1\u001b[0m \u001b[0;31m# idk i just realized we dont need to make it into a pandas data frame again lol\u001b[0m\u001b[0;34m\u001b[0m\u001b[0;34m\u001b[0m\u001b[0;34m\u001b[0m\u001b[0m\n\u001b[0;32m----> 2\u001b[0;31m \u001b[0mpd_pca\u001b[0m\u001b[0;34m.\u001b[0m\u001b[0mcolumns\u001b[0m\u001b[0;34m=\u001b[0m\u001b[0mlung_data\u001b[0m\u001b[0;34m.\u001b[0m\u001b[0mcolumns\u001b[0m\u001b[0;34m[\u001b[0m\u001b[0;36m1\u001b[0m\u001b[0;34m:\u001b[0m\u001b[0;34m]\u001b[0m\u001b[0;34m\u001b[0m\u001b[0;34m\u001b[0m\u001b[0m\n\u001b[0m\u001b[1;32m      3\u001b[0m \u001b[0mpd_pca\u001b[0m\u001b[0;34m[\u001b[0m\u001b[0;34m'ID_REF'\u001b[0m\u001b[0;34m]\u001b[0m \u001b[0;34m=\u001b[0m \u001b[0mid_refs\u001b[0m\u001b[0;34m\u001b[0m\u001b[0;34m\u001b[0m\u001b[0m\n",
      "\u001b[0;32m/usr/local/lib/python3.7/site-packages/pandas/core/generic.py\u001b[0m in \u001b[0;36m__setattr__\u001b[0;34m(self, name, value)\u001b[0m\n\u001b[1;32m   5190\u001b[0m         \u001b[0;32mtry\u001b[0m\u001b[0;34m:\u001b[0m\u001b[0;34m\u001b[0m\u001b[0;34m\u001b[0m\u001b[0m\n\u001b[1;32m   5191\u001b[0m             \u001b[0mobject\u001b[0m\u001b[0;34m.\u001b[0m\u001b[0m__getattribute__\u001b[0m\u001b[0;34m(\u001b[0m\u001b[0mself\u001b[0m\u001b[0;34m,\u001b[0m \u001b[0mname\u001b[0m\u001b[0;34m)\u001b[0m\u001b[0;34m\u001b[0m\u001b[0;34m\u001b[0m\u001b[0m\n\u001b[0;32m-> 5192\u001b[0;31m             \u001b[0;32mreturn\u001b[0m \u001b[0mobject\u001b[0m\u001b[0;34m.\u001b[0m\u001b[0m__setattr__\u001b[0m\u001b[0;34m(\u001b[0m\u001b[0mself\u001b[0m\u001b[0;34m,\u001b[0m \u001b[0mname\u001b[0m\u001b[0;34m,\u001b[0m \u001b[0mvalue\u001b[0m\u001b[0;34m)\u001b[0m\u001b[0;34m\u001b[0m\u001b[0;34m\u001b[0m\u001b[0m\n\u001b[0m\u001b[1;32m   5193\u001b[0m         \u001b[0;32mexcept\u001b[0m \u001b[0mAttributeError\u001b[0m\u001b[0;34m:\u001b[0m\u001b[0;34m\u001b[0m\u001b[0;34m\u001b[0m\u001b[0m\n\u001b[1;32m   5194\u001b[0m             \u001b[0;32mpass\u001b[0m\u001b[0;34m\u001b[0m\u001b[0;34m\u001b[0m\u001b[0m\n",
      "\u001b[0;32mpandas/_libs/properties.pyx\u001b[0m in \u001b[0;36mpandas._libs.properties.AxisProperty.__set__\u001b[0;34m()\u001b[0m\n",
      "\u001b[0;32m/usr/local/lib/python3.7/site-packages/pandas/core/generic.py\u001b[0m in \u001b[0;36m_set_axis\u001b[0;34m(self, axis, labels)\u001b[0m\n\u001b[1;32m    688\u001b[0m \u001b[0;34m\u001b[0m\u001b[0m\n\u001b[1;32m    689\u001b[0m     \u001b[0;32mdef\u001b[0m \u001b[0m_set_axis\u001b[0m\u001b[0;34m(\u001b[0m\u001b[0mself\u001b[0m\u001b[0;34m,\u001b[0m \u001b[0maxis\u001b[0m\u001b[0;34m,\u001b[0m \u001b[0mlabels\u001b[0m\u001b[0;34m)\u001b[0m\u001b[0;34m:\u001b[0m\u001b[0;34m\u001b[0m\u001b[0;34m\u001b[0m\u001b[0m\n\u001b[0;32m--> 690\u001b[0;31m         \u001b[0mself\u001b[0m\u001b[0;34m.\u001b[0m\u001b[0m_data\u001b[0m\u001b[0;34m.\u001b[0m\u001b[0mset_axis\u001b[0m\u001b[0;34m(\u001b[0m\u001b[0maxis\u001b[0m\u001b[0;34m,\u001b[0m \u001b[0mlabels\u001b[0m\u001b[0;34m)\u001b[0m\u001b[0;34m\u001b[0m\u001b[0;34m\u001b[0m\u001b[0m\n\u001b[0m\u001b[1;32m    691\u001b[0m         \u001b[0mself\u001b[0m\u001b[0;34m.\u001b[0m\u001b[0m_clear_item_cache\u001b[0m\u001b[0;34m(\u001b[0m\u001b[0;34m)\u001b[0m\u001b[0;34m\u001b[0m\u001b[0;34m\u001b[0m\u001b[0m\n\u001b[1;32m    692\u001b[0m \u001b[0;34m\u001b[0m\u001b[0m\n",
      "\u001b[0;32m/usr/local/lib/python3.7/site-packages/pandas/core/internals/managers.py\u001b[0m in \u001b[0;36mset_axis\u001b[0;34m(self, axis, new_labels)\u001b[0m\n\u001b[1;32m    181\u001b[0m             raise ValueError(\n\u001b[1;32m    182\u001b[0m                 \u001b[0;34m\"Length mismatch: Expected axis has {old} elements, new \"\u001b[0m\u001b[0;34m\u001b[0m\u001b[0;34m\u001b[0m\u001b[0m\n\u001b[0;32m--> 183\u001b[0;31m                 \u001b[0;34m\"values have {new} elements\"\u001b[0m\u001b[0;34m.\u001b[0m\u001b[0mformat\u001b[0m\u001b[0;34m(\u001b[0m\u001b[0mold\u001b[0m\u001b[0;34m=\u001b[0m\u001b[0mold_len\u001b[0m\u001b[0;34m,\u001b[0m \u001b[0mnew\u001b[0m\u001b[0;34m=\u001b[0m\u001b[0mnew_len\u001b[0m\u001b[0;34m)\u001b[0m\u001b[0;34m\u001b[0m\u001b[0;34m\u001b[0m\u001b[0m\n\u001b[0m\u001b[1;32m    184\u001b[0m             )\n\u001b[1;32m    185\u001b[0m \u001b[0;34m\u001b[0m\u001b[0m\n",
      "\u001b[0;31mValueError\u001b[0m: Length mismatch: Expected axis has 103 elements, new values have 102 elements"
     ]
    }
   ],
   "source": [
    "# idk i just realized we dont need to make it into a pandas data frame again lol \n",
    "pd_pca.columns=lung_data.columns[1:]\n",
    "pd_pca['ID_REF'] = id_refs"
   ]
  },
  {
   "cell_type": "code",
   "execution_count": 17,
   "metadata": {},
   "outputs": [
    {
     "data": {
      "text/html": [
       "<div>\n",
       "<style scoped>\n",
       "    .dataframe tbody tr th:only-of-type {\n",
       "        vertical-align: middle;\n",
       "    }\n",
       "\n",
       "    .dataframe tbody tr th {\n",
       "        vertical-align: top;\n",
       "    }\n",
       "\n",
       "    .dataframe thead th {\n",
       "        text-align: right;\n",
       "    }\n",
       "</style>\n",
       "<table border=\"1\" class=\"dataframe\">\n",
       "  <thead>\n",
       "    <tr style=\"text-align: right;\">\n",
       "      <th></th>\n",
       "      <th>GSM279974</th>\n",
       "      <th>GSM279975</th>\n",
       "      <th>GSM279977</th>\n",
       "      <th>GSM279978</th>\n",
       "      <th>GSM352095</th>\n",
       "      <th>GSM352114</th>\n",
       "      <th>GSM352127</th>\n",
       "      <th>GSM352132</th>\n",
       "      <th>GSM359477</th>\n",
       "      <th>GSM359478</th>\n",
       "      <th>...</th>\n",
       "      <th>GSM2263284</th>\n",
       "      <th>GSM2263287</th>\n",
       "      <th>GSM2263288</th>\n",
       "      <th>GSM2263292</th>\n",
       "      <th>GSM2263294</th>\n",
       "      <th>GSM2263295</th>\n",
       "      <th>GSM2263298</th>\n",
       "      <th>GSM2263299</th>\n",
       "      <th>GSM2263302</th>\n",
       "      <th>ID_REF</th>\n",
       "    </tr>\n",
       "  </thead>\n",
       "  <tbody>\n",
       "    <tr>\n",
       "      <th>0</th>\n",
       "      <td>-0.401087</td>\n",
       "      <td>10.598072</td>\n",
       "      <td>-0.939094</td>\n",
       "      <td>3.566807</td>\n",
       "      <td>-27.123538</td>\n",
       "      <td>-29.543356</td>\n",
       "      <td>-9.478082</td>\n",
       "      <td>-21.747829</td>\n",
       "      <td>84.177215</td>\n",
       "      <td>65.337357</td>\n",
       "      <td>...</td>\n",
       "      <td>33.831482</td>\n",
       "      <td>42.401741</td>\n",
       "      <td>36.026228</td>\n",
       "      <td>36.832872</td>\n",
       "      <td>35.139092</td>\n",
       "      <td>37.242588</td>\n",
       "      <td>37.890971</td>\n",
       "      <td>33.255908</td>\n",
       "      <td>21.239760</td>\n",
       "      <td>1007_s_at</td>\n",
       "    </tr>\n",
       "    <tr>\n",
       "      <th>1</th>\n",
       "      <td>67.111758</td>\n",
       "      <td>75.555435</td>\n",
       "      <td>66.861093</td>\n",
       "      <td>69.070920</td>\n",
       "      <td>-398.718115</td>\n",
       "      <td>-396.098497</td>\n",
       "      <td>-390.562556</td>\n",
       "      <td>-396.635086</td>\n",
       "      <td>165.531244</td>\n",
       "      <td>151.437059</td>\n",
       "      <td>...</td>\n",
       "      <td>-93.292071</td>\n",
       "      <td>-108.508993</td>\n",
       "      <td>-93.180930</td>\n",
       "      <td>-90.958962</td>\n",
       "      <td>-89.093411</td>\n",
       "      <td>-98.816499</td>\n",
       "      <td>-97.326917</td>\n",
       "      <td>-94.192293</td>\n",
       "      <td>-86.341791</td>\n",
       "      <td>1053_at</td>\n",
       "    </tr>\n",
       "    <tr>\n",
       "      <th>2</th>\n",
       "      <td>5.784552</td>\n",
       "      <td>5.050702</td>\n",
       "      <td>8.847930</td>\n",
       "      <td>11.891135</td>\n",
       "      <td>-16.316464</td>\n",
       "      <td>-20.629187</td>\n",
       "      <td>-20.107462</td>\n",
       "      <td>-19.609792</td>\n",
       "      <td>-1.351972</td>\n",
       "      <td>0.885325</td>\n",
       "      <td>...</td>\n",
       "      <td>-9.433478</td>\n",
       "      <td>-9.753803</td>\n",
       "      <td>-10.115771</td>\n",
       "      <td>-4.698363</td>\n",
       "      <td>-3.784993</td>\n",
       "      <td>-3.761507</td>\n",
       "      <td>-3.661248</td>\n",
       "      <td>-7.862866</td>\n",
       "      <td>-2.171137</td>\n",
       "      <td>117_at</td>\n",
       "    </tr>\n",
       "    <tr>\n",
       "      <th>3</th>\n",
       "      <td>0.148370</td>\n",
       "      <td>-5.275391</td>\n",
       "      <td>-1.756718</td>\n",
       "      <td>-6.737493</td>\n",
       "      <td>5.826543</td>\n",
       "      <td>9.716483</td>\n",
       "      <td>3.755398</td>\n",
       "      <td>4.650543</td>\n",
       "      <td>-9.808887</td>\n",
       "      <td>5.746883</td>\n",
       "      <td>...</td>\n",
       "      <td>4.027952</td>\n",
       "      <td>7.098473</td>\n",
       "      <td>8.490682</td>\n",
       "      <td>9.479645</td>\n",
       "      <td>3.124629</td>\n",
       "      <td>4.367049</td>\n",
       "      <td>5.808902</td>\n",
       "      <td>0.601274</td>\n",
       "      <td>3.596484</td>\n",
       "      <td>121_at</td>\n",
       "    </tr>\n",
       "    <tr>\n",
       "      <th>4</th>\n",
       "      <td>3.705249</td>\n",
       "      <td>2.975812</td>\n",
       "      <td>0.795524</td>\n",
       "      <td>4.046372</td>\n",
       "      <td>6.035779</td>\n",
       "      <td>2.973593</td>\n",
       "      <td>-3.552717</td>\n",
       "      <td>1.568011</td>\n",
       "      <td>5.187784</td>\n",
       "      <td>-3.843314</td>\n",
       "      <td>...</td>\n",
       "      <td>-7.809884</td>\n",
       "      <td>-5.245510</td>\n",
       "      <td>-4.781682</td>\n",
       "      <td>-8.095687</td>\n",
       "      <td>-9.305659</td>\n",
       "      <td>-6.714148</td>\n",
       "      <td>-9.180525</td>\n",
       "      <td>-10.679148</td>\n",
       "      <td>-11.781227</td>\n",
       "      <td>1255_g_at</td>\n",
       "    </tr>\n",
       "  </tbody>\n",
       "</table>\n",
       "<p>5 rows × 103 columns</p>\n",
       "</div>"
      ],
      "text/plain": [
       "   GSM279974  GSM279975  GSM279977  GSM279978   GSM352095   GSM352114  \\\n",
       "0  -0.401087  10.598072  -0.939094   3.566807  -27.123538  -29.543356   \n",
       "1  67.111758  75.555435  66.861093  69.070920 -398.718115 -396.098497   \n",
       "2   5.784552   5.050702   8.847930  11.891135  -16.316464  -20.629187   \n",
       "3   0.148370  -5.275391  -1.756718  -6.737493    5.826543    9.716483   \n",
       "4   3.705249   2.975812   0.795524   4.046372    6.035779    2.973593   \n",
       "\n",
       "    GSM352127   GSM352132   GSM359477   GSM359478  ...  GSM2263284  \\\n",
       "0   -9.478082  -21.747829   84.177215   65.337357  ...   33.831482   \n",
       "1 -390.562556 -396.635086  165.531244  151.437059  ...  -93.292071   \n",
       "2  -20.107462  -19.609792   -1.351972    0.885325  ...   -9.433478   \n",
       "3    3.755398    4.650543   -9.808887    5.746883  ...    4.027952   \n",
       "4   -3.552717    1.568011    5.187784   -3.843314  ...   -7.809884   \n",
       "\n",
       "   GSM2263287  GSM2263288  GSM2263292  GSM2263294  GSM2263295  GSM2263298  \\\n",
       "0   42.401741   36.026228   36.832872   35.139092   37.242588   37.890971   \n",
       "1 -108.508993  -93.180930  -90.958962  -89.093411  -98.816499  -97.326917   \n",
       "2   -9.753803  -10.115771   -4.698363   -3.784993   -3.761507   -3.661248   \n",
       "3    7.098473    8.490682    9.479645    3.124629    4.367049    5.808902   \n",
       "4   -5.245510   -4.781682   -8.095687   -9.305659   -6.714148   -9.180525   \n",
       "\n",
       "   GSM2263299  GSM2263302     ID_REF  \n",
       "0   33.255908   21.239760  1007_s_at  \n",
       "1  -94.192293  -86.341791    1053_at  \n",
       "2   -7.862866   -2.171137     117_at  \n",
       "3    0.601274    3.596484     121_at  \n",
       "4  -10.679148  -11.781227  1255_g_at  \n",
       "\n",
       "[5 rows x 103 columns]"
      ]
     },
     "execution_count": 17,
     "metadata": {},
     "output_type": "execute_result"
    }
   ],
   "source": [
    "pd_pca.head()"
   ]
  },
  {
   "cell_type": "code",
   "execution_count": 18,
   "metadata": {},
   "outputs": [],
   "source": [
    "#pd_pca.to_csv(\"mirnas_all_pca_500_88.txt\", sep=\"\\t\")"
   ]
  },
  {
   "cell_type": "code",
   "execution_count": 65,
   "metadata": {},
   "outputs": [
    {
     "data": {
      "text/plain": [
       "(30, 103)"
      ]
     },
     "execution_count": 65,
     "metadata": {},
     "output_type": "execute_result"
    }
   ],
   "source": [
    "# need data to be back in numpy to work with lolol\n",
    "pca_data.shape"
   ]
  },
  {
   "cell_type": "code",
   "execution_count": 66,
   "metadata": {},
   "outputs": [],
   "source": [
    "# get labels \n",
    "# sample_labels=labels['Sample_label'].values"
   ]
  },
  {
   "cell_type": "code",
   "execution_count": 67,
   "metadata": {},
   "outputs": [],
   "source": [
    "#sample_labels = ['Normal' if x=='Metastasis Normal' or x=='Primary Normal' else x for x in labels['Sample_label'].values]\n",
    "#sample_labels=np.asarray(sample_labels)"
   ]
  },
  {
   "cell_type": "code",
   "execution_count": 68,
   "metadata": {},
   "outputs": [],
   "source": [
    "sample_labels = lung_labels.values"
   ]
  },
  {
   "cell_type": "code",
   "execution_count": 69,
   "metadata": {},
   "outputs": [
    {
     "data": {
      "text/plain": [
       "103"
      ]
     },
     "execution_count": 69,
     "metadata": {},
     "output_type": "execute_result"
    }
   ],
   "source": [
    "len(sample_labels)"
   ]
  },
  {
   "cell_type": "code",
   "execution_count": 70,
   "metadata": {},
   "outputs": [
    {
     "data": {
      "text/plain": [
       "(array(['breast', 'kindey', 'liver'], dtype=object), array([ 9, 79, 15]))"
      ]
     },
     "execution_count": 70,
     "metadata": {},
     "output_type": "execute_result"
    }
   ],
   "source": [
    "np.unique(sample_labels,return_counts=True)"
   ]
  },
  {
   "cell_type": "code",
   "execution_count": 71,
   "metadata": {},
   "outputs": [
    {
     "name": "stdout",
     "output_type": "stream",
     "text": [
      "103\n"
     ]
    },
    {
     "ename": "IndexError",
     "evalue": "boolean index did not match indexed array along dimension 0; dimension is 1494 but corresponding boolean dimension is 103",
     "output_type": "error",
     "traceback": [
      "\u001b[0;31m---------------------------------------------------------------------------\u001b[0m",
      "\u001b[0;31mIndexError\u001b[0m                                Traceback (most recent call last)",
      "\u001b[0;32m<ipython-input-71-395227f392a3>\u001b[0m in \u001b[0;36m<module>\u001b[0;34m\u001b[0m\n\u001b[1;32m     20\u001b[0m \u001b[0;34m\u001b[0m\u001b[0m\n\u001b[1;32m     21\u001b[0m \u001b[0mgsms\u001b[0m\u001b[0;34m=\u001b[0m\u001b[0mdata\u001b[0m\u001b[0;34m.\u001b[0m\u001b[0mcolumns\u001b[0m\u001b[0;34m[\u001b[0m\u001b[0;36m1\u001b[0m\u001b[0;34m:\u001b[0m\u001b[0;34m]\u001b[0m\u001b[0;34m\u001b[0m\u001b[0;34m\u001b[0m\u001b[0m\n\u001b[0;32m---> 22\u001b[0;31m \u001b[0mtrain_gsm\u001b[0m \u001b[0;34m=\u001b[0m \u001b[0mgsms\u001b[0m\u001b[0;34m[\u001b[0m\u001b[0mii\u001b[0m\u001b[0;34m]\u001b[0m\u001b[0;34m\u001b[0m\u001b[0;34m\u001b[0m\u001b[0m\n\u001b[0m\u001b[1;32m     23\u001b[0m \u001b[0mtest_gsm\u001b[0m\u001b[0;34m=\u001b[0m\u001b[0mgsms\u001b[0m\u001b[0;34m[\u001b[0m\u001b[0;34m~\u001b[0m\u001b[0mii\u001b[0m\u001b[0;34m]\u001b[0m\u001b[0;34m\u001b[0m\u001b[0;34m\u001b[0m\u001b[0m\n\u001b[1;32m     24\u001b[0m \u001b[0;31m# train = np_data[ii]\u001b[0m\u001b[0;34m\u001b[0m\u001b[0;34m\u001b[0m\u001b[0;34m\u001b[0m\u001b[0m\n",
      "\u001b[0;32m/usr/local/lib/python3.7/site-packages/pandas/core/indexes/base.py\u001b[0m in \u001b[0;36m__getitem__\u001b[0;34m(self, key)\u001b[0m\n\u001b[1;32m   4289\u001b[0m \u001b[0;34m\u001b[0m\u001b[0m\n\u001b[1;32m   4290\u001b[0m         \u001b[0mkey\u001b[0m \u001b[0;34m=\u001b[0m \u001b[0mcom\u001b[0m\u001b[0;34m.\u001b[0m\u001b[0mvalues_from_object\u001b[0m\u001b[0;34m(\u001b[0m\u001b[0mkey\u001b[0m\u001b[0;34m)\u001b[0m\u001b[0;34m\u001b[0m\u001b[0;34m\u001b[0m\u001b[0m\n\u001b[0;32m-> 4291\u001b[0;31m         \u001b[0mresult\u001b[0m \u001b[0;34m=\u001b[0m \u001b[0mgetitem\u001b[0m\u001b[0;34m(\u001b[0m\u001b[0mkey\u001b[0m\u001b[0;34m)\u001b[0m\u001b[0;34m\u001b[0m\u001b[0;34m\u001b[0m\u001b[0m\n\u001b[0m\u001b[1;32m   4292\u001b[0m         \u001b[0;32mif\u001b[0m \u001b[0;32mnot\u001b[0m \u001b[0mis_scalar\u001b[0m\u001b[0;34m(\u001b[0m\u001b[0mresult\u001b[0m\u001b[0;34m)\u001b[0m\u001b[0;34m:\u001b[0m\u001b[0;34m\u001b[0m\u001b[0;34m\u001b[0m\u001b[0m\n\u001b[1;32m   4293\u001b[0m             \u001b[0;32mreturn\u001b[0m \u001b[0mpromote\u001b[0m\u001b[0;34m(\u001b[0m\u001b[0mresult\u001b[0m\u001b[0;34m)\u001b[0m\u001b[0;34m\u001b[0m\u001b[0;34m\u001b[0m\u001b[0m\n",
      "\u001b[0;31mIndexError\u001b[0m: boolean index did not match indexed array along dimension 0; dimension is 1494 but corresponding boolean dimension is 103"
     ]
    }
   ],
   "source": [
    "# train test split \n",
    "np.random.seed(69)\n",
    "ii = np.random.rand(len(pca_data[0])) < 0.7 \n",
    "print(len(ii))\n",
    "\n",
    "# np_data = data.values\n",
    "# np_types = types.values\n",
    "# np_labels = labels.values\n",
    "\n",
    "# # scaling data \n",
    "# from sklearn import preprocessing\n",
    "# min_max_scaler = preprocessing.MinMaxScaler()\n",
    "# np_data_min_max = min_max_scaler.fit_transform(np_data)\n",
    "\n",
    "train = pca_data[:,ii]\n",
    "test = pca_data[:,~ii]\n",
    "\n",
    "train_labels = sample_labels[ii]\n",
    "test_labels = sample_labels[~ii]\n",
    "\n",
    "gsms=data.columns[1:]\n",
    "train_gsm = gsms[ii]\n",
    "test_gsm=gsms[~ii]\n",
    "# train = np_data[ii]\n",
    "# test = np_data[~ii]\n",
    "\n",
    "# pand_train = data[ii]\n",
    "# pand_test = data[~ii]"
   ]
  },
  {
   "cell_type": "code",
   "execution_count": 19,
   "metadata": {},
   "outputs": [],
   "source": [
    "def compute_confusion_matrix(true, pred):\n",
    "    '''\n",
    "    Compute a confusion matrix using numpy for two np.arrays\n",
    "    true and pred.\n",
    "\n",
    "    Results are identical (and similar in computation time) to: \n",
    "    \"from sklearn.metrics import confusion_matrix\"\n",
    "\n",
    "    https://stackoverflow.com/questions/2148543/how-to-write-a-confusion-matrix-in-python\n",
    "    '''\n",
    "    # lol map of indicies for non-numeric classes\n",
    "    count=0\n",
    "    idx={}\n",
    "    for i in np.unique(true):\n",
    "        idx[i]=count\n",
    "        count+=1\n",
    "        \n",
    "    K = len(np.unique(true)) # Number of classes \n",
    "    result = np.zeros((K, K))\n",
    "\n",
    "    for i in range(len(true)):\n",
    "        result[idx[true[i]]][idx[pred[i]]] += 1\n",
    "        \n",
    "    print(\"Accuracy: \" + str(np.trace(result)/len(true)))\n",
    "\n",
    "    return result"
   ]
  },
  {
   "cell_type": "code",
   "execution_count": 20,
   "metadata": {},
   "outputs": [],
   "source": [
    "# idk just using this for now...can make our own CM stuff later \n",
    "from sklearn.ensemble import RandomForestClassifier\n",
    "from sklearn import metrics\n",
    "from sklearn.metrics import confusion_matrix\n",
    "from sklearn.metrics import accuracy_score"
   ]
  },
  {
   "cell_type": "code",
   "execution_count": 61,
   "metadata": {},
   "outputs": [
    {
     "name": "stdout",
     "output_type": "stream",
     "text": [
      "Accuracy:  0.8786516853932584\n"
     ]
    },
    {
     "data": {
      "text/html": [
       "<div>\n",
       "<style scoped>\n",
       "    .dataframe tbody tr th:only-of-type {\n",
       "        vertical-align: middle;\n",
       "    }\n",
       "\n",
       "    .dataframe tbody tr th {\n",
       "        vertical-align: top;\n",
       "    }\n",
       "\n",
       "    .dataframe thead th {\n",
       "        text-align: right;\n",
       "    }\n",
       "</style>\n",
       "<table border=\"1\" class=\"dataframe\">\n",
       "  <thead>\n",
       "    <tr style=\"text-align: right;\">\n",
       "      <th>Predicted</th>\n",
       "      <th>Metastasis Tumor</th>\n",
       "      <th>Normal</th>\n",
       "      <th>Primary Tumor</th>\n",
       "      <th>All</th>\n",
       "    </tr>\n",
       "    <tr>\n",
       "      <th>True</th>\n",
       "      <th></th>\n",
       "      <th></th>\n",
       "      <th></th>\n",
       "      <th></th>\n",
       "    </tr>\n",
       "  </thead>\n",
       "  <tbody>\n",
       "    <tr>\n",
       "      <td>Metastasis Tumor</td>\n",
       "      <td>47</td>\n",
       "      <td>0</td>\n",
       "      <td>28</td>\n",
       "      <td>75</td>\n",
       "    </tr>\n",
       "    <tr>\n",
       "      <td>Normal</td>\n",
       "      <td>0</td>\n",
       "      <td>15</td>\n",
       "      <td>10</td>\n",
       "      <td>25</td>\n",
       "    </tr>\n",
       "    <tr>\n",
       "      <td>Primary Tumor</td>\n",
       "      <td>16</td>\n",
       "      <td>0</td>\n",
       "      <td>329</td>\n",
       "      <td>345</td>\n",
       "    </tr>\n",
       "    <tr>\n",
       "      <td>All</td>\n",
       "      <td>63</td>\n",
       "      <td>15</td>\n",
       "      <td>367</td>\n",
       "      <td>445</td>\n",
       "    </tr>\n",
       "  </tbody>\n",
       "</table>\n",
       "</div>"
      ],
      "text/plain": [
       "Predicted         Metastasis Tumor  Normal  Primary Tumor  All\n",
       "True                                                          \n",
       "Metastasis Tumor                47       0             28   75\n",
       "Normal                           0      15             10   25\n",
       "Primary Tumor                   16       0            329  345\n",
       "All                             63      15            367  445"
      ]
     },
     "execution_count": 61,
     "metadata": {},
     "output_type": "execute_result"
    }
   ],
   "source": [
    "rfmodel = RandomForestClassifier(n_estimators=100)\n",
    "rf = rfmodel.fit(train.T, train_labels)\n",
    "\n",
    "rf_pred = rf.predict(test.T)\n",
    "\n",
    "# Model Accuracy, how often is the classifier correct\n",
    "print(\"Accuracy: \", metrics.accuracy_score(test_labels, rf_pred))\n",
    "rf_cm = confusion_matrix(test_labels, rf_pred,)\n",
    "\n",
    "y_true = pd.Series(test_labels)\n",
    "y_pred = pd.Series(rf_pred)\n",
    "\n",
    "pd.crosstab(y_true, y_pred, rownames=['True'], colnames=['Predicted'], margins=True)"
   ]
  },
  {
   "cell_type": "code",
   "execution_count": 62,
   "metadata": {},
   "outputs": [
    {
     "name": "stdout",
     "output_type": "stream",
     "text": [
      "Accuracy: 0.8786516853932584\n"
     ]
    },
    {
     "data": {
      "text/plain": [
       "<matplotlib.image.AxesImage at 0x14b95e17748>"
      ]
     },
     "execution_count": 62,
     "metadata": {},
     "output_type": "execute_result"
    },
    {
     "data": {
      "image/png": "[encoded data removed]",
      "text/plain": [
       "<Figure size 432x288 with 1 Axes>"
      ]
     },
     "metadata": {
      "needs_background": "light"
     },
     "output_type": "display_data"
    }
   ],
   "source": [
    "cm=compute_confusion_matrix(test_labels,rf_pred)\n",
    "plt.imshow(cm)"
   ]
  },
  {
   "cell_type": "code",
   "execution_count": 63,
   "metadata": {},
   "outputs": [
    {
     "name": "stdout",
     "output_type": "stream",
     "text": [
      "kappa: \n",
      "0.6376112200271452\n"
     ]
    }
   ],
   "source": [
    "from sklearn.metrics import cohen_kappa_score\n",
    "\n",
    "kappa = cohen_kappa_score(test_labels, rf_pred)\n",
    "print(\"kappa: \")\n",
    "print(kappa)"
   ]
  }
 ],
 "metadata": {
  "kernelspec": {
   "display_name": "Python 3",
   "language": "python",
   "name": "python3"
  },
  "language_info": {
   "codemirror_mode": {
    "name": "ipython",
    "version": 3
   },
   "file_extension": ".py",
   "mimetype": "text/x-python",
   "name": "python",
   "nbconvert_exporter": "python",
   "pygments_lexer": "ipython3",
   "version": "3.7.3"
  }
 },
 "nbformat": 4,
 "nbformat_minor": 2
}
