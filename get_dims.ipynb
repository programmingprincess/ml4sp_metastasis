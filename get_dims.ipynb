{
 "cells": [
  {
   "cell_type": "code",
   "execution_count": 33,
   "metadata": {},
   "outputs": [],
   "source": [
    "import GEOparse\n",
    "import matplotlib.pyplot as plt\n",
    "import pandas as pd\n",
    "import numpy as np\n",
    "import sklearn\n",
    "from sklearn.decomposition import PCA\n",
    "import scipy\n",
    "from scipy.sparse.linalg import svds "
   ]
  },
  {
   "cell_type": "code",
   "execution_count": 2,
   "metadata": {},
   "outputs": [],
   "source": [
    "data = pd.read_csv(\"mirnas_all.txt\", sep=\"\\t\")\n",
    "labels = pd.read_csv(\"mirnas_labels_all.txt\", sep=\"\\t\")"
   ]
  },
  {
   "cell_type": "code",
   "execution_count": 3,
   "metadata": {},
   "outputs": [
    {
     "data": {
      "text/html": [
       "<div>\n",
       "<style scoped>\n",
       "    .dataframe tbody tr th:only-of-type {\n",
       "        vertical-align: middle;\n",
       "    }\n",
       "\n",
       "    .dataframe tbody tr th {\n",
       "        vertical-align: top;\n",
       "    }\n",
       "\n",
       "    .dataframe thead th {\n",
       "        text-align: right;\n",
       "    }\n",
       "</style>\n",
       "<table border=\"1\" class=\"dataframe\">\n",
       "  <thead>\n",
       "    <tr style=\"text-align: right;\">\n",
       "      <th></th>\n",
       "      <th>Unnamed: 0</th>\n",
       "      <th>GSM279964</th>\n",
       "      <th>GSM279974</th>\n",
       "      <th>GSM279975</th>\n",
       "      <th>GSM279977</th>\n",
       "      <th>GSM279978</th>\n",
       "      <th>GSM279958</th>\n",
       "      <th>GSM279961</th>\n",
       "      <th>GSM279963</th>\n",
       "      <th>GSM279965</th>\n",
       "      <th>...</th>\n",
       "      <th>GSM2263282.1</th>\n",
       "      <th>GSM2263284.1</th>\n",
       "      <th>GSM2263287.1</th>\n",
       "      <th>GSM2263288.1</th>\n",
       "      <th>GSM2263292.1</th>\n",
       "      <th>GSM2263294.1</th>\n",
       "      <th>GSM2263295.1</th>\n",
       "      <th>GSM2263298.1</th>\n",
       "      <th>GSM2263299.1</th>\n",
       "      <th>GSM2263302.1</th>\n",
       "    </tr>\n",
       "  </thead>\n",
       "  <tbody>\n",
       "    <tr>\n",
       "      <th>0</th>\n",
       "      <td>1007_s_at</td>\n",
       "      <td>10.022909</td>\n",
       "      <td>9.818693</td>\n",
       "      <td>9.647424</td>\n",
       "      <td>9.841938</td>\n",
       "      <td>9.190691</td>\n",
       "      <td>10.214065</td>\n",
       "      <td>10.284017</td>\n",
       "      <td>7.008211</td>\n",
       "      <td>9.145673</td>\n",
       "      <td>...</td>\n",
       "      <td>8.647694</td>\n",
       "      <td>9.525532</td>\n",
       "      <td>9.248846</td>\n",
       "      <td>9.306287</td>\n",
       "      <td>9.145314</td>\n",
       "      <td>8.530944</td>\n",
       "      <td>8.081856</td>\n",
       "      <td>8.434029</td>\n",
       "      <td>8.726478</td>\n",
       "      <td>8.131775</td>\n",
       "    </tr>\n",
       "    <tr>\n",
       "      <th>1</th>\n",
       "      <td>1053_at</td>\n",
       "      <td>6.411660</td>\n",
       "      <td>5.665370</td>\n",
       "      <td>5.613482</td>\n",
       "      <td>5.190008</td>\n",
       "      <td>5.180046</td>\n",
       "      <td>6.396298</td>\n",
       "      <td>6.048790</td>\n",
       "      <td>5.671556</td>\n",
       "      <td>5.624627</td>\n",
       "      <td>...</td>\n",
       "      <td>6.397119</td>\n",
       "      <td>6.619812</td>\n",
       "      <td>6.722360</td>\n",
       "      <td>6.426902</td>\n",
       "      <td>6.922576</td>\n",
       "      <td>7.025303</td>\n",
       "      <td>6.750538</td>\n",
       "      <td>6.223376</td>\n",
       "      <td>6.846281</td>\n",
       "      <td>6.917279</td>\n",
       "    </tr>\n",
       "    <tr>\n",
       "      <th>2</th>\n",
       "      <td>117_at</td>\n",
       "      <td>6.181633</td>\n",
       "      <td>5.700626</td>\n",
       "      <td>5.786576</td>\n",
       "      <td>5.237599</td>\n",
       "      <td>6.131352</td>\n",
       "      <td>7.620443</td>\n",
       "      <td>6.481317</td>\n",
       "      <td>5.739559</td>\n",
       "      <td>6.072929</td>\n",
       "      <td>...</td>\n",
       "      <td>7.384940</td>\n",
       "      <td>6.108547</td>\n",
       "      <td>7.219937</td>\n",
       "      <td>6.434265</td>\n",
       "      <td>6.027906</td>\n",
       "      <td>7.149351</td>\n",
       "      <td>7.596471</td>\n",
       "      <td>7.694820</td>\n",
       "      <td>6.647473</td>\n",
       "      <td>7.124813</td>\n",
       "    </tr>\n",
       "    <tr>\n",
       "      <th>3</th>\n",
       "      <td>121_at</td>\n",
       "      <td>7.436633</td>\n",
       "      <td>7.053211</td>\n",
       "      <td>7.258615</td>\n",
       "      <td>7.562595</td>\n",
       "      <td>7.330315</td>\n",
       "      <td>7.364233</td>\n",
       "      <td>7.421833</td>\n",
       "      <td>7.620457</td>\n",
       "      <td>7.507055</td>\n",
       "      <td>...</td>\n",
       "      <td>9.614226</td>\n",
       "      <td>9.309642</td>\n",
       "      <td>9.291900</td>\n",
       "      <td>9.807605</td>\n",
       "      <td>9.701834</td>\n",
       "      <td>8.903797</td>\n",
       "      <td>8.225796</td>\n",
       "      <td>8.990390</td>\n",
       "      <td>9.270007</td>\n",
       "      <td>10.512534</td>\n",
       "    </tr>\n",
       "    <tr>\n",
       "      <th>4</th>\n",
       "      <td>1255_g_at</td>\n",
       "      <td>2.887094</td>\n",
       "      <td>3.000947</td>\n",
       "      <td>3.121344</td>\n",
       "      <td>3.086248</td>\n",
       "      <td>3.480671</td>\n",
       "      <td>2.905494</td>\n",
       "      <td>2.968376</td>\n",
       "      <td>3.221801</td>\n",
       "      <td>3.069448</td>\n",
       "      <td>...</td>\n",
       "      <td>3.487416</td>\n",
       "      <td>3.369951</td>\n",
       "      <td>3.571586</td>\n",
       "      <td>3.324024</td>\n",
       "      <td>3.689759</td>\n",
       "      <td>3.515181</td>\n",
       "      <td>3.414399</td>\n",
       "      <td>3.292489</td>\n",
       "      <td>3.466469</td>\n",
       "      <td>3.369423</td>\n",
       "    </tr>\n",
       "  </tbody>\n",
       "</table>\n",
       "<p>5 rows × 1699 columns</p>\n",
       "</div>"
      ],
      "text/plain": [
       "  Unnamed: 0  GSM279964  GSM279974  GSM279975  GSM279977  GSM279978  \\\n",
       "0  1007_s_at  10.022909   9.818693   9.647424   9.841938   9.190691   \n",
       "1    1053_at   6.411660   5.665370   5.613482   5.190008   5.180046   \n",
       "2     117_at   6.181633   5.700626   5.786576   5.237599   6.131352   \n",
       "3     121_at   7.436633   7.053211   7.258615   7.562595   7.330315   \n",
       "4  1255_g_at   2.887094   3.000947   3.121344   3.086248   3.480671   \n",
       "\n",
       "   GSM279958  GSM279961  GSM279963  GSM279965      ...       GSM2263282.1  \\\n",
       "0  10.214065  10.284017   7.008211   9.145673      ...           8.647694   \n",
       "1   6.396298   6.048790   5.671556   5.624627      ...           6.397119   \n",
       "2   7.620443   6.481317   5.739559   6.072929      ...           7.384940   \n",
       "3   7.364233   7.421833   7.620457   7.507055      ...           9.614226   \n",
       "4   2.905494   2.968376   3.221801   3.069448      ...           3.487416   \n",
       "\n",
       "   GSM2263284.1  GSM2263287.1  GSM2263288.1  GSM2263292.1  GSM2263294.1  \\\n",
       "0      9.525532      9.248846      9.306287      9.145314      8.530944   \n",
       "1      6.619812      6.722360      6.426902      6.922576      7.025303   \n",
       "2      6.108547      7.219937      6.434265      6.027906      7.149351   \n",
       "3      9.309642      9.291900      9.807605      9.701834      8.903797   \n",
       "4      3.369951      3.571586      3.324024      3.689759      3.515181   \n",
       "\n",
       "   GSM2263295.1  GSM2263298.1  GSM2263299.1  GSM2263302.1  \n",
       "0      8.081856      8.434029      8.726478      8.131775  \n",
       "1      6.750538      6.223376      6.846281      6.917279  \n",
       "2      7.596471      7.694820      6.647473      7.124813  \n",
       "3      8.225796      8.990390      9.270007     10.512534  \n",
       "4      3.414399      3.292489      3.466469      3.369423  \n",
       "\n",
       "[5 rows x 1699 columns]"
      ]
     },
     "execution_count": 3,
     "metadata": {},
     "output_type": "execute_result"
    }
   ],
   "source": [
    "data.head()"
   ]
  },
  {
   "cell_type": "code",
   "execution_count": 4,
   "metadata": {},
   "outputs": [],
   "source": [
    "data = data.set_index(\"Unnamed: 0\")"
   ]
  },
  {
   "cell_type": "code",
   "execution_count": 5,
   "metadata": {},
   "outputs": [
    {
     "data": {
      "text/html": [
       "<div>\n",
       "<style scoped>\n",
       "    .dataframe tbody tr th:only-of-type {\n",
       "        vertical-align: middle;\n",
       "    }\n",
       "\n",
       "    .dataframe tbody tr th {\n",
       "        vertical-align: top;\n",
       "    }\n",
       "\n",
       "    .dataframe thead th {\n",
       "        text-align: right;\n",
       "    }\n",
       "</style>\n",
       "<table border=\"1\" class=\"dataframe\">\n",
       "  <thead>\n",
       "    <tr style=\"text-align: right;\">\n",
       "      <th></th>\n",
       "      <th>Unnamed: 0</th>\n",
       "      <th>dataset_id</th>\n",
       "      <th>class_id</th>\n",
       "      <th>class_name</th>\n",
       "      <th>sample_id</th>\n",
       "      <th>cancer_type</th>\n",
       "      <th>cancer_subtype</th>\n",
       "      <th>metastasis_status</th>\n",
       "      <th>primary_site</th>\n",
       "      <th>metastasis_site</th>\n",
       "      <th>sample_label</th>\n",
       "    </tr>\n",
       "  </thead>\n",
       "  <tbody>\n",
       "    <tr>\n",
       "      <th>1693</th>\n",
       "      <td>723</td>\n",
       "      <td>GSE85258</td>\n",
       "      <td>2</td>\n",
       "      <td>primary tumor</td>\n",
       "      <td>GSM2263294</td>\n",
       "      <td>kindey cancer</td>\n",
       "      <td>clear cell renal cell carcinoma</td>\n",
       "      <td>YES</td>\n",
       "      <td>kindey</td>\n",
       "      <td>lung</td>\n",
       "      <td>Primary Tumor</td>\n",
       "    </tr>\n",
       "    <tr>\n",
       "      <th>1694</th>\n",
       "      <td>724</td>\n",
       "      <td>GSE85258</td>\n",
       "      <td>2</td>\n",
       "      <td>primary tumor</td>\n",
       "      <td>GSM2263295</td>\n",
       "      <td>kindey cancer</td>\n",
       "      <td>clear cell renal cell carcinoma</td>\n",
       "      <td>YES</td>\n",
       "      <td>kindey</td>\n",
       "      <td>lung</td>\n",
       "      <td>Primary Tumor</td>\n",
       "    </tr>\n",
       "    <tr>\n",
       "      <th>1695</th>\n",
       "      <td>725</td>\n",
       "      <td>GSE85258</td>\n",
       "      <td>2</td>\n",
       "      <td>primary tumor</td>\n",
       "      <td>GSM2263298</td>\n",
       "      <td>kindey cancer</td>\n",
       "      <td>clear cell renal cell carcinoma</td>\n",
       "      <td>YES</td>\n",
       "      <td>kindey</td>\n",
       "      <td>lung</td>\n",
       "      <td>Primary Tumor</td>\n",
       "    </tr>\n",
       "    <tr>\n",
       "      <th>1696</th>\n",
       "      <td>726</td>\n",
       "      <td>GSE85258</td>\n",
       "      <td>2</td>\n",
       "      <td>primary tumor</td>\n",
       "      <td>GSM2263299</td>\n",
       "      <td>kindey cancer</td>\n",
       "      <td>clear cell renal cell carcinoma</td>\n",
       "      <td>YES</td>\n",
       "      <td>kindey</td>\n",
       "      <td>lung</td>\n",
       "      <td>Primary Tumor</td>\n",
       "    </tr>\n",
       "    <tr>\n",
       "      <th>1697</th>\n",
       "      <td>727</td>\n",
       "      <td>GSE85258</td>\n",
       "      <td>2</td>\n",
       "      <td>primary tumor</td>\n",
       "      <td>GSM2263302</td>\n",
       "      <td>kindey cancer</td>\n",
       "      <td>clear cell renal cell carcinoma</td>\n",
       "      <td>YES</td>\n",
       "      <td>kindey</td>\n",
       "      <td>lung</td>\n",
       "      <td>Primary Tumor</td>\n",
       "    </tr>\n",
       "  </tbody>\n",
       "</table>\n",
       "</div>"
      ],
      "text/plain": [
       "      Unnamed: 0 dataset_id  class_id     class_name   sample_id  \\\n",
       "1693         723   GSE85258         2  primary tumor  GSM2263294   \n",
       "1694         724   GSE85258         2  primary tumor  GSM2263295   \n",
       "1695         725   GSE85258         2  primary tumor  GSM2263298   \n",
       "1696         726   GSE85258         2  primary tumor  GSM2263299   \n",
       "1697         727   GSE85258         2  primary tumor  GSM2263302   \n",
       "\n",
       "        cancer_type                   cancer_subtype metastasis_status  \\\n",
       "1693  kindey cancer  clear cell renal cell carcinoma               YES   \n",
       "1694  kindey cancer  clear cell renal cell carcinoma               YES   \n",
       "1695  kindey cancer  clear cell renal cell carcinoma               YES   \n",
       "1696  kindey cancer  clear cell renal cell carcinoma               YES   \n",
       "1697  kindey cancer  clear cell renal cell carcinoma               YES   \n",
       "\n",
       "     primary_site metastasis_site   sample_label  \n",
       "1693       kindey            lung  Primary Tumor  \n",
       "1694       kindey            lung  Primary Tumor  \n",
       "1695       kindey            lung  Primary Tumor  \n",
       "1696       kindey            lung  Primary Tumor  \n",
       "1697       kindey            lung  Primary Tumor  "
      ]
     },
     "execution_count": 5,
     "metadata": {},
     "output_type": "execute_result"
    }
   ],
   "source": [
    "labels.tail()"
   ]
  },
  {
   "cell_type": "code",
   "execution_count": 6,
   "metadata": {},
   "outputs": [
    {
     "data": {
      "text/html": [
       "<div>\n",
       "<style scoped>\n",
       "    .dataframe tbody tr th:only-of-type {\n",
       "        vertical-align: middle;\n",
       "    }\n",
       "\n",
       "    .dataframe tbody tr th {\n",
       "        vertical-align: top;\n",
       "    }\n",
       "\n",
       "    .dataframe thead th {\n",
       "        text-align: right;\n",
       "    }\n",
       "</style>\n",
       "<table border=\"1\" class=\"dataframe\">\n",
       "  <thead>\n",
       "    <tr style=\"text-align: right;\">\n",
       "      <th></th>\n",
       "      <th>GSM279964</th>\n",
       "      <th>GSM279974</th>\n",
       "      <th>GSM279975</th>\n",
       "      <th>GSM279977</th>\n",
       "      <th>GSM279978</th>\n",
       "      <th>GSM279958</th>\n",
       "      <th>GSM279961</th>\n",
       "      <th>GSM279963</th>\n",
       "      <th>GSM279965</th>\n",
       "      <th>GSM279966</th>\n",
       "      <th>...</th>\n",
       "      <th>GSM2263282.1</th>\n",
       "      <th>GSM2263284.1</th>\n",
       "      <th>GSM2263287.1</th>\n",
       "      <th>GSM2263288.1</th>\n",
       "      <th>GSM2263292.1</th>\n",
       "      <th>GSM2263294.1</th>\n",
       "      <th>GSM2263295.1</th>\n",
       "      <th>GSM2263298.1</th>\n",
       "      <th>GSM2263299.1</th>\n",
       "      <th>GSM2263302.1</th>\n",
       "    </tr>\n",
       "    <tr>\n",
       "      <th>Unnamed: 0</th>\n",
       "      <th></th>\n",
       "      <th></th>\n",
       "      <th></th>\n",
       "      <th></th>\n",
       "      <th></th>\n",
       "      <th></th>\n",
       "      <th></th>\n",
       "      <th></th>\n",
       "      <th></th>\n",
       "      <th></th>\n",
       "      <th></th>\n",
       "      <th></th>\n",
       "      <th></th>\n",
       "      <th></th>\n",
       "      <th></th>\n",
       "      <th></th>\n",
       "      <th></th>\n",
       "      <th></th>\n",
       "      <th></th>\n",
       "      <th></th>\n",
       "      <th></th>\n",
       "    </tr>\n",
       "  </thead>\n",
       "  <tbody>\n",
       "    <tr>\n",
       "      <th>1007_s_at</th>\n",
       "      <td>10.022909</td>\n",
       "      <td>9.818693</td>\n",
       "      <td>9.647424</td>\n",
       "      <td>9.841938</td>\n",
       "      <td>9.190691</td>\n",
       "      <td>10.214065</td>\n",
       "      <td>10.284017</td>\n",
       "      <td>7.008211</td>\n",
       "      <td>9.145673</td>\n",
       "      <td>9.437047</td>\n",
       "      <td>...</td>\n",
       "      <td>8.647694</td>\n",
       "      <td>9.525532</td>\n",
       "      <td>9.248846</td>\n",
       "      <td>9.306287</td>\n",
       "      <td>9.145314</td>\n",
       "      <td>8.530944</td>\n",
       "      <td>8.081856</td>\n",
       "      <td>8.434029</td>\n",
       "      <td>8.726478</td>\n",
       "      <td>8.131775</td>\n",
       "    </tr>\n",
       "    <tr>\n",
       "      <th>1053_at</th>\n",
       "      <td>6.411660</td>\n",
       "      <td>5.665370</td>\n",
       "      <td>5.613482</td>\n",
       "      <td>5.190008</td>\n",
       "      <td>5.180046</td>\n",
       "      <td>6.396298</td>\n",
       "      <td>6.048790</td>\n",
       "      <td>5.671556</td>\n",
       "      <td>5.624627</td>\n",
       "      <td>5.645465</td>\n",
       "      <td>...</td>\n",
       "      <td>6.397119</td>\n",
       "      <td>6.619812</td>\n",
       "      <td>6.722360</td>\n",
       "      <td>6.426902</td>\n",
       "      <td>6.922576</td>\n",
       "      <td>7.025303</td>\n",
       "      <td>6.750538</td>\n",
       "      <td>6.223376</td>\n",
       "      <td>6.846281</td>\n",
       "      <td>6.917279</td>\n",
       "    </tr>\n",
       "    <tr>\n",
       "      <th>117_at</th>\n",
       "      <td>6.181633</td>\n",
       "      <td>5.700626</td>\n",
       "      <td>5.786576</td>\n",
       "      <td>5.237599</td>\n",
       "      <td>6.131352</td>\n",
       "      <td>7.620443</td>\n",
       "      <td>6.481317</td>\n",
       "      <td>5.739559</td>\n",
       "      <td>6.072929</td>\n",
       "      <td>6.017919</td>\n",
       "      <td>...</td>\n",
       "      <td>7.384940</td>\n",
       "      <td>6.108547</td>\n",
       "      <td>7.219937</td>\n",
       "      <td>6.434265</td>\n",
       "      <td>6.027906</td>\n",
       "      <td>7.149351</td>\n",
       "      <td>7.596471</td>\n",
       "      <td>7.694820</td>\n",
       "      <td>6.647473</td>\n",
       "      <td>7.124813</td>\n",
       "    </tr>\n",
       "    <tr>\n",
       "      <th>121_at</th>\n",
       "      <td>7.436633</td>\n",
       "      <td>7.053211</td>\n",
       "      <td>7.258615</td>\n",
       "      <td>7.562595</td>\n",
       "      <td>7.330315</td>\n",
       "      <td>7.364233</td>\n",
       "      <td>7.421833</td>\n",
       "      <td>7.620457</td>\n",
       "      <td>7.507055</td>\n",
       "      <td>7.529658</td>\n",
       "      <td>...</td>\n",
       "      <td>9.614226</td>\n",
       "      <td>9.309642</td>\n",
       "      <td>9.291900</td>\n",
       "      <td>9.807605</td>\n",
       "      <td>9.701834</td>\n",
       "      <td>8.903797</td>\n",
       "      <td>8.225796</td>\n",
       "      <td>8.990390</td>\n",
       "      <td>9.270007</td>\n",
       "      <td>10.512534</td>\n",
       "    </tr>\n",
       "    <tr>\n",
       "      <th>1255_g_at</th>\n",
       "      <td>2.887094</td>\n",
       "      <td>3.000947</td>\n",
       "      <td>3.121344</td>\n",
       "      <td>3.086248</td>\n",
       "      <td>3.480671</td>\n",
       "      <td>2.905494</td>\n",
       "      <td>2.968376</td>\n",
       "      <td>3.221801</td>\n",
       "      <td>3.069448</td>\n",
       "      <td>3.048298</td>\n",
       "      <td>...</td>\n",
       "      <td>3.487416</td>\n",
       "      <td>3.369951</td>\n",
       "      <td>3.571586</td>\n",
       "      <td>3.324024</td>\n",
       "      <td>3.689759</td>\n",
       "      <td>3.515181</td>\n",
       "      <td>3.414399</td>\n",
       "      <td>3.292489</td>\n",
       "      <td>3.466469</td>\n",
       "      <td>3.369423</td>\n",
       "    </tr>\n",
       "  </tbody>\n",
       "</table>\n",
       "<p>5 rows × 1698 columns</p>\n",
       "</div>"
      ],
      "text/plain": [
       "            GSM279964  GSM279974  GSM279975  GSM279977  GSM279978  GSM279958  \\\n",
       "Unnamed: 0                                                                     \n",
       "1007_s_at   10.022909   9.818693   9.647424   9.841938   9.190691  10.214065   \n",
       "1053_at      6.411660   5.665370   5.613482   5.190008   5.180046   6.396298   \n",
       "117_at       6.181633   5.700626   5.786576   5.237599   6.131352   7.620443   \n",
       "121_at       7.436633   7.053211   7.258615   7.562595   7.330315   7.364233   \n",
       "1255_g_at    2.887094   3.000947   3.121344   3.086248   3.480671   2.905494   \n",
       "\n",
       "            GSM279961  GSM279963  GSM279965  GSM279966      ...       \\\n",
       "Unnamed: 0                                                  ...        \n",
       "1007_s_at   10.284017   7.008211   9.145673   9.437047      ...        \n",
       "1053_at      6.048790   5.671556   5.624627   5.645465      ...        \n",
       "117_at       6.481317   5.739559   6.072929   6.017919      ...        \n",
       "121_at       7.421833   7.620457   7.507055   7.529658      ...        \n",
       "1255_g_at    2.968376   3.221801   3.069448   3.048298      ...        \n",
       "\n",
       "            GSM2263282.1  GSM2263284.1  GSM2263287.1  GSM2263288.1  \\\n",
       "Unnamed: 0                                                           \n",
       "1007_s_at       8.647694      9.525532      9.248846      9.306287   \n",
       "1053_at         6.397119      6.619812      6.722360      6.426902   \n",
       "117_at          7.384940      6.108547      7.219937      6.434265   \n",
       "121_at          9.614226      9.309642      9.291900      9.807605   \n",
       "1255_g_at       3.487416      3.369951      3.571586      3.324024   \n",
       "\n",
       "            GSM2263292.1  GSM2263294.1  GSM2263295.1  GSM2263298.1  \\\n",
       "Unnamed: 0                                                           \n",
       "1007_s_at       9.145314      8.530944      8.081856      8.434029   \n",
       "1053_at         6.922576      7.025303      6.750538      6.223376   \n",
       "117_at          6.027906      7.149351      7.596471      7.694820   \n",
       "121_at          9.701834      8.903797      8.225796      8.990390   \n",
       "1255_g_at       3.689759      3.515181      3.414399      3.292489   \n",
       "\n",
       "            GSM2263299.1  GSM2263302.1  \n",
       "Unnamed: 0                              \n",
       "1007_s_at       8.726478      8.131775  \n",
       "1053_at         6.846281      6.917279  \n",
       "117_at          6.647473      7.124813  \n",
       "121_at          9.270007     10.512534  \n",
       "1255_g_at       3.466469      3.369423  \n",
       "\n",
       "[5 rows x 1698 columns]"
      ]
     },
     "execution_count": 6,
     "metadata": {},
     "output_type": "execute_result"
    }
   ],
   "source": [
    "data.head()"
   ]
  },
  {
   "cell_type": "code",
   "execution_count": 7,
   "metadata": {},
   "outputs": [],
   "source": [
    "pca = PCA(n_components=1000)"
   ]
  },
  {
   "cell_type": "code",
   "execution_count": 13,
   "metadata": {},
   "outputs": [
    {
     "data": {
      "text/plain": [
       "PCA(copy=True, iterated_power='auto', n_components=1000, random_state=None,\n",
       "  svd_solver='auto', tol=0.0, whiten=False)"
      ]
     },
     "execution_count": 13,
     "metadata": {},
     "output_type": "execute_result"
    }
   ],
   "source": [
    "pca.fit(data)"
   ]
  },
  {
   "cell_type": "code",
   "execution_count": 18,
   "metadata": {},
   "outputs": [
    {
     "data": {
      "text/plain": [
       "1698"
      ]
     },
     "execution_count": 18,
     "metadata": {},
     "output_type": "execute_result"
    }
   ],
   "source": [
    "pca.n_features_"
   ]
  },
  {
   "cell_type": "code",
   "execution_count": 23,
   "metadata": {},
   "outputs": [],
   "source": [
    "def PCA(x, k):\n",
    "    # Z = W * X\n",
    "    # Z is weight matrix \n",
    "    # W is feature matrix \n",
    "    # X is input \n",
    "    \n",
    "    # get zero mean, column-wise\n",
    "    means = np.mean(x.T, axis=1)\n",
    "    x_mean = x - means\n",
    "    \n",
    "    # covariance of centered/zero-mean matrix\n",
    "    #V = np.cov(x_mean)\n",
    "    V = x_mean.dot(x_mean.T) / (x_mean.shape[1]-1)\n",
    "\n",
    "    # eigendecomposition \n",
    "    # y = lambda (eigen values)\n",
    "    # u = eigen vectors \n",
    "    y, u = scipy.sparse.linalg.eigsh(V, k = k)\n",
    "    \n",
    "    # project data\n",
    "    #P = u.T.dot(x_mean)\n",
    "    \n",
    "\n",
    "    # diagonalization to get feature matrix \n",
    "    #w = np.dot(np.diag(1/np.sqrt(y)), u.T)\n",
    "    \n",
    "    # w is features \n",
    "    #w = np.diag( 1.0/np.sqrt(y)).dot(u.T)\n",
    "    w = np.linalg.inv(np.diag(np.sqrt(y))).dot(u.T)\n",
    "    print(np.diag(np.sqrt(y)).shape)\n",
    "    # check identity \n",
    "    # print(np.round(np.dot(np.dot(w,V),w.T),3))\n",
    "    \n",
    "    # z is weights \n",
    "    z = np.dot(w, x_mean)\n",
    "    \n",
    "    return w, z, y, u"
   ]
  },
  {
   "cell_type": "code",
   "execution_count": 43,
   "metadata": {},
   "outputs": [],
   "source": [
    "def PCA(PCA_K, input_data):\n",
    "\n",
    "    total_dim, sample_n = input_data.shape\n",
    "\n",
    "    data_mean = np.reshape(np.mean(input_data, axis=1),(total_dim,1))\n",
    "    data_demean = np.subtract(input_data, data_mean)\n",
    "\n",
    "    u, s, vt = svds(data_demean, k=PCA_K)\n",
    "\n",
    "    PCA_weights = np.matmul(np.transpose(u), data_demean)\n",
    "    \n",
    "    return PCA_weights, u, s, data_mean"
   ]
  },
  {
   "cell_type": "code",
   "execution_count": 25,
   "metadata": {},
   "outputs": [],
   "source": [
    "np_data = np.array(data)"
   ]
  },
  {
   "cell_type": "code",
   "execution_count": 92,
   "metadata": {},
   "outputs": [
    {
     "data": {
      "text/plain": [
       "array([  235016.61123478,   238107.26624637,   238214.60695532,\n",
       "         241066.16411343,   242126.50200996,   244597.17613921,\n",
       "         246509.37923058,   247704.82068801,   250757.12921508,\n",
       "         253582.53034165,   255678.7744133 ,   258679.85460432,\n",
       "         259893.03102034,   262565.48434627,   263946.21750485,\n",
       "         267464.30786959,   269600.85029972,   270580.10052173,\n",
       "         272049.33280139,   276591.88285661,   278053.20518731,\n",
       "         281277.09147251,   284623.26912517,   286536.11519114,\n",
       "         289975.88516932,   291239.94553418,   294941.62440171,\n",
       "         301776.31855185,   304979.18349881,   310531.39560455,\n",
       "         313113.71107269,   314703.26853432,   321483.00492026,\n",
       "         324108.67697171,   329577.9971609 ,   330779.16945124,\n",
       "         336868.3229887 ,   340489.12815496,   341862.36649245,\n",
       "         349020.41213   ,   354865.39158193,   358353.67164149,\n",
       "         360603.36942451,   368442.87569788,   373416.79431686,\n",
       "         378542.71081928,   394397.50975584,   400283.92190944,\n",
       "         402817.21779217,   413245.84345622,   437131.99427962,\n",
       "         447809.57583464,   453499.54076181,   465423.05627428,\n",
       "         468275.95972582,   485390.43729865,   492064.5221961 ,\n",
       "         502204.52228245,   531769.78076848,   561131.13126755,\n",
       "         568818.58517677,   589361.78966206,   611690.10008139,\n",
       "         655050.37601564,   680228.55703755,   760608.68305039,\n",
       "         860051.84578834,   879480.11779273,  1009305.63106997,\n",
       "        1123047.69797201,  1162238.69276923,  1467899.0210293 ,\n",
       "       12618202.87537022])"
      ]
     },
     "execution_count": 92,
     "metadata": {},
     "output_type": "execute_result"
    }
   ],
   "source": [
    "s[300:373]"
   ]
  },
  {
   "cell_type": "code",
   "execution_count": 30,
   "metadata": {},
   "outputs": [],
   "source": [
    "temp = np_data[:,:100]"
   ]
  },
  {
   "cell_type": "code",
   "execution_count": 31,
   "metadata": {},
   "outputs": [
    {
     "data": {
      "text/plain": [
       "(100, 100)"
      ]
     },
     "execution_count": 31,
     "metadata": {},
     "output_type": "execute_result"
    }
   ],
   "source": [
    "temp.shape"
   ]
  },
  {
   "cell_type": "code",
   "execution_count": 76,
   "metadata": {},
   "outputs": [],
   "source": [
    "weights, u, s, mean = PCA(500,np_data)"
   ]
  },
  {
   "cell_type": "code",
   "execution_count": 95,
   "metadata": {},
   "outputs": [],
   "source": [
    "transformed = np.matmul(np.transpose(u[:,300:373]), np.subtract(np_data,mean))"
   ]
  },
  {
   "cell_type": "code",
   "execution_count": 96,
   "metadata": {},
   "outputs": [
    {
     "data": {
      "text/plain": [
       "(73, 1698)"
      ]
     },
     "execution_count": 96,
     "metadata": {},
     "output_type": "execute_result"
    }
   ],
   "source": [
    "transformed.shape"
   ]
  },
  {
   "cell_type": "markdown",
   "metadata": {},
   "source": [
    "### playing around with pca\n",
    "s is the singular values \n",
    "we chose cut off of ~ 50-73"
   ]
  },
  {
   "cell_type": "code",
   "execution_count": 77,
   "metadata": {},
   "outputs": [
    {
     "data": {
      "text/plain": [
       "12618202.875370225"
      ]
     },
     "execution_count": 77,
     "metadata": {},
     "output_type": "execute_result"
    }
   ],
   "source": [
    "max(s)"
   ]
  },
  {
   "cell_type": "code",
   "execution_count": 81,
   "metadata": {},
   "outputs": [
    {
     "data": {
      "text/plain": [
       "500"
      ]
     },
     "execution_count": 81,
     "metadata": {},
     "output_type": "execute_result"
    }
   ],
   "source": [
    "len(s)"
   ]
  },
  {
   "cell_type": "code",
   "execution_count": null,
   "metadata": {},
   "outputs": [],
   "source": []
  },
  {
   "cell_type": "code",
   "execution_count": 88,
   "metadata": {},
   "outputs": [
    {
     "data": {
      "text/plain": [
       "373"
      ]
     },
     "execution_count": 88,
     "metadata": {},
     "output_type": "execute_result"
    }
   ],
   "source": [
    "len(s[s>0])"
   ]
  },
  {
   "cell_type": "code",
   "execution_count": 89,
   "metadata": {},
   "outputs": [
    {
     "data": {
      "text/plain": [
       "<Container object of 373 artists>"
      ]
     },
     "execution_count": 89,
     "metadata": {},
     "output_type": "execute_result"
    },
    {
     "data": {
      "image/png": "[encoded data removed]",
      "text/plain": [
       "<matplotlib.figure.Figure at 0x7f3b7c694fd0>"
      ]
     },
     "metadata": {
      "needs_background": "light"
     },
     "output_type": "display_data"
    }
   ],
   "source": [
    "plt.bar(xrange(0,len(s[s>0])), s[s>0])"
   ]
  },
  {
   "cell_type": "code",
   "execution_count": 86,
   "metadata": {},
   "outputs": [
    {
     "data": {
      "text/plain": [
       "(500, 1698)"
      ]
     },
     "execution_count": 86,
     "metadata": {},
     "output_type": "execute_result"
    }
   ],
   "source": [
    "weights.shape"
   ]
  },
  {
   "cell_type": "code",
   "execution_count": null,
   "metadata": {},
   "outputs": [],
   "source": []
  },
  {
   "cell_type": "code",
   "execution_count": 15,
   "metadata": {},
   "outputs": [
    {
     "name": "stdout",
     "output_type": "stream",
     "text": [
      "[[ 1.92404425e-05  1.89879554e-05  1.87210838e-05 ...  1.79816449e-05\n",
      "   1.79638356e-05  1.83409387e-05]\n",
      " [-2.32008440e-05 -1.38628442e-05 -1.91757464e-05 ... -1.10316424e-05\n",
      "  -7.77321080e-06 -1.82133943e-05]\n",
      " [-1.09548366e-04 -1.12643017e-04 -1.01747775e-04 ... -1.04244991e-04\n",
      "  -1.02050689e-04 -1.06546323e-04]\n",
      " ...\n",
      " [-8.26850968e-05 -4.94405040e-04  3.62189075e-04 ... -5.91256807e-05\n",
      "  -1.47483906e-04 -2.24202791e-04]\n",
      " [ 1.36781718e-04 -3.04754676e-04  4.04794709e-04 ... -1.10144739e-05\n",
      "  -1.07453848e-04  7.96010296e-05]\n",
      " [ 1.97906437e-05 -1.87920275e-04  2.21390959e-04 ... -1.15496058e-04\n",
      "  -2.96843395e-05  7.47137095e-05]]\n"
     ]
    }
   ],
   "source": [
    "print(pca.components_)"
   ]
  },
  {
   "cell_type": "code",
   "execution_count": null,
   "metadata": {},
   "outputs": [],
   "source": []
  }
 ],
 "metadata": {
  "kernelspec": {
   "display_name": "Python 2",
   "language": "python",
   "name": "python2"
  },
  "language_info": {
   "codemirror_mode": {
    "name": "ipython",
    "version": 2
   },
   "file_extension": ".py",
   "mimetype": "text/x-python",
   "name": "python",
   "nbconvert_exporter": "python",
   "pygments_lexer": "ipython2",
   "version": "2.7.5"
  }
 },
 "nbformat": 4,
 "nbformat_minor": 2
}
