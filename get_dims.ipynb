{
 "cells": [
  {
   "cell_type": "markdown",
   "metadata": {},
   "source": [
    "# Classification \n",
    "Ideas to try \n",
    "- [] MinMax scaling?"
   ]
  },
  {
   "cell_type": "code",
   "execution_count": 2,
   "metadata": {},
   "outputs": [],
   "source": [
    "# import GEOparse\n",
    "import matplotlib.pyplot as plt\n",
    "import pandas as pd\n",
    "import numpy as np\n",
    "import sklearn\n",
    "from sklearn.decomposition import PCA\n",
    "import scipy\n",
    "from scipy.sparse.linalg import svds "
   ]
  },
  {
   "cell_type": "code",
   "execution_count": 3,
   "metadata": {},
   "outputs": [],
   "source": [
    "data = pd.read_csv(\"mirnas_all_nov21.txt\", sep=\"\\t\")\n",
    "labels = pd.read_csv(\"mirnas_all_labels_nov21.txt\", sep=\"\\t\")"
   ]
  },
  {
   "cell_type": "code",
   "execution_count": 4,
   "metadata": {},
   "outputs": [
    {
     "data": {
      "text/html": [
       "<div>\n",
       "<style scoped>\n",
       "    .dataframe tbody tr th:only-of-type {\n",
       "        vertical-align: middle;\n",
       "    }\n",
       "\n",
       "    .dataframe tbody tr th {\n",
       "        vertical-align: top;\n",
       "    }\n",
       "\n",
       "    .dataframe thead th {\n",
       "        text-align: right;\n",
       "    }\n",
       "</style>\n",
       "<table border=\"1\" class=\"dataframe\">\n",
       "  <thead>\n",
       "    <tr style=\"text-align: right;\">\n",
       "      <th></th>\n",
       "      <th>Dataset_id</th>\n",
       "      <th>Class_id</th>\n",
       "      <th>Class_name</th>\n",
       "      <th>Sample_id</th>\n",
       "      <th>Cancer_type</th>\n",
       "      <th>Cancer_subtype</th>\n",
       "      <th>Metastasis_status</th>\n",
       "      <th>Primary_site</th>\n",
       "      <th>Metastasis_site</th>\n",
       "      <th>Sample_label</th>\n",
       "    </tr>\n",
       "  </thead>\n",
       "  <tbody>\n",
       "    <tr>\n",
       "      <td>0</td>\n",
       "      <td>GSE11078</td>\n",
       "      <td>1</td>\n",
       "      <td>metastasis tumor of breast cancer lung metastasis</td>\n",
       "      <td>GSM279964</td>\n",
       "      <td>breast cancer</td>\n",
       "      <td>NaN</td>\n",
       "      <td>YES</td>\n",
       "      <td>breast</td>\n",
       "      <td>lung</td>\n",
       "      <td>Metastasis Tumor</td>\n",
       "    </tr>\n",
       "    <tr>\n",
       "      <td>1</td>\n",
       "      <td>GSE11078</td>\n",
       "      <td>1</td>\n",
       "      <td>metastasis tumor of breast cancer lung metastasis</td>\n",
       "      <td>GSM279974</td>\n",
       "      <td>breast cancer</td>\n",
       "      <td>NaN</td>\n",
       "      <td>YES</td>\n",
       "      <td>breast</td>\n",
       "      <td>lung</td>\n",
       "      <td>Metastasis Tumor</td>\n",
       "    </tr>\n",
       "    <tr>\n",
       "      <td>2</td>\n",
       "      <td>GSE11078</td>\n",
       "      <td>1</td>\n",
       "      <td>metastasis tumor of breast cancer lung metastasis</td>\n",
       "      <td>GSM279975</td>\n",
       "      <td>breast cancer</td>\n",
       "      <td>NaN</td>\n",
       "      <td>YES</td>\n",
       "      <td>breast</td>\n",
       "      <td>lung</td>\n",
       "      <td>Metastasis Tumor</td>\n",
       "    </tr>\n",
       "    <tr>\n",
       "      <td>3</td>\n",
       "      <td>GSE11078</td>\n",
       "      <td>1</td>\n",
       "      <td>metastasis tumor of breast cancer lung metastasis</td>\n",
       "      <td>GSM279977</td>\n",
       "      <td>breast cancer</td>\n",
       "      <td>NaN</td>\n",
       "      <td>YES</td>\n",
       "      <td>breast</td>\n",
       "      <td>lung</td>\n",
       "      <td>Metastasis Tumor</td>\n",
       "    </tr>\n",
       "    <tr>\n",
       "      <td>4</td>\n",
       "      <td>GSE11078</td>\n",
       "      <td>1</td>\n",
       "      <td>metastasis tumor of breast cancer lung metastasis</td>\n",
       "      <td>GSM279978</td>\n",
       "      <td>breast cancer</td>\n",
       "      <td>NaN</td>\n",
       "      <td>YES</td>\n",
       "      <td>breast</td>\n",
       "      <td>lung</td>\n",
       "      <td>Metastasis Tumor</td>\n",
       "    </tr>\n",
       "  </tbody>\n",
       "</table>\n",
       "</div>"
      ],
      "text/plain": [
       "  Dataset_id  Class_id                                         Class_name  \\\n",
       "0   GSE11078         1  metastasis tumor of breast cancer lung metastasis   \n",
       "1   GSE11078         1  metastasis tumor of breast cancer lung metastasis   \n",
       "2   GSE11078         1  metastasis tumor of breast cancer lung metastasis   \n",
       "3   GSE11078         1  metastasis tumor of breast cancer lung metastasis   \n",
       "4   GSE11078         1  metastasis tumor of breast cancer lung metastasis   \n",
       "\n",
       "   Sample_id    Cancer_type Cancer_subtype Metastasis_status Primary_site  \\\n",
       "0  GSM279964  breast cancer            NaN               YES       breast   \n",
       "1  GSM279974  breast cancer            NaN               YES       breast   \n",
       "2  GSM279975  breast cancer            NaN               YES       breast   \n",
       "3  GSM279977  breast cancer            NaN               YES       breast   \n",
       "4  GSM279978  breast cancer            NaN               YES       breast   \n",
       "\n",
       "  Metastasis_site      Sample_label  \n",
       "0            lung  Metastasis Tumor  \n",
       "1            lung  Metastasis Tumor  \n",
       "2            lung  Metastasis Tumor  \n",
       "3            lung  Metastasis Tumor  \n",
       "4            lung  Metastasis Tumor  "
      ]
     },
     "execution_count": 4,
     "metadata": {},
     "output_type": "execute_result"
    }
   ],
   "source": [
    "labels.head()"
   ]
  },
  {
   "cell_type": "code",
   "execution_count": 5,
   "metadata": {},
   "outputs": [
    {
     "data": {
      "text/html": [
       "<div>\n",
       "<style scoped>\n",
       "    .dataframe tbody tr th:only-of-type {\n",
       "        vertical-align: middle;\n",
       "    }\n",
       "\n",
       "    .dataframe tbody tr th {\n",
       "        vertical-align: top;\n",
       "    }\n",
       "\n",
       "    .dataframe thead th {\n",
       "        text-align: right;\n",
       "    }\n",
       "</style>\n",
       "<table border=\"1\" class=\"dataframe\">\n",
       "  <thead>\n",
       "    <tr style=\"text-align: right;\">\n",
       "      <th></th>\n",
       "      <th>ID_REF</th>\n",
       "      <th>GSM279964</th>\n",
       "      <th>GSM279974</th>\n",
       "      <th>GSM279975</th>\n",
       "      <th>GSM279977</th>\n",
       "      <th>GSM279978</th>\n",
       "      <th>GSM279958</th>\n",
       "      <th>GSM279961</th>\n",
       "      <th>GSM279963</th>\n",
       "      <th>GSM279965</th>\n",
       "      <th>...</th>\n",
       "      <th>GSM237966</th>\n",
       "      <th>GSM237967</th>\n",
       "      <th>GSM237968</th>\n",
       "      <th>GSM237969</th>\n",
       "      <th>GSM237970</th>\n",
       "      <th>GSM237972</th>\n",
       "      <th>GSM237973</th>\n",
       "      <th>GSM237974</th>\n",
       "      <th>GSM237977</th>\n",
       "      <th>GSM237978</th>\n",
       "    </tr>\n",
       "  </thead>\n",
       "  <tbody>\n",
       "    <tr>\n",
       "      <td>0</td>\n",
       "      <td>1007_s_at</td>\n",
       "      <td>10.022909</td>\n",
       "      <td>9.818693</td>\n",
       "      <td>9.647424</td>\n",
       "      <td>9.841938</td>\n",
       "      <td>9.190691</td>\n",
       "      <td>10.214065</td>\n",
       "      <td>10.284017</td>\n",
       "      <td>7.008211</td>\n",
       "      <td>9.145673</td>\n",
       "      <td>...</td>\n",
       "      <td>3739.4300</td>\n",
       "      <td>2809.7200</td>\n",
       "      <td>2350.390</td>\n",
       "      <td>4079.3500</td>\n",
       "      <td>7302.00000</td>\n",
       "      <td>2898.6400</td>\n",
       "      <td>3494.1600</td>\n",
       "      <td>5225.7500</td>\n",
       "      <td>5917.5400</td>\n",
       "      <td>4249.9400</td>\n",
       "    </tr>\n",
       "    <tr>\n",
       "      <td>1</td>\n",
       "      <td>1053_at</td>\n",
       "      <td>6.411660</td>\n",
       "      <td>5.665370</td>\n",
       "      <td>5.613482</td>\n",
       "      <td>5.190008</td>\n",
       "      <td>5.180046</td>\n",
       "      <td>6.396298</td>\n",
       "      <td>6.048790</td>\n",
       "      <td>5.671556</td>\n",
       "      <td>5.624627</td>\n",
       "      <td>...</td>\n",
       "      <td>1205.6400</td>\n",
       "      <td>883.9270</td>\n",
       "      <td>1418.130</td>\n",
       "      <td>721.6150</td>\n",
       "      <td>641.33900</td>\n",
       "      <td>1009.4900</td>\n",
       "      <td>788.6240</td>\n",
       "      <td>1227.7000</td>\n",
       "      <td>662.1490</td>\n",
       "      <td>1315.5500</td>\n",
       "    </tr>\n",
       "    <tr>\n",
       "      <td>2</td>\n",
       "      <td>117_at</td>\n",
       "      <td>6.181633</td>\n",
       "      <td>5.700626</td>\n",
       "      <td>5.786576</td>\n",
       "      <td>5.237599</td>\n",
       "      <td>6.131352</td>\n",
       "      <td>7.620443</td>\n",
       "      <td>6.481317</td>\n",
       "      <td>5.739559</td>\n",
       "      <td>6.072929</td>\n",
       "      <td>...</td>\n",
       "      <td>89.1387</td>\n",
       "      <td>81.6689</td>\n",
       "      <td>366.327</td>\n",
       "      <td>151.8190</td>\n",
       "      <td>191.91400</td>\n",
       "      <td>134.4140</td>\n",
       "      <td>67.0623</td>\n",
       "      <td>104.0020</td>\n",
       "      <td>15.1112</td>\n",
       "      <td>119.9420</td>\n",
       "    </tr>\n",
       "    <tr>\n",
       "      <td>3</td>\n",
       "      <td>121_at</td>\n",
       "      <td>7.436633</td>\n",
       "      <td>7.053211</td>\n",
       "      <td>7.258615</td>\n",
       "      <td>7.562595</td>\n",
       "      <td>7.330315</td>\n",
       "      <td>7.364233</td>\n",
       "      <td>7.421833</td>\n",
       "      <td>7.620457</td>\n",
       "      <td>7.507055</td>\n",
       "      <td>...</td>\n",
       "      <td>787.3290</td>\n",
       "      <td>848.5340</td>\n",
       "      <td>1454.480</td>\n",
       "      <td>1142.3000</td>\n",
       "      <td>1099.31000</td>\n",
       "      <td>762.8810</td>\n",
       "      <td>408.8580</td>\n",
       "      <td>684.3200</td>\n",
       "      <td>612.0700</td>\n",
       "      <td>809.6950</td>\n",
       "    </tr>\n",
       "    <tr>\n",
       "      <td>4</td>\n",
       "      <td>1255_g_at</td>\n",
       "      <td>2.887094</td>\n",
       "      <td>3.000947</td>\n",
       "      <td>3.121344</td>\n",
       "      <td>3.086248</td>\n",
       "      <td>3.480671</td>\n",
       "      <td>2.905494</td>\n",
       "      <td>2.968376</td>\n",
       "      <td>3.221801</td>\n",
       "      <td>3.069448</td>\n",
       "      <td>...</td>\n",
       "      <td>80.9794</td>\n",
       "      <td>30.6078</td>\n",
       "      <td>103.337</td>\n",
       "      <td>36.9773</td>\n",
       "      <td>5.61104</td>\n",
       "      <td>92.5094</td>\n",
       "      <td>30.6197</td>\n",
       "      <td>17.8383</td>\n",
       "      <td>11.1367</td>\n",
       "      <td>93.9161</td>\n",
       "    </tr>\n",
       "  </tbody>\n",
       "</table>\n",
       "<p>5 rows × 1495 columns</p>\n",
       "</div>"
      ],
      "text/plain": [
       "      ID_REF  GSM279964  GSM279974  GSM279975  GSM279977  GSM279978  \\\n",
       "0  1007_s_at  10.022909   9.818693   9.647424   9.841938   9.190691   \n",
       "1    1053_at   6.411660   5.665370   5.613482   5.190008   5.180046   \n",
       "2     117_at   6.181633   5.700626   5.786576   5.237599   6.131352   \n",
       "3     121_at   7.436633   7.053211   7.258615   7.562595   7.330315   \n",
       "4  1255_g_at   2.887094   3.000947   3.121344   3.086248   3.480671   \n",
       "\n",
       "   GSM279958  GSM279961  GSM279963  GSM279965  ...  GSM237966  GSM237967  \\\n",
       "0  10.214065  10.284017   7.008211   9.145673  ...  3739.4300  2809.7200   \n",
       "1   6.396298   6.048790   5.671556   5.624627  ...  1205.6400   883.9270   \n",
       "2   7.620443   6.481317   5.739559   6.072929  ...    89.1387    81.6689   \n",
       "3   7.364233   7.421833   7.620457   7.507055  ...   787.3290   848.5340   \n",
       "4   2.905494   2.968376   3.221801   3.069448  ...    80.9794    30.6078   \n",
       "\n",
       "   GSM237968  GSM237969   GSM237970  GSM237972  GSM237973  GSM237974  \\\n",
       "0   2350.390  4079.3500  7302.00000  2898.6400  3494.1600  5225.7500   \n",
       "1   1418.130   721.6150   641.33900  1009.4900   788.6240  1227.7000   \n",
       "2    366.327   151.8190   191.91400   134.4140    67.0623   104.0020   \n",
       "3   1454.480  1142.3000  1099.31000   762.8810   408.8580   684.3200   \n",
       "4    103.337    36.9773     5.61104    92.5094    30.6197    17.8383   \n",
       "\n",
       "   GSM237977  GSM237978  \n",
       "0  5917.5400  4249.9400  \n",
       "1   662.1490  1315.5500  \n",
       "2    15.1112   119.9420  \n",
       "3   612.0700   809.6950  \n",
       "4    11.1367    93.9161  \n",
       "\n",
       "[5 rows x 1495 columns]"
      ]
     },
     "execution_count": 5,
     "metadata": {},
     "output_type": "execute_result"
    }
   ],
   "source": [
    "data=data.drop(['Unnamed: 0'], axis=1)\n",
    "data.set_index('ID_REF')\n",
    "data.head()"
   ]
  },
  {
   "cell_type": "code",
   "execution_count": 6,
   "metadata": {},
   "outputs": [
    {
     "name": "stdout",
     "output_type": "stream",
     "text": [
      "0\n"
     ]
    }
   ],
   "source": [
    "# check to make sure there are no more repeats\n",
    "count = 0\n",
    "for i in data.columns:\n",
    "    if \".\" in i:\n",
    "        count+=1\n",
    "print(count)"
   ]
  },
  {
   "cell_type": "markdown",
   "metadata": {},
   "source": [
    "## Playing with SKlearn's PCA"
   ]
  },
  {
   "cell_type": "code",
   "execution_count": 7,
   "metadata": {},
   "outputs": [
    {
     "data": {
      "text/plain": [
       "(54675, 1495)"
      ]
     },
     "execution_count": 7,
     "metadata": {},
     "output_type": "execute_result"
    }
   ],
   "source": [
    "data.shape"
   ]
  },
  {
   "cell_type": "code",
   "execution_count": 10,
   "metadata": {},
   "outputs": [],
   "source": [
    "#pca = PCA(n_components=1000)"
   ]
  },
  {
   "cell_type": "code",
   "execution_count": 11,
   "metadata": {},
   "outputs": [],
   "source": [
    "#pca.fit(data)"
   ]
  },
  {
   "cell_type": "code",
   "execution_count": 12,
   "metadata": {},
   "outputs": [],
   "source": [
    "#pca.n_features_"
   ]
  },
  {
   "cell_type": "code",
   "execution_count": 8,
   "metadata": {},
   "outputs": [],
   "source": [
    "# jiaqi's PCA (very slow, uses eigsh)\n",
    "def PCA(x, k):\n",
    "    # Z = W * X\n",
    "    # Z is weight matrix \n",
    "    # W is feature matrix \n",
    "    # X is input \n",
    "    \n",
    "    # get zero mean, column-wise\n",
    "    means = np.mean(x.T, axis=1)\n",
    "    x_mean = x - means\n",
    "    \n",
    "    # covariance of centered/zero-mean matrix\n",
    "    #V = np.cov(x_mean)\n",
    "    V = x_mean.dot(x_mean.T) / (x_mean.shape[1]-1)\n",
    "\n",
    "    # eigendecomposition \n",
    "    # y = lambda (eigen values)\n",
    "    # u = eigen vectors \n",
    "    y, u = scipy.sparse.linalg.eigsh(V, k = k)\n",
    "    \n",
    "    # project data\n",
    "    #P = u.T.dot(x_mean)\n",
    "    \n",
    "\n",
    "    # diagonalization to get feature matrix \n",
    "    #w = np.dot(np.diag(1/np.sqrt(y)), u.T)\n",
    "    \n",
    "    # w is features \n",
    "    #w = np.diag( 1.0/np.sqrt(y)).dot(u.T)\n",
    "    w = np.linalg.inv(np.diag(np.sqrt(y))).dot(u.T)\n",
    "    print(np.diag(np.sqrt(y)).shape)\n",
    "    # check identity \n",
    "    # print(np.round(np.dot(np.dot(w,V),w.T),3))\n",
    "    \n",
    "    # z is weights \n",
    "    z = np.dot(w, x_mean)\n",
    "    \n",
    "    return w, z, y, u"
   ]
  },
  {
   "cell_type": "code",
   "execution_count": 8,
   "metadata": {},
   "outputs": [],
   "source": [
    "# tiffany's PCA, uses SVD\n",
    "def PCA(PCA_K, input_data):\n",
    "\n",
    "    total_dim, sample_n = input_data.shape\n",
    "\n",
    "    data_mean = np.reshape(np.mean(input_data, axis=1),(total_dim,1))\n",
    "    data_demean = np.subtract(input_data, data_mean)\n",
    "\n",
    "    u, s, vt = svds(data_demean, k=PCA_K)\n",
    "\n",
    "    PCA_weights = np.matmul(np.transpose(u), data_demean)\n",
    "    \n",
    "    return PCA_weights, u, s, data_mean\n"
   ]
  },
  {
   "cell_type": "code",
   "execution_count": 9,
   "metadata": {},
   "outputs": [],
   "source": [
    "# will need these to recreate data frame later\n",
    "data_heading=data.columns\n",
    "id_refs=data['ID_REF']"
   ]
  },
  {
   "cell_type": "code",
   "execution_count": 10,
   "metadata": {},
   "outputs": [],
   "source": [
    "np_data = np.array(data)[:,1:].astype(float)"
   ]
  },
  {
   "cell_type": "code",
   "execution_count": 11,
   "metadata": {},
   "outputs": [
    {
     "data": {
      "text/plain": [
       "(54675, 1494)"
      ]
     },
     "execution_count": 11,
     "metadata": {},
     "output_type": "execute_result"
    }
   ],
   "source": [
    "np_data.shape"
   ]
  },
  {
   "cell_type": "code",
   "execution_count": 13,
   "metadata": {},
   "outputs": [],
   "source": [
    "# #s[300:373]\n",
    "# temp = np_data[:1000,:1000]\n",
    "# temp.shape"
   ]
  },
  {
   "cell_type": "code",
   "execution_count": 12,
   "metadata": {},
   "outputs": [],
   "source": [
    "weights, u, s, mean = PCA(500,np_data)"
   ]
  },
  {
   "cell_type": "code",
   "execution_count": 62,
   "metadata": {},
   "outputs": [],
   "source": [
    "# pca_data = np.matmul(np.transpose(u[:,300:373]), np.subtract(np_data,mean))\n",
    "# pca_data = np.matmul(np.transpose(u), np.subtract(np_data,mean))"
   ]
  },
  {
   "cell_type": "code",
   "execution_count": 15,
   "metadata": {},
   "outputs": [
    {
     "data": {
      "text/plain": [
       "(500, 1494)"
      ]
     },
     "execution_count": 15,
     "metadata": {},
     "output_type": "execute_result"
    }
   ],
   "source": [
    "weights.shape"
   ]
  },
  {
   "cell_type": "markdown",
   "metadata": {},
   "source": [
    "### playing around with pca\n",
    "s is the singular values \n",
    "we chose cut off of ~ 50-73"
   ]
  },
  {
   "cell_type": "code",
   "execution_count": 16,
   "metadata": {},
   "outputs": [
    {
     "data": {
      "text/plain": [
       "13755318.951722277"
      ]
     },
     "execution_count": 16,
     "metadata": {},
     "output_type": "execute_result"
    }
   ],
   "source": [
    "max(s)"
   ]
  },
  {
   "cell_type": "code",
   "execution_count": 66,
   "metadata": {},
   "outputs": [
    {
     "data": {
      "text/plain": [
       "array([   15313.44116949,    15483.48968787,    15551.66167892,\n",
       "          15773.07493726,    15834.32917904,    15979.95665953,\n",
       "          16097.66115904,    16224.871642  ,    16365.85013889,\n",
       "          16436.25573251,    16561.23803922,    16759.52260636,\n",
       "          16858.31929605,    16998.96292533,    17116.98339905,\n",
       "          17201.66374048,    17493.83324082,    17604.68758288,\n",
       "          17719.81136442,    17800.06948042,    17955.63987765,\n",
       "          18081.52540955,    18213.0463633 ,    18460.47374714,\n",
       "          18501.3306362 ,    18667.19611856,    18989.46274134,\n",
       "          19003.30983394,    19154.05381223,    19324.61225084,\n",
       "          19419.37225232,    19653.55541588,    19720.72434878,\n",
       "          19840.29324231,    19913.78321118,    20177.10022245,\n",
       "          20387.49153117,    20523.04578638,    20676.60215167,\n",
       "          20997.3216839 ,    21029.93227508,    21164.50995533,\n",
       "          21378.73932904,    21543.23383721,    21777.7858658 ,\n",
       "          21972.2807735 ,    22019.1601962 ,    22090.09215704,\n",
       "          22234.43142557,    22368.86608976,    22640.99546529,\n",
       "          23077.07943575,    23154.65248012,    23427.93388109,\n",
       "          23493.46596521,    23793.21167518,    23932.73804912,\n",
       "          24293.19980766,    24311.77357986,    24525.72299867,\n",
       "          24619.71217513,    24827.39354412,    24870.91526772,\n",
       "          25216.3975855 ,    25566.0635506 ,    25806.34726678,\n",
       "          25991.973166  ,    26333.39908599,    26471.09892666,\n",
       "          26605.35433365,    26705.42978553,    27113.72889171,\n",
       "          27516.03516684,    27713.40052567,    27950.56709545,\n",
       "          28081.56590502,    28214.7429365 ,    28489.06120295,\n",
       "          28991.06729863,    29188.48246007,    29597.10902587,\n",
       "          29950.70080468,    30213.36007911,    30463.43609659,\n",
       "          30766.21895637,    31404.87418724,    31587.50176299,\n",
       "          31992.21210536,    32173.43325946,    32308.53545954,\n",
       "          32364.47908363,    33155.55495619,    33330.97303158,\n",
       "          33744.46914709,    34080.06146394,    34325.77197254,\n",
       "          34571.0337534 ,    35120.96529181,    35696.81093333,\n",
       "          35904.10883208,    35972.84548881,    36778.74624127,\n",
       "          37409.35862463,    37602.46756613,    38124.01891133,\n",
       "          38253.87900765,    39267.93643932,    39781.99995517,\n",
       "          40118.5611846 ,    41272.47883243,    41503.13021643,\n",
       "          42063.24787092,    42859.04660729,    43653.16485982,\n",
       "          44149.26119307,    44704.56562364,    45061.2241049 ,\n",
       "          46167.4308295 ,    46681.43537859,    46975.22666747,\n",
       "          47671.14166642,    48440.3929628 ,    49593.83407213,\n",
       "          50194.62999674,    51087.4090146 ,    51583.71990319,\n",
       "          52211.1736583 ,    53254.15140724,    53892.87791946,\n",
       "          55273.73395881,    55807.92917767,    56958.03717725,\n",
       "          58000.83530302,    58630.51611656,    59628.43576275,\n",
       "          60860.62985212,    61187.78477745,    62400.09402616,\n",
       "          62620.75385797,    62715.24108586,    62985.48508538,\n",
       "          64837.69883212,    65256.58406021,    66220.30251197,\n",
       "          66369.10538246,    66745.32602351,    67460.04123831,\n",
       "          68210.06802503,    68822.29236016,    69442.04855143,\n",
       "          70036.28572969,    71240.10102225,    71726.49600582,\n",
       "          71818.40637444,    72495.60628039,    73157.44947939,\n",
       "          73661.67184375,    74414.87889949,    75117.15630335,\n",
       "          75240.73061446,    75834.80605068,    76493.35133019,\n",
       "          76898.66649775,    77466.48747335,    77767.0999847 ,\n",
       "          78183.04805445,    79016.13252294,    79629.32420996,\n",
       "          79753.80456785,    80353.92048529,    81077.894337  ,\n",
       "          81444.24564302,    81672.28222468,    81762.29415569,\n",
       "          82244.20500634,    82847.09636533,    83713.18000382,\n",
       "          84291.4559782 ,    84599.91608189,    84723.70062011,\n",
       "          84990.11686106,    85866.36863438,    86400.23949737,\n",
       "          86919.85983555,    87123.32122661,    87809.8170913 ,\n",
       "          88266.81424978,    88602.78677558,    89036.50511963,\n",
       "          89334.83399713,    90309.91093545,    90675.77084219,\n",
       "          91099.97771557,    91732.10412801,    92208.49024539,\n",
       "          92324.99448289,    93139.36257952,    93582.36375029,\n",
       "          94020.53317571,    94774.19433875,    94929.78640488,\n",
       "          95328.09936587,    96019.78679601,    96292.46472179,\n",
       "          96571.74832722,    96875.57342897,    97907.37124053,\n",
       "          98033.01893615,    98697.68195082,    99212.08841175,\n",
       "          99393.18259441,    99899.01997111,   100576.19779265,\n",
       "         101275.53913069,   101440.05032837,   101966.44629491,\n",
       "         102406.00272721,   102605.85352293,   103240.83506186,\n",
       "         103430.63595549,   103648.72093247,   103850.36715788,\n",
       "         104585.75447629,   105085.76906268,   105761.6712109 ,\n",
       "         105930.78580542,   106258.28450365,   106848.91595449,\n",
       "         106928.76316327,   107934.73182973,   108492.31192921,\n",
       "         108888.32230928,   109357.42813285,   109646.81005312,\n",
       "         109910.63467006,   110688.19347123,   111156.06999385,\n",
       "         111593.92243612,   112274.10949477,   112899.72553689,\n",
       "         113555.29032425,   113887.13034854,   114710.13469485,\n",
       "         115037.65627973,   115474.0566201 ,   115632.90749232,\n",
       "         116420.1393547 ,   116860.02844216,   117208.82375995,\n",
       "         117495.93414944,   118309.78249261,   118767.77819839,\n",
       "         119185.1347821 ,   119240.23109284,   119948.0764807 ,\n",
       "         120603.22288602,   120741.52682976,   121540.37252209,\n",
       "         122152.22802328,   122332.04823237,   122787.07711648,\n",
       "         123090.88036279,   124084.19015672,   124284.60993789,\n",
       "         124933.81289853,   125074.31747561,   125623.8826336 ,\n",
       "         126518.39360978,   127226.51859761,   127712.28915329,\n",
       "         127956.71170121,   129211.67385699,   129454.25398286,\n",
       "         129694.17632909,   130404.72641471,   130788.91934021,\n",
       "         131399.42016263,   131592.68966508,   132924.49899756,\n",
       "         133723.16714798,   133979.87493159,   134426.579279  ,\n",
       "         134766.27758209,   135261.90357773,   135721.19881499,\n",
       "         136097.80309618,   136255.94974815,   137107.32987987,\n",
       "         137462.96894847,   139033.426489  ,   139291.0648153 ,\n",
       "         139667.45707204,   140593.31127689,   140793.75826697,\n",
       "         141286.57325124,   142000.60755929,   142100.96257671,\n",
       "         142558.88479865,   144161.69257567,   144695.74527075,\n",
       "         145494.29374602,   146347.82393622,   146543.43984694,\n",
       "         146774.31421854,   147619.37509539,   147987.78873998,\n",
       "         148422.51952567,   149245.85953877,   149829.66234213,\n",
       "         150836.99236275,   151622.42811377,   152098.71687193,\n",
       "         152836.88847326,   153716.42090954,   154260.99757848,\n",
       "         154914.15438473,   155686.41991627,   155944.78859587,\n",
       "         156733.45803074,   157296.94236262,   158753.90150735,\n",
       "         158896.57033198,   159408.52717781,   160141.5604886 ,\n",
       "         161064.81689578,   161406.03406915,   161688.15492855,\n",
       "         162505.52132657,   163878.60568481,   164088.78515975,\n",
       "         164533.79107077,   165816.9994453 ,   166778.21679338,\n",
       "         167119.8964545 ,   167915.20420751,   168248.80737378,\n",
       "         168888.20114095,   169561.70664497,   170636.16373825,\n",
       "         171880.29170538,   172628.28752415,   172813.67955495,\n",
       "         173457.06356068,   175133.80630063,   175214.01997054,\n",
       "         176785.00398691,   177438.28771968,   177814.19560629,\n",
       "         178425.01662808,   178743.50321392,   179601.47515148,\n",
       "         180674.0462919 ,   181953.78648539,   182460.60484105,\n",
       "         183221.9174978 ,   184209.58191753,   185226.65072975,\n",
       "         186167.82644648,   187106.21886378,   187206.25569089,\n",
       "         188890.64702883,   189590.45526886,   192132.09118854,\n",
       "         192192.79194278,   192870.37385058,   193882.48123713,\n",
       "         194297.85895008,   195476.42265362,   196004.66677791,\n",
       "         198274.03018667,   198522.25504114,   199046.2138054 ,\n",
       "         200111.74673181,   200612.05317126,   201614.43039505,\n",
       "         203748.65948473,   204524.78095264,   205022.82851981,\n",
       "         206596.63647124,   207271.28125284,   207895.9338569 ,\n",
       "         208652.29714168,   211333.96218607,   211633.83031247,\n",
       "         212832.59863744,   214114.96672976,   214858.17542527,\n",
       "         215411.56332218,   216266.34660162,   217729.50925633,\n",
       "         218871.99820992,   219771.87328026,   221505.03989038,\n",
       "         222975.90275695,   223166.26370529,   224213.4558439 ,\n",
       "         226558.93690614,   226926.27788312,   227162.21465367,\n",
       "         229237.82023283,   230914.19080221,   232244.43175007,\n",
       "         233409.01645914,   234475.00766972,   235743.66670469,\n",
       "         238699.5484451 ,   241650.44483288,   242372.24565711,\n",
       "         244417.31056543,   246120.15562656,   247825.16194119,\n",
       "         248245.25279429,   250749.14911957,   253974.7900278 ,\n",
       "         254411.86400992,   255147.0995433 ,   257893.86456364,\n",
       "         258060.31869603,   259828.43232304,   261117.35030833,\n",
       "         262409.72401019,   264878.65245407,   267752.85037018,\n",
       "         269281.25334275,   269594.44443638,   271502.94763771,\n",
       "         274751.05892834,   275934.2957888 ,   280262.10540235,\n",
       "         281124.39857809,   281472.85722588,   283357.04747789,\n",
       "         285479.03407377,   286721.516293  ,   289704.10078722,\n",
       "         293367.30366019,   296285.28091538,   298452.95092472,\n",
       "         299388.57726487,   302775.89678545,   305356.67445638,\n",
       "         307434.98126079,   309536.24091082,   314300.92863531,\n",
       "         317013.45938437,   321630.29921868,   322578.74360499,\n",
       "         325510.44345934,   328236.45690575,   329222.68246648,\n",
       "         334539.55876891,   339797.9961205 ,   342948.89167535,\n",
       "         346028.17195275,   350982.60965123,   353789.69213596,\n",
       "         356427.94872781,   357768.59051499,   361794.3675092 ,\n",
       "         366396.33405258,   372211.77921855,   377261.07029953,\n",
       "         381839.79119024,   382896.0083634 ,   394781.70443517,\n",
       "         398961.26118831,   404375.87312144,   413572.51033543,\n",
       "         417131.04441553,   423664.18196122,   426425.85703678,\n",
       "         438324.832601  ,   444250.38952885,   462790.1290533 ,\n",
       "         468229.48649738,   470169.99148219,   478057.2426788 ,\n",
       "         493427.29956282,   509154.71939807,   517787.79036015,\n",
       "         535128.71406437,   541646.88211713,   565484.16066903,\n",
       "         592393.35279477,   606109.44211082,   636171.72686824,\n",
       "         670855.43234865,   724555.79064551,   736327.22641975,\n",
       "         799568.86234406,   929561.06852595,   999775.62754453,\n",
       "        1092817.16062969,  1125482.07981454,  1154183.59176946,\n",
       "        1357970.92699322,  1482260.51405185,  1861043.38416325,\n",
       "        2012201.07674299, 13755318.95172228])"
      ]
     },
     "execution_count": 66,
     "metadata": {},
     "output_type": "execute_result"
    }
   ],
   "source": [
    "s"
   ]
  },
  {
   "cell_type": "code",
   "execution_count": 17,
   "metadata": {},
   "outputs": [],
   "source": [
    "cut_off=250749"
   ]
  },
  {
   "cell_type": "code",
   "execution_count": 18,
   "metadata": {},
   "outputs": [
    {
     "data": {
      "text/plain": [
       "88"
      ]
     },
     "execution_count": 18,
     "metadata": {},
     "output_type": "execute_result"
    }
   ],
   "source": [
    "len(s[s>cut_off])"
   ]
  },
  {
   "cell_type": "code",
   "execution_count": 19,
   "metadata": {},
   "outputs": [
    {
     "data": {
      "text/plain": [
       "<Container object of 88 artists>"
      ]
     },
     "execution_count": 19,
     "metadata": {},
     "output_type": "execute_result"
    },
    {
     "data": {
      "image/png": "[encoded data removed]",
      "text/plain": [
       "<matplotlib.figure.Figure at 0x7f90103bc210>"
      ]
     },
     "metadata": {
      "needs_background": "light"
     },
     "output_type": "display_data"
    }
   ],
   "source": [
    "plt.bar(xrange(0,len(s[s>cut_off])), s[s>cut_off])"
   ]
  },
  {
   "cell_type": "markdown",
   "metadata": {},
   "source": [
    "#### pick 88...it looks alright! "
   ]
  },
  {
   "cell_type": "markdown",
   "metadata": {},
   "source": [
    "### After playing with the number of features, for random forest, using 30 features produces the best result"
   ]
  },
  {
   "cell_type": "code",
   "execution_count": 58,
   "metadata": {},
   "outputs": [],
   "source": [
    "pca_data = np.matmul(np.transpose(u[:,470:]), np.subtract(np_data,mean))"
   ]
  },
  {
   "cell_type": "code",
   "execution_count": 59,
   "metadata": {},
   "outputs": [
    {
     "data": {
      "text/plain": [
       "(30, 1494)"
      ]
     },
     "execution_count": 59,
     "metadata": {},
     "output_type": "execute_result"
    }
   ],
   "source": [
    "pca_data.shape"
   ]
  },
  {
   "cell_type": "markdown",
   "metadata": {},
   "source": [
    "## Split into train/test"
   ]
  },
  {
   "cell_type": "code",
   "execution_count": 22,
   "metadata": {},
   "outputs": [],
   "source": [
    "pd_pca=pd.DataFrame(pca_data)"
   ]
  },
  {
   "cell_type": "code",
   "execution_count": 23,
   "metadata": {},
   "outputs": [],
   "source": [
    "# data_heading=data.columns\n",
    "# id_refs=data['ID_REF']"
   ]
  },
  {
   "cell_type": "code",
   "execution_count": 24,
   "metadata": {},
   "outputs": [],
   "source": [
    "# idk i just realized we dont need to make it into a pandas data frame again lol \n",
    "pd_pca.columns=data.columns[1:]\n",
    "pd_pca['ID_REF'] = id_refs"
   ]
  },
  {
   "cell_type": "code",
   "execution_count": 25,
   "metadata": {},
   "outputs": [
    {
     "data": {
      "text/html": [
       "<div>\n",
       "<style scoped>\n",
       "    .dataframe tbody tr th:only-of-type {\n",
       "        vertical-align: middle;\n",
       "    }\n",
       "\n",
       "    .dataframe tbody tr th {\n",
       "        vertical-align: top;\n",
       "    }\n",
       "\n",
       "    .dataframe thead th {\n",
       "        text-align: right;\n",
       "    }\n",
       "</style>\n",
       "<table border=\"1\" class=\"dataframe\">\n",
       "  <thead>\n",
       "    <tr style=\"text-align: right;\">\n",
       "      <th></th>\n",
       "      <th>GSM279964</th>\n",
       "      <th>GSM279974</th>\n",
       "      <th>GSM279975</th>\n",
       "      <th>GSM279977</th>\n",
       "      <th>GSM279978</th>\n",
       "      <th>GSM279958</th>\n",
       "      <th>GSM279961</th>\n",
       "      <th>GSM279963</th>\n",
       "      <th>GSM279965</th>\n",
       "      <th>GSM279966</th>\n",
       "      <th>...</th>\n",
       "      <th>GSM237967</th>\n",
       "      <th>GSM237968</th>\n",
       "      <th>GSM237969</th>\n",
       "      <th>GSM237970</th>\n",
       "      <th>GSM237972</th>\n",
       "      <th>GSM237973</th>\n",
       "      <th>GSM237974</th>\n",
       "      <th>GSM237977</th>\n",
       "      <th>GSM237978</th>\n",
       "      <th>ID_REF</th>\n",
       "    </tr>\n",
       "  </thead>\n",
       "  <tbody>\n",
       "    <tr>\n",
       "      <th>0</th>\n",
       "      <td>95.312229</td>\n",
       "      <td>99.291119</td>\n",
       "      <td>95.521275</td>\n",
       "      <td>93.516540</td>\n",
       "      <td>93.081082</td>\n",
       "      <td>101.127912</td>\n",
       "      <td>94.533292</td>\n",
       "      <td>95.698684</td>\n",
       "      <td>92.293085</td>\n",
       "      <td>98.474330</td>\n",
       "      <td>...</td>\n",
       "      <td>9924.003178</td>\n",
       "      <td>2189.256915</td>\n",
       "      <td>16604.629802</td>\n",
       "      <td>4788.818771</td>\n",
       "      <td>1823.146022</td>\n",
       "      <td>-9226.431358</td>\n",
       "      <td>-4420.696803</td>\n",
       "      <td>-3686.459383</td>\n",
       "      <td>-6508.527746</td>\n",
       "      <td>1007_s_at</td>\n",
       "    </tr>\n",
       "    <tr>\n",
       "      <th>1</th>\n",
       "      <td>105.609445</td>\n",
       "      <td>112.235462</td>\n",
       "      <td>112.573960</td>\n",
       "      <td>111.561841</td>\n",
       "      <td>110.114083</td>\n",
       "      <td>109.059368</td>\n",
       "      <td>114.451374</td>\n",
       "      <td>114.845386</td>\n",
       "      <td>112.246472</td>\n",
       "      <td>114.120025</td>\n",
       "      <td>...</td>\n",
       "      <td>10882.193140</td>\n",
       "      <td>15683.321996</td>\n",
       "      <td>8771.751590</td>\n",
       "      <td>8164.586773</td>\n",
       "      <td>-18523.063187</td>\n",
       "      <td>151.115232</td>\n",
       "      <td>-15253.904055</td>\n",
       "      <td>-7195.018207</td>\n",
       "      <td>-4315.597853</td>\n",
       "      <td>1053_at</td>\n",
       "    </tr>\n",
       "    <tr>\n",
       "      <th>2</th>\n",
       "      <td>85.961664</td>\n",
       "      <td>84.970256</td>\n",
       "      <td>87.544683</td>\n",
       "      <td>86.511555</td>\n",
       "      <td>83.360429</td>\n",
       "      <td>88.387995</td>\n",
       "      <td>86.675480</td>\n",
       "      <td>84.013045</td>\n",
       "      <td>85.128853</td>\n",
       "      <td>82.700081</td>\n",
       "      <td>...</td>\n",
       "      <td>-4011.237285</td>\n",
       "      <td>-4981.789303</td>\n",
       "      <td>-19290.985826</td>\n",
       "      <td>23252.847245</td>\n",
       "      <td>-9999.016836</td>\n",
       "      <td>-3320.240436</td>\n",
       "      <td>8909.308126</td>\n",
       "      <td>31152.192698</td>\n",
       "      <td>1484.255191</td>\n",
       "      <td>117_at</td>\n",
       "    </tr>\n",
       "    <tr>\n",
       "      <th>3</th>\n",
       "      <td>134.784272</td>\n",
       "      <td>126.039423</td>\n",
       "      <td>127.877559</td>\n",
       "      <td>129.596287</td>\n",
       "      <td>123.834448</td>\n",
       "      <td>130.087550</td>\n",
       "      <td>129.386767</td>\n",
       "      <td>133.402212</td>\n",
       "      <td>131.081294</td>\n",
       "      <td>131.378828</td>\n",
       "      <td>...</td>\n",
       "      <td>3516.958898</td>\n",
       "      <td>-5354.139147</td>\n",
       "      <td>4377.224050</td>\n",
       "      <td>13630.256635</td>\n",
       "      <td>5592.716154</td>\n",
       "      <td>1890.855251</td>\n",
       "      <td>2235.272687</td>\n",
       "      <td>-1576.614774</td>\n",
       "      <td>7556.317986</td>\n",
       "      <td>121_at</td>\n",
       "    </tr>\n",
       "    <tr>\n",
       "      <th>4</th>\n",
       "      <td>26.340300</td>\n",
       "      <td>29.589796</td>\n",
       "      <td>31.485159</td>\n",
       "      <td>27.969214</td>\n",
       "      <td>28.882511</td>\n",
       "      <td>25.551609</td>\n",
       "      <td>30.398438</td>\n",
       "      <td>20.397305</td>\n",
       "      <td>20.048079</td>\n",
       "      <td>19.020653</td>\n",
       "      <td>...</td>\n",
       "      <td>-8107.560772</td>\n",
       "      <td>2028.899506</td>\n",
       "      <td>-733.089184</td>\n",
       "      <td>-6012.754505</td>\n",
       "      <td>13756.158461</td>\n",
       "      <td>-16887.887000</td>\n",
       "      <td>-19492.931399</td>\n",
       "      <td>-2465.982008</td>\n",
       "      <td>-16870.750514</td>\n",
       "      <td>1255_g_at</td>\n",
       "    </tr>\n",
       "  </tbody>\n",
       "</table>\n",
       "<p>5 rows × 1495 columns</p>\n",
       "</div>"
      ],
      "text/plain": [
       "    GSM279964   GSM279974   GSM279975   GSM279977   GSM279978   GSM279958  \\\n",
       "0   95.312229   99.291119   95.521275   93.516540   93.081082  101.127912   \n",
       "1  105.609445  112.235462  112.573960  111.561841  110.114083  109.059368   \n",
       "2   85.961664   84.970256   87.544683   86.511555   83.360429   88.387995   \n",
       "3  134.784272  126.039423  127.877559  129.596287  123.834448  130.087550   \n",
       "4   26.340300   29.589796   31.485159   27.969214   28.882511   25.551609   \n",
       "\n",
       "    GSM279961   GSM279963   GSM279965   GSM279966    ...         GSM237967  \\\n",
       "0   94.533292   95.698684   92.293085   98.474330    ...       9924.003178   \n",
       "1  114.451374  114.845386  112.246472  114.120025    ...      10882.193140   \n",
       "2   86.675480   84.013045   85.128853   82.700081    ...      -4011.237285   \n",
       "3  129.386767  133.402212  131.081294  131.378828    ...       3516.958898   \n",
       "4   30.398438   20.397305   20.048079   19.020653    ...      -8107.560772   \n",
       "\n",
       "      GSM237968     GSM237969     GSM237970     GSM237972     GSM237973  \\\n",
       "0   2189.256915  16604.629802   4788.818771   1823.146022  -9226.431358   \n",
       "1  15683.321996   8771.751590   8164.586773 -18523.063187    151.115232   \n",
       "2  -4981.789303 -19290.985826  23252.847245  -9999.016836  -3320.240436   \n",
       "3  -5354.139147   4377.224050  13630.256635   5592.716154   1890.855251   \n",
       "4   2028.899506   -733.089184  -6012.754505  13756.158461 -16887.887000   \n",
       "\n",
       "      GSM237974     GSM237977     GSM237978     ID_REF  \n",
       "0  -4420.696803  -3686.459383  -6508.527746  1007_s_at  \n",
       "1 -15253.904055  -7195.018207  -4315.597853    1053_at  \n",
       "2   8909.308126  31152.192698   1484.255191     117_at  \n",
       "3   2235.272687  -1576.614774   7556.317986     121_at  \n",
       "4 -19492.931399  -2465.982008 -16870.750514  1255_g_at  \n",
       "\n",
       "[5 rows x 1495 columns]"
      ]
     },
     "execution_count": 25,
     "metadata": {},
     "output_type": "execute_result"
    }
   ],
   "source": [
    "pd_pca.head()"
   ]
  },
  {
   "cell_type": "code",
   "execution_count": 93,
   "metadata": {},
   "outputs": [],
   "source": [
    "#pd_pca.to_csv(\"mirnas_all_pca_500_88.txt\", sep=\"\\t\")"
   ]
  },
  {
   "cell_type": "code",
   "execution_count": 14,
   "metadata": {},
   "outputs": [
    {
     "data": {
      "text/plain": [
       "(88, 1494)"
      ]
     },
     "execution_count": 14,
     "metadata": {},
     "output_type": "execute_result"
    }
   ],
   "source": [
    "# need data to be back in numpy to work with lolol\n",
    "pca_data.shape"
   ]
  },
  {
   "cell_type": "code",
   "execution_count": 15,
   "metadata": {},
   "outputs": [],
   "source": [
    "# get labels \n",
    "sample_labels=labels['Sample_label'].values"
   ]
  },
  {
   "cell_type": "code",
   "execution_count": 16,
   "metadata": {},
   "outputs": [],
   "source": [
    "sample_labels = ['Normal' if x=='Metastasis Normal' or x=='Primary Normal' else x for x in labels['Sample_label'].values]\n",
    "sample_labels=np.asarray(sample_labels)"
   ]
  },
  {
   "cell_type": "code",
   "execution_count": 17,
   "metadata": {},
   "outputs": [
    {
     "data": {
      "text/plain": [
       "(array(['Metastasis Tumor', 'Normal', 'Primary Tumor'], dtype='<U16'),\n",
       " array([ 243,   75, 1176], dtype=int64))"
      ]
     },
     "execution_count": 17,
     "metadata": {},
     "output_type": "execute_result"
    }
   ],
   "source": [
    "np.unique(sample_labels,return_counts=True)"
   ]
  },
  {
   "cell_type": "code",
   "execution_count": 60,
   "metadata": {},
   "outputs": [],
   "source": [
    "# train test split \n",
    "np.random.seed(69)\n",
    "ii = np.random.rand(len(pca_data[0])) < 0.7 \n",
    "\n",
    "# np_data = data.values\n",
    "# np_types = types.values\n",
    "# np_labels = labels.values\n",
    "\n",
    "# # scaling data \n",
    "# from sklearn import preprocessing\n",
    "# min_max_scaler = preprocessing.MinMaxScaler()\n",
    "# np_data_min_max = min_max_scaler.fit_transform(np_data)\n",
    "\n",
    "train = pca_data[:,ii]\n",
    "test = pca_data[:,~ii]\n",
    "\n",
    "train_labels = sample_labels[ii]\n",
    "test_labels = sample_labels[~ii]\n",
    "\n",
    "gsms=data.columns[1:]\n",
    "train_gsm = gsms[ii]\n",
    "test_gsm=gsms[~ii]\n",
    "# train = np_data[ii]\n",
    "# test = np_data[~ii]\n",
    "\n",
    "# pand_train = data[ii]\n",
    "# pand_test = data[~ii]"
   ]
  },
  {
   "cell_type": "code",
   "execution_count": 19,
   "metadata": {},
   "outputs": [],
   "source": [
    "def compute_confusion_matrix(true, pred):\n",
    "    '''\n",
    "    Compute a confusion matrix using numpy for two np.arrays\n",
    "    true and pred.\n",
    "\n",
    "    Results are identical (and similar in computation time) to: \n",
    "    \"from sklearn.metrics import confusion_matrix\"\n",
    "\n",
    "    https://stackoverflow.com/questions/2148543/how-to-write-a-confusion-matrix-in-python\n",
    "    '''\n",
    "    # lol map of indicies for non-numeric classes\n",
    "    count=0\n",
    "    idx={}\n",
    "    for i in np.unique(true):\n",
    "        idx[i]=count\n",
    "        count+=1\n",
    "        \n",
    "    K = len(np.unique(true)) # Number of classes \n",
    "    result = np.zeros((K, K))\n",
    "\n",
    "    for i in range(len(true)):\n",
    "        result[idx[true[i]]][idx[pred[i]]] += 1\n",
    "        \n",
    "    print(\"Accuracy: \" + str(np.trace(result)/len(true)))\n",
    "\n",
    "    return result"
   ]
  },
  {
   "cell_type": "code",
   "execution_count": 20,
   "metadata": {},
   "outputs": [],
   "source": [
    "# idk just using this for now...can make our own CM stuff later \n",
    "from sklearn.ensemble import RandomForestClassifier\n",
    "from sklearn import metrics\n",
    "from sklearn.metrics import confusion_matrix\n",
    "from sklearn.metrics import accuracy_score"
   ]
  },
  {
   "cell_type": "code",
   "execution_count": 61,
   "metadata": {},
   "outputs": [
    {
     "name": "stdout",
     "output_type": "stream",
     "text": [
      "Accuracy:  0.8786516853932584\n"
     ]
    },
    {
     "data": {
      "text/html": [
       "<div>\n",
       "<style scoped>\n",
       "    .dataframe tbody tr th:only-of-type {\n",
       "        vertical-align: middle;\n",
       "    }\n",
       "\n",
       "    .dataframe tbody tr th {\n",
       "        vertical-align: top;\n",
       "    }\n",
       "\n",
       "    .dataframe thead th {\n",
       "        text-align: right;\n",
       "    }\n",
       "</style>\n",
       "<table border=\"1\" class=\"dataframe\">\n",
       "  <thead>\n",
       "    <tr style=\"text-align: right;\">\n",
       "      <th>Predicted</th>\n",
       "      <th>Metastasis Tumor</th>\n",
       "      <th>Normal</th>\n",
       "      <th>Primary Tumor</th>\n",
       "      <th>All</th>\n",
       "    </tr>\n",
       "    <tr>\n",
       "      <th>True</th>\n",
       "      <th></th>\n",
       "      <th></th>\n",
       "      <th></th>\n",
       "      <th></th>\n",
       "    </tr>\n",
       "  </thead>\n",
       "  <tbody>\n",
       "    <tr>\n",
       "      <td>Metastasis Tumor</td>\n",
       "      <td>47</td>\n",
       "      <td>0</td>\n",
       "      <td>28</td>\n",
       "      <td>75</td>\n",
       "    </tr>\n",
       "    <tr>\n",
       "      <td>Normal</td>\n",
       "      <td>0</td>\n",
       "      <td>15</td>\n",
       "      <td>10</td>\n",
       "      <td>25</td>\n",
       "    </tr>\n",
       "    <tr>\n",
       "      <td>Primary Tumor</td>\n",
       "      <td>16</td>\n",
       "      <td>0</td>\n",
       "      <td>329</td>\n",
       "      <td>345</td>\n",
       "    </tr>\n",
       "    <tr>\n",
       "      <td>All</td>\n",
       "      <td>63</td>\n",
       "      <td>15</td>\n",
       "      <td>367</td>\n",
       "      <td>445</td>\n",
       "    </tr>\n",
       "  </tbody>\n",
       "</table>\n",
       "</div>"
      ],
      "text/plain": [
       "Predicted         Metastasis Tumor  Normal  Primary Tumor  All\n",
       "True                                                          \n",
       "Metastasis Tumor                47       0             28   75\n",
       "Normal                           0      15             10   25\n",
       "Primary Tumor                   16       0            329  345\n",
       "All                             63      15            367  445"
      ]
     },
     "execution_count": 61,
     "metadata": {},
     "output_type": "execute_result"
    }
   ],
   "source": [
    "rfmodel = RandomForestClassifier(n_estimators=100)\n",
    "rf = rfmodel.fit(train.T, train_labels)\n",
    "\n",
    "rf_pred = rf.predict(test.T)\n",
    "\n",
    "# Model Accuracy, how often is the classifier correct\n",
    "print(\"Accuracy: \", metrics.accuracy_score(test_labels, rf_pred))\n",
    "rf_cm = confusion_matrix(test_labels, rf_pred,)\n",
    "\n",
    "y_true = pd.Series(test_labels)\n",
    "y_pred = pd.Series(rf_pred)\n",
    "\n",
    "pd.crosstab(y_true, y_pred, rownames=['True'], colnames=['Predicted'], margins=True)"
   ]
  },
  {
   "cell_type": "code",
   "execution_count": 62,
   "metadata": {},
   "outputs": [
    {
     "name": "stdout",
     "output_type": "stream",
     "text": [
      "Accuracy: 0.8786516853932584\n"
     ]
    },
    {
     "data": {
      "text/plain": [
       "<matplotlib.image.AxesImage at 0x14b95e17748>"
      ]
     },
     "execution_count": 62,
     "metadata": {},
     "output_type": "execute_result"
    },
    {
     "data": {
      "image/png": "[encoded data removed]",
      "text/plain": [
       "<Figure size 432x288 with 1 Axes>"
      ]
     },
     "metadata": {
      "needs_background": "light"
     },
     "output_type": "display_data"
    }
   ],
   "source": [
    "cm=compute_confusion_matrix(test_labels,rf_pred)\n",
    "plt.imshow(cm)"
   ]
  },
  {
   "cell_type": "code",
   "execution_count": 63,
   "metadata": {},
   "outputs": [
    {
     "name": "stdout",
     "output_type": "stream",
     "text": [
      "kappa: \n",
      "0.6376112200271452\n"
     ]
    }
   ],
   "source": [
    "from sklearn.metrics import cohen_kappa_score\n",
    "\n",
    "kappa = cohen_kappa_score(test_labels, rf_pred)\n",
    "print(\"kappa: \")\n",
    "print(kappa)"
   ]
  }
 ],
 "metadata": {
  "kernelspec": {
   "display_name": "Python 3",
   "language": "python",
   "name": "python3"
  },
  "language_info": {
   "codemirror_mode": {
    "name": "ipython",
    "version": 3
   },
   "file_extension": ".py",
   "mimetype": "text/x-python",
   "name": "python",
   "nbconvert_exporter": "python",
   "pygments_lexer": "ipython3",
   "version": "3.7.4"
  }
 },
 "nbformat": 4,
 "nbformat_minor": 2
}
