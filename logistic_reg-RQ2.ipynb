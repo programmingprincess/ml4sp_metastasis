{
 "cells": [
  {
   "cell_type": "code",
   "execution_count": 1,
   "metadata": {},
   "outputs": [],
   "source": [
    "import matplotlib.pyplot as plt\n",
    "import pandas as pd\n",
    "import numpy as np\n",
    "import sklearn\n",
    "import scipy\n",
    "from scipy.sparse.linalg import svds\n",
    "from scipy.stats import itemfreq"
   ]
  },
  {
   "cell_type": "code",
   "execution_count": 2,
   "metadata": {},
   "outputs": [
    {
     "data": {
      "text/html": [
       "<div>\n",
       "<style scoped>\n",
       "    .dataframe tbody tr th:only-of-type {\n",
       "        vertical-align: middle;\n",
       "    }\n",
       "\n",
       "    .dataframe tbody tr th {\n",
       "        vertical-align: top;\n",
       "    }\n",
       "\n",
       "    .dataframe thead th {\n",
       "        text-align: right;\n",
       "    }\n",
       "</style>\n",
       "<table border=\"1\" class=\"dataframe\">\n",
       "  <thead>\n",
       "    <tr style=\"text-align: right;\">\n",
       "      <th></th>\n",
       "      <th>ID_REF</th>\n",
       "      <th>GSM279964</th>\n",
       "      <th>GSM279974</th>\n",
       "      <th>GSM279975</th>\n",
       "      <th>GSM279977</th>\n",
       "      <th>GSM279978</th>\n",
       "      <th>GSM279958</th>\n",
       "      <th>GSM279961</th>\n",
       "      <th>GSM279963</th>\n",
       "      <th>GSM279965</th>\n",
       "      <th>...</th>\n",
       "      <th>GSM237966</th>\n",
       "      <th>GSM237967</th>\n",
       "      <th>GSM237968</th>\n",
       "      <th>GSM237969</th>\n",
       "      <th>GSM237970</th>\n",
       "      <th>GSM237972</th>\n",
       "      <th>GSM237973</th>\n",
       "      <th>GSM237974</th>\n",
       "      <th>GSM237977</th>\n",
       "      <th>GSM237978</th>\n",
       "    </tr>\n",
       "  </thead>\n",
       "  <tbody>\n",
       "    <tr>\n",
       "      <td>0</td>\n",
       "      <td>1007_s_at</td>\n",
       "      <td>10.022909</td>\n",
       "      <td>9.818693</td>\n",
       "      <td>9.647424</td>\n",
       "      <td>9.841938</td>\n",
       "      <td>9.190691</td>\n",
       "      <td>10.214065</td>\n",
       "      <td>10.284017</td>\n",
       "      <td>7.008211</td>\n",
       "      <td>9.145673</td>\n",
       "      <td>...</td>\n",
       "      <td>3739.4300</td>\n",
       "      <td>2809.7200</td>\n",
       "      <td>2350.390</td>\n",
       "      <td>4079.3500</td>\n",
       "      <td>7302.00000</td>\n",
       "      <td>2898.6400</td>\n",
       "      <td>3494.1600</td>\n",
       "      <td>5225.7500</td>\n",
       "      <td>5917.5400</td>\n",
       "      <td>4249.9400</td>\n",
       "    </tr>\n",
       "    <tr>\n",
       "      <td>1</td>\n",
       "      <td>1053_at</td>\n",
       "      <td>6.411660</td>\n",
       "      <td>5.665370</td>\n",
       "      <td>5.613482</td>\n",
       "      <td>5.190008</td>\n",
       "      <td>5.180046</td>\n",
       "      <td>6.396298</td>\n",
       "      <td>6.048790</td>\n",
       "      <td>5.671556</td>\n",
       "      <td>5.624627</td>\n",
       "      <td>...</td>\n",
       "      <td>1205.6400</td>\n",
       "      <td>883.9270</td>\n",
       "      <td>1418.130</td>\n",
       "      <td>721.6150</td>\n",
       "      <td>641.33900</td>\n",
       "      <td>1009.4900</td>\n",
       "      <td>788.6240</td>\n",
       "      <td>1227.7000</td>\n",
       "      <td>662.1490</td>\n",
       "      <td>1315.5500</td>\n",
       "    </tr>\n",
       "    <tr>\n",
       "      <td>2</td>\n",
       "      <td>117_at</td>\n",
       "      <td>6.181633</td>\n",
       "      <td>5.700626</td>\n",
       "      <td>5.786576</td>\n",
       "      <td>5.237599</td>\n",
       "      <td>6.131352</td>\n",
       "      <td>7.620443</td>\n",
       "      <td>6.481317</td>\n",
       "      <td>5.739559</td>\n",
       "      <td>6.072929</td>\n",
       "      <td>...</td>\n",
       "      <td>89.1387</td>\n",
       "      <td>81.6689</td>\n",
       "      <td>366.327</td>\n",
       "      <td>151.8190</td>\n",
       "      <td>191.91400</td>\n",
       "      <td>134.4140</td>\n",
       "      <td>67.0623</td>\n",
       "      <td>104.0020</td>\n",
       "      <td>15.1112</td>\n",
       "      <td>119.9420</td>\n",
       "    </tr>\n",
       "    <tr>\n",
       "      <td>3</td>\n",
       "      <td>121_at</td>\n",
       "      <td>7.436633</td>\n",
       "      <td>7.053211</td>\n",
       "      <td>7.258615</td>\n",
       "      <td>7.562595</td>\n",
       "      <td>7.330315</td>\n",
       "      <td>7.364233</td>\n",
       "      <td>7.421833</td>\n",
       "      <td>7.620457</td>\n",
       "      <td>7.507055</td>\n",
       "      <td>...</td>\n",
       "      <td>787.3290</td>\n",
       "      <td>848.5340</td>\n",
       "      <td>1454.480</td>\n",
       "      <td>1142.3000</td>\n",
       "      <td>1099.31000</td>\n",
       "      <td>762.8810</td>\n",
       "      <td>408.8580</td>\n",
       "      <td>684.3200</td>\n",
       "      <td>612.0700</td>\n",
       "      <td>809.6950</td>\n",
       "    </tr>\n",
       "    <tr>\n",
       "      <td>4</td>\n",
       "      <td>1255_g_at</td>\n",
       "      <td>2.887094</td>\n",
       "      <td>3.000947</td>\n",
       "      <td>3.121344</td>\n",
       "      <td>3.086248</td>\n",
       "      <td>3.480671</td>\n",
       "      <td>2.905494</td>\n",
       "      <td>2.968376</td>\n",
       "      <td>3.221801</td>\n",
       "      <td>3.069448</td>\n",
       "      <td>...</td>\n",
       "      <td>80.9794</td>\n",
       "      <td>30.6078</td>\n",
       "      <td>103.337</td>\n",
       "      <td>36.9773</td>\n",
       "      <td>5.61104</td>\n",
       "      <td>92.5094</td>\n",
       "      <td>30.6197</td>\n",
       "      <td>17.8383</td>\n",
       "      <td>11.1367</td>\n",
       "      <td>93.9161</td>\n",
       "    </tr>\n",
       "  </tbody>\n",
       "</table>\n",
       "<p>5 rows × 1495 columns</p>\n",
       "</div>"
      ],
      "text/plain": [
       "      ID_REF  GSM279964  GSM279974  GSM279975  GSM279977  GSM279978  \\\n",
       "0  1007_s_at  10.022909   9.818693   9.647424   9.841938   9.190691   \n",
       "1    1053_at   6.411660   5.665370   5.613482   5.190008   5.180046   \n",
       "2     117_at   6.181633   5.700626   5.786576   5.237599   6.131352   \n",
       "3     121_at   7.436633   7.053211   7.258615   7.562595   7.330315   \n",
       "4  1255_g_at   2.887094   3.000947   3.121344   3.086248   3.480671   \n",
       "\n",
       "   GSM279958  GSM279961  GSM279963  GSM279965  ...  GSM237966  GSM237967  \\\n",
       "0  10.214065  10.284017   7.008211   9.145673  ...  3739.4300  2809.7200   \n",
       "1   6.396298   6.048790   5.671556   5.624627  ...  1205.6400   883.9270   \n",
       "2   7.620443   6.481317   5.739559   6.072929  ...    89.1387    81.6689   \n",
       "3   7.364233   7.421833   7.620457   7.507055  ...   787.3290   848.5340   \n",
       "4   2.905494   2.968376   3.221801   3.069448  ...    80.9794    30.6078   \n",
       "\n",
       "   GSM237968  GSM237969   GSM237970  GSM237972  GSM237973  GSM237974  \\\n",
       "0   2350.390  4079.3500  7302.00000  2898.6400  3494.1600  5225.7500   \n",
       "1   1418.130   721.6150   641.33900  1009.4900   788.6240  1227.7000   \n",
       "2    366.327   151.8190   191.91400   134.4140    67.0623   104.0020   \n",
       "3   1454.480  1142.3000  1099.31000   762.8810   408.8580   684.3200   \n",
       "4    103.337    36.9773     5.61104    92.5094    30.6197    17.8383   \n",
       "\n",
       "   GSM237977  GSM237978  \n",
       "0  5917.5400  4249.9400  \n",
       "1   662.1490  1315.5500  \n",
       "2    15.1112   119.9420  \n",
       "3   612.0700   809.6950  \n",
       "4    11.1367    93.9161  \n",
       "\n",
       "[5 rows x 1495 columns]"
      ]
     },
     "execution_count": 2,
     "metadata": {},
     "output_type": "execute_result"
    }
   ],
   "source": [
    "data = pd.read_csv(\"mirnas_all_nov21.txt\", sep=\"\\t\")\n",
    "labels = pd.read_csv(\"mirnas_all_labels_nov21.txt\", sep=\"\\t\")\n",
    "\n",
    "data=data.drop(['Unnamed: 0'], axis=1)\n",
    "data.set_index('ID_REF')\n",
    "data.head()\n"
   ]
  },
  {
   "cell_type": "code",
   "execution_count": 5,
   "metadata": {},
   "outputs": [
    {
     "name": "stdout",
     "output_type": "stream",
     "text": [
      "     Dataset_id  Class_id                                         Class_name  \\\n",
      "0      GSE11078         1  metastasis tumor of breast cancer lung metastasis   \n",
      "1      GSE11078         1  metastasis tumor of breast cancer lung metastasis   \n",
      "2      GSE11078         1  metastasis tumor of breast cancer lung metastasis   \n",
      "3      GSE11078         1  metastasis tumor of breast cancer lung metastasis   \n",
      "4      GSE11078         1  metastasis tumor of breast cancer lung metastasis   \n",
      "...         ...       ...                                                ...   \n",
      "1489    GSE9348         2                   primary tumor without metastasis   \n",
      "1490    GSE9348         2                   primary tumor without metastasis   \n",
      "1491    GSE9348         2                   primary tumor without metastasis   \n",
      "1492    GSE9348         2                   primary tumor without metastasis   \n",
      "1493    GSE9348         2                   primary tumor without metastasis   \n",
      "\n",
      "      Sample_id        Cancer_type Cancer_subtype Metastasis_status  \\\n",
      "0     GSM279964      breast cancer            NaN               YES   \n",
      "1     GSM279974      breast cancer            NaN               YES   \n",
      "2     GSM279975      breast cancer            NaN               YES   \n",
      "3     GSM279977      breast cancer            NaN               YES   \n",
      "4     GSM279978      breast cancer            NaN               YES   \n",
      "...         ...                ...            ...               ...   \n",
      "1489  GSM237972  colorectal cancer            NaN                NO   \n",
      "1490  GSM237973  colorectal cancer            NaN                NO   \n",
      "1491  GSM237974  colorectal cancer            NaN                NO   \n",
      "1492  GSM237977  colorectal cancer            NaN                NO   \n",
      "1493  GSM237978  colorectal cancer            NaN                NO   \n",
      "\n",
      "     Primary_site Metastasis_site      Sample_label  \n",
      "0          breast            lung  Metastasis Tumor  \n",
      "1          breast            lung  Metastasis Tumor  \n",
      "2          breast            lung  Metastasis Tumor  \n",
      "3          breast            lung  Metastasis Tumor  \n",
      "4          breast            lung  Metastasis Tumor  \n",
      "...           ...             ...               ...  \n",
      "1489   colorectum             NaN     Primary Tumor  \n",
      "1490   colorectum             NaN     Primary Tumor  \n",
      "1491   colorectum             NaN     Primary Tumor  \n",
      "1492   colorectum             NaN     Primary Tumor  \n",
      "1493   colorectum             NaN     Primary Tumor  \n",
      "\n",
      "[1494 rows x 10 columns]\n"
     ]
    }
   ],
   "source": [
    "print(labels)"
   ]
  },
  {
   "cell_type": "code",
   "execution_count": 11,
   "metadata": {},
   "outputs": [
    {
     "data": {
      "text/plain": [
       "(54675, 1494)"
      ]
     },
     "execution_count": 11,
     "metadata": {},
     "output_type": "execute_result"
    }
   ],
   "source": [
    "# turn dataset into numpy array; will need these to recreate data frame later\n",
    "data_heading=data.columns\n",
    "id_refs=data['ID_REF']\n",
    "\n",
    "np_data = np.array(data)[:,1:].astype(float)\n",
    "np_data.shape"
   ]
  },
  {
   "cell_type": "code",
   "execution_count": 16,
   "metadata": {},
   "outputs": [
    {
     "data": {
      "text/plain": [
       "(array(['bone', 'breast', 'colorectum', 'kindey', 'liver', 'skin',\n",
       "        'stomach', 'thyroid'], dtype=object),\n",
       " array([ 37, 410, 669, 156,  39,  91,   1,  91], dtype=int64))"
      ]
     },
     "execution_count": 16,
     "metadata": {},
     "output_type": "execute_result"
    }
   ],
   "source": [
    "# get primary site and metastasis sites labels into numpy array\n",
    "primary_labels = labels['Primary_site'].values\n",
    "metastasis_sites = labels['Metastasis_site'].values\n",
    "primary_labels=np.asarray(primary_labels)\n",
    "metastasis_sites=np.asarray(metastasis_sites,dtype=np.string_)\n",
    "\n",
    "np.unique(primary_labels,return_counts=True)"
   ]
  },
  {
   "cell_type": "code",
   "execution_count": 17,
   "metadata": {},
   "outputs": [
    {
     "data": {
      "text/plain": [
       "(array([b'adrenal gland', b'adrenal gland,bone,lung',\n",
       "        b'adrenal gland,bone,lymph node', b'adrenal gland,lung,renal',\n",
       "        b'adrenal gland,renal,pancreas,parotis', b'bone', b'brain',\n",
       "        b'brain,other', b'breast', b'liver', b'lung', b'lung,liver',\n",
       "        b'lung,lymph node', b'lung,mediastinal', b'lung,skin',\n",
       "        b'lung,soft tissue', b'lymph node', b'nan', b'other', b'pleura',\n",
       "        b'skin', b'unknown'], dtype='|S36'),\n",
       " array([  6,   1,   1,   1,   1,  18,  22,   8,  19,  80, 103,   1,   1,\n",
       "          1,   1,   1,  75, 693, 187,   1,   6, 267], dtype=int64))"
      ]
     },
     "execution_count": 17,
     "metadata": {},
     "output_type": "execute_result"
    }
   ],
   "source": [
    "np.unique(metastasis_sites,return_counts=True)"
   ]
  },
  {
   "cell_type": "code",
   "execution_count": 84,
   "metadata": {},
   "outputs": [
    {
     "name": "stdout",
     "output_type": "stream",
     "text": [
      "(54675, 103)\n"
     ]
    },
    {
     "data": {
      "text/plain": [
       "(array(['breast', 'kindey', 'liver'], dtype=object),\n",
       " array([ 9, 79, 15], dtype=int64))"
      ]
     },
     "execution_count": 84,
     "metadata": {},
     "output_type": "execute_result"
    }
   ],
   "source": [
    "# use only data with metastasis site as lung\n",
    "data_lung = np_data[:,(metastasis_sites==b'lung')]\n",
    "print(data_lung.shape)\n",
    "primary_labels_lung = primary_labels[(metastasis_sites==b'lung')]\n",
    "np.unique(primary_labels_lung,return_counts=True)"
   ]
  },
  {
   "cell_type": "markdown",
   "metadata": {},
   "source": [
    "# Dimensionality Reduction using PCA"
   ]
  },
  {
   "cell_type": "code",
   "execution_count": 28,
   "metadata": {},
   "outputs": [],
   "source": [
    "# tiffany's PCA, uses SVD\n",
    "def PCA(PCA_K, input_data):\n",
    "\n",
    "    total_dim, sample_n = input_data.shape\n",
    "\n",
    "    data_mean = np.reshape(np.mean(input_data, axis=1),(total_dim,1))\n",
    "    data_demean = np.subtract(input_data, data_mean)\n",
    "\n",
    "    u, s, vt = svds(data_demean, k=PCA_K)\n",
    "\n",
    "    PCA_weights = np.matmul(np.transpose(u), data_demean)\n",
    "    \n",
    "    return PCA_weights, u, s, data_mean\n"
   ]
  },
  {
   "cell_type": "code",
   "execution_count": 31,
   "metadata": {},
   "outputs": [],
   "source": [
    "num_dims = 102\n",
    "weights, u, s, mean = PCA(num_dims, data_lung)"
   ]
  },
  {
   "cell_type": "code",
   "execution_count": 78,
   "metadata": {},
   "outputs": [],
   "source": [
    "# Adjust number of features used here\n",
    "num_features = 30\n",
    "pca_data = np.matmul(np.transpose(u[:,num_dims - num_features:]), np.subtract(data_lung,mean))"
   ]
  },
  {
   "cell_type": "markdown",
   "metadata": {},
   "source": [
    "# Test Train Split"
   ]
  },
  {
   "cell_type": "code",
   "execution_count": 79,
   "metadata": {},
   "outputs": [],
   "source": [
    "# train test split \n",
    "np.random.seed(69)\n",
    "ii = np.random.rand(len(pca_data[0])) < 0.7 \n",
    "\n",
    "train = pca_data[:,ii]\n",
    "test = pca_data[:,~ii]\n",
    "\n",
    "train_labels = primary_labels_lung[ii]\n",
    "test_labels = primary_labels_lung[~ii]\n",
    "\n",
    "# gsms=data.columns[1:]\n",
    "# train_gsm = gsms[ii]\n",
    "# test_gsm=gsms[~ii]"
   ]
  },
  {
   "cell_type": "code",
   "execution_count": 80,
   "metadata": {},
   "outputs": [
    {
     "name": "stdout",
     "output_type": "stream",
     "text": [
      "[ 7 67 10]\n",
      "(30, 84)\n"
     ]
    }
   ],
   "source": [
    "uniqs, counts = np.unique(train_labels, return_counts=True)\n",
    "print(counts)\n",
    "print(train.shape)\n",
    "# print(gsms.shape)"
   ]
  },
  {
   "cell_type": "markdown",
   "metadata": {},
   "source": [
    "# Training Model and Prediction"
   ]
  },
  {
   "cell_type": "code",
   "execution_count": 35,
   "metadata": {},
   "outputs": [],
   "source": [
    "def compute_confusion_matrix(true, pred):\n",
    "    '''\n",
    "    Compute a confusion matrix using numpy for two np.arrays\n",
    "    true and pred.\n",
    "\n",
    "    Results are identical (and similar in computation time) to: \n",
    "    \"from sklearn.metrics import confusion_matrix\"\n",
    "\n",
    "    https://stackoverflow.com/questions/2148543/how-to-write-a-confusion-matrix-in-python\n",
    "    '''\n",
    "    # lol map of indicies for non-numeric classes\n",
    "    count=0\n",
    "    idx={}\n",
    "    for i in np.unique(true):\n",
    "        idx[i]=count\n",
    "        count+=1\n",
    "        \n",
    "    K = len(np.unique(true)) # Number of classes \n",
    "    result = np.zeros((K, K))\n",
    "\n",
    "    for i in range(len(true)):\n",
    "        result[idx[true[i]]][idx[pred[i]]] += 1\n",
    "        \n",
    "    print(\"Accuracy: \" + str(np.trace(result)/len(true)))\n",
    "\n",
    "    return result"
   ]
  },
  {
   "cell_type": "code",
   "execution_count": 81,
   "metadata": {},
   "outputs": [
    {
     "name": "stderr",
     "output_type": "stream",
     "text": [
      "C:\\Users\\wl439\\Anaconda3\\lib\\site-packages\\scipy\\optimize\\linesearch.py:466: LineSearchWarning: The line search algorithm did not converge\n",
      "  warn('The line search algorithm did not converge', LineSearchWarning)\n",
      "C:\\Users\\wl439\\Anaconda3\\lib\\site-packages\\scipy\\optimize\\linesearch.py:314: LineSearchWarning: The line search algorithm did not converge\n",
      "  warn('The line search algorithm did not converge', LineSearchWarning)\n"
     ]
    }
   ],
   "source": [
    "from sklearn.linear_model import LogisticRegression\n",
    "from sklearn.metrics import cohen_kappa_score\n",
    "\n",
    "C_reg = 0.1\n",
    "class_w = 'balanced'\n",
    "solver = 'newton-cg'\n",
    "max_iter = 2000\n",
    "# logreg_multinomial = LogisticRegression(C=C_reg, class_weight=class_w, solver=solver, multi_class='multinomial', max_iter=max_iter).fit(train.T, train_labels)\n",
    "logreg_ovr = LogisticRegression(C=C_reg, class_weight=class_w, solver=solver, multi_class='ovr', max_iter=max_iter).fit(train.T, train_labels)"
   ]
  },
  {
   "cell_type": "code",
   "execution_count": 82,
   "metadata": {},
   "outputs": [],
   "source": [
    "# logpred_multinomial = logreg_multinomial.predict(test.T)\n",
    "logpred_ovr = logreg_ovr.predict(test.T)\n",
    "\n",
    "y_true = pd.Series(test_labels)\n",
    "# y_multinomial_pred = pd.Series(logpred_multinomial)\n",
    "y_ovr_pred = pd.Series(logpred_ovr)"
   ]
  },
  {
   "cell_type": "code",
   "execution_count": 73,
   "metadata": {},
   "outputs": [],
   "source": [
    "# print(\"Multinomial Logistics Regression Confusion Matrix:\")\n",
    "# cm_multinomial = compute_confusion_matrix(test_labels, y_multinomial_pred)\n",
    "# kappa_multi = cohen_kappa_score(test_labels, y_multinomial_pred)\n",
    "# print(\"kappa: \")\n",
    "# print(kappa_multi)\n",
    "# pd.crosstab(y_true, y_multinomial_pred, rownames=['True'], colnames=['Predicted'], margins=True)\n"
   ]
  },
  {
   "cell_type": "code",
   "execution_count": 83,
   "metadata": {},
   "outputs": [
    {
     "name": "stdout",
     "output_type": "stream",
     "text": [
      "One-over-all Logistics Regression Confusion Matrix:\n",
      "Accuracy: 0.8947368421052632\n",
      "kappa: \n",
      "0.8146341463414635\n"
     ]
    },
    {
     "data": {
      "text/html": [
       "<div>\n",
       "<style scoped>\n",
       "    .dataframe tbody tr th:only-of-type {\n",
       "        vertical-align: middle;\n",
       "    }\n",
       "\n",
       "    .dataframe tbody tr th {\n",
       "        vertical-align: top;\n",
       "    }\n",
       "\n",
       "    .dataframe thead th {\n",
       "        text-align: right;\n",
       "    }\n",
       "</style>\n",
       "<table border=\"1\" class=\"dataframe\">\n",
       "  <thead>\n",
       "    <tr style=\"text-align: right;\">\n",
       "      <th>Predicted</th>\n",
       "      <th>breast</th>\n",
       "      <th>kindey</th>\n",
       "      <th>liver</th>\n",
       "      <th>All</th>\n",
       "    </tr>\n",
       "    <tr>\n",
       "      <th>True</th>\n",
       "      <th></th>\n",
       "      <th></th>\n",
       "      <th></th>\n",
       "      <th></th>\n",
       "    </tr>\n",
       "  </thead>\n",
       "  <tbody>\n",
       "    <tr>\n",
       "      <td>breast</td>\n",
       "      <td>2</td>\n",
       "      <td>0</td>\n",
       "      <td>0</td>\n",
       "      <td>2</td>\n",
       "    </tr>\n",
       "    <tr>\n",
       "      <td>kindey</td>\n",
       "      <td>1</td>\n",
       "      <td>10</td>\n",
       "      <td>1</td>\n",
       "      <td>12</td>\n",
       "    </tr>\n",
       "    <tr>\n",
       "      <td>liver</td>\n",
       "      <td>0</td>\n",
       "      <td>0</td>\n",
       "      <td>5</td>\n",
       "      <td>5</td>\n",
       "    </tr>\n",
       "    <tr>\n",
       "      <td>All</td>\n",
       "      <td>3</td>\n",
       "      <td>10</td>\n",
       "      <td>6</td>\n",
       "      <td>19</td>\n",
       "    </tr>\n",
       "  </tbody>\n",
       "</table>\n",
       "</div>"
      ],
      "text/plain": [
       "Predicted  breast  kindey  liver  All\n",
       "True                                 \n",
       "breast          2       0      0    2\n",
       "kindey          1      10      1   12\n",
       "liver           0       0      5    5\n",
       "All             3      10      6   19"
      ]
     },
     "execution_count": 83,
     "metadata": {},
     "output_type": "execute_result"
    }
   ],
   "source": [
    "print(\"One-over-all Logistics Regression Confusion Matrix:\")\n",
    "cm_ovr = compute_confusion_matrix(test_labels, y_ovr_pred)\n",
    "kappa_ovr = cohen_kappa_score(test_labels, y_ovr_pred)\n",
    "print(\"kappa: \")\n",
    "print(kappa_ovr)\n",
    "pd.crosstab(y_true, y_ovr_pred, rownames=['True'], colnames=['Predicted'], margins=True)\n"
   ]
  },
  {
   "cell_type": "markdown",
   "metadata": {},
   "source": [
    "### After playing around with the parameters and number of features, using 30 features in a one-over-all logistics regression model with a newton optimization method with 2000 max iterations gives the best performance. Note that the classes need to be weighted to balance the imbalanced distribution. \n",
    "\n",
    "### All classes can be predicted fairly balancedly"
   ]
  }
 ],
 "metadata": {
  "kernelspec": {
   "display_name": "Python 3",
   "language": "python",
   "name": "python3"
  },
  "language_info": {
   "codemirror_mode": {
    "name": "ipython",
    "version": 3
   },
   "file_extension": ".py",
   "mimetype": "text/x-python",
   "name": "python",
   "nbconvert_exporter": "python",
   "pygments_lexer": "ipython3",
   "version": "3.7.4"
  }
 },
 "nbformat": 4,
 "nbformat_minor": 2
}
