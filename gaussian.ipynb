{
 "cells": [
  {
   "cell_type": "code",
   "execution_count": 2,
   "metadata": {},
   "outputs": [],
   "source": [
    "import matplotlib.pyplot as plt\n",
    "import pandas as pd\n",
    "import numpy as np\n",
    "import sklearn\n",
    "from sklearn.decomposition import PCA\n",
    "import scipy\n",
    "from scipy.sparse.linalg import svds"
   ]
  },
  {
   "cell_type": "code",
   "execution_count": 4,
   "metadata": {},
   "outputs": [
    {
     "data": {
      "text/html": [
       "<div>\n",
       "<style scoped>\n",
       "    .dataframe tbody tr th:only-of-type {\n",
       "        vertical-align: middle;\n",
       "    }\n",
       "\n",
       "    .dataframe tbody tr th {\n",
       "        vertical-align: top;\n",
       "    }\n",
       "\n",
       "    .dataframe thead th {\n",
       "        text-align: right;\n",
       "    }\n",
       "</style>\n",
       "<table border=\"1\" class=\"dataframe\">\n",
       "  <thead>\n",
       "    <tr style=\"text-align: right;\">\n",
       "      <th></th>\n",
       "      <th>ID_REF</th>\n",
       "      <th>GSM279964</th>\n",
       "      <th>GSM279974</th>\n",
       "      <th>GSM279975</th>\n",
       "      <th>GSM279977</th>\n",
       "      <th>GSM279978</th>\n",
       "      <th>GSM279958</th>\n",
       "      <th>GSM279961</th>\n",
       "      <th>GSM279963</th>\n",
       "      <th>GSM279965</th>\n",
       "      <th>...</th>\n",
       "      <th>GSM237966</th>\n",
       "      <th>GSM237967</th>\n",
       "      <th>GSM237968</th>\n",
       "      <th>GSM237969</th>\n",
       "      <th>GSM237970</th>\n",
       "      <th>GSM237972</th>\n",
       "      <th>GSM237973</th>\n",
       "      <th>GSM237974</th>\n",
       "      <th>GSM237977</th>\n",
       "      <th>GSM237978</th>\n",
       "    </tr>\n",
       "  </thead>\n",
       "  <tbody>\n",
       "    <tr>\n",
       "      <th>0</th>\n",
       "      <td>1007_s_at</td>\n",
       "      <td>10.022909</td>\n",
       "      <td>9.818693</td>\n",
       "      <td>9.647424</td>\n",
       "      <td>9.841938</td>\n",
       "      <td>9.190691</td>\n",
       "      <td>10.214065</td>\n",
       "      <td>10.284017</td>\n",
       "      <td>7.008211</td>\n",
       "      <td>9.145673</td>\n",
       "      <td>...</td>\n",
       "      <td>3739.4300</td>\n",
       "      <td>2809.7200</td>\n",
       "      <td>2350.390</td>\n",
       "      <td>4079.3500</td>\n",
       "      <td>7302.00000</td>\n",
       "      <td>2898.6400</td>\n",
       "      <td>3494.1600</td>\n",
       "      <td>5225.7500</td>\n",
       "      <td>5917.5400</td>\n",
       "      <td>4249.9400</td>\n",
       "    </tr>\n",
       "    <tr>\n",
       "      <th>1</th>\n",
       "      <td>1053_at</td>\n",
       "      <td>6.411660</td>\n",
       "      <td>5.665370</td>\n",
       "      <td>5.613482</td>\n",
       "      <td>5.190008</td>\n",
       "      <td>5.180046</td>\n",
       "      <td>6.396298</td>\n",
       "      <td>6.048790</td>\n",
       "      <td>5.671556</td>\n",
       "      <td>5.624627</td>\n",
       "      <td>...</td>\n",
       "      <td>1205.6400</td>\n",
       "      <td>883.9270</td>\n",
       "      <td>1418.130</td>\n",
       "      <td>721.6150</td>\n",
       "      <td>641.33900</td>\n",
       "      <td>1009.4900</td>\n",
       "      <td>788.6240</td>\n",
       "      <td>1227.7000</td>\n",
       "      <td>662.1490</td>\n",
       "      <td>1315.5500</td>\n",
       "    </tr>\n",
       "    <tr>\n",
       "      <th>2</th>\n",
       "      <td>117_at</td>\n",
       "      <td>6.181633</td>\n",
       "      <td>5.700626</td>\n",
       "      <td>5.786576</td>\n",
       "      <td>5.237599</td>\n",
       "      <td>6.131352</td>\n",
       "      <td>7.620443</td>\n",
       "      <td>6.481317</td>\n",
       "      <td>5.739559</td>\n",
       "      <td>6.072929</td>\n",
       "      <td>...</td>\n",
       "      <td>89.1387</td>\n",
       "      <td>81.6689</td>\n",
       "      <td>366.327</td>\n",
       "      <td>151.8190</td>\n",
       "      <td>191.91400</td>\n",
       "      <td>134.4140</td>\n",
       "      <td>67.0623</td>\n",
       "      <td>104.0020</td>\n",
       "      <td>15.1112</td>\n",
       "      <td>119.9420</td>\n",
       "    </tr>\n",
       "    <tr>\n",
       "      <th>3</th>\n",
       "      <td>121_at</td>\n",
       "      <td>7.436633</td>\n",
       "      <td>7.053211</td>\n",
       "      <td>7.258615</td>\n",
       "      <td>7.562595</td>\n",
       "      <td>7.330315</td>\n",
       "      <td>7.364233</td>\n",
       "      <td>7.421833</td>\n",
       "      <td>7.620457</td>\n",
       "      <td>7.507055</td>\n",
       "      <td>...</td>\n",
       "      <td>787.3290</td>\n",
       "      <td>848.5340</td>\n",
       "      <td>1454.480</td>\n",
       "      <td>1142.3000</td>\n",
       "      <td>1099.31000</td>\n",
       "      <td>762.8810</td>\n",
       "      <td>408.8580</td>\n",
       "      <td>684.3200</td>\n",
       "      <td>612.0700</td>\n",
       "      <td>809.6950</td>\n",
       "    </tr>\n",
       "    <tr>\n",
       "      <th>4</th>\n",
       "      <td>1255_g_at</td>\n",
       "      <td>2.887094</td>\n",
       "      <td>3.000947</td>\n",
       "      <td>3.121344</td>\n",
       "      <td>3.086248</td>\n",
       "      <td>3.480671</td>\n",
       "      <td>2.905494</td>\n",
       "      <td>2.968376</td>\n",
       "      <td>3.221801</td>\n",
       "      <td>3.069448</td>\n",
       "      <td>...</td>\n",
       "      <td>80.9794</td>\n",
       "      <td>30.6078</td>\n",
       "      <td>103.337</td>\n",
       "      <td>36.9773</td>\n",
       "      <td>5.61104</td>\n",
       "      <td>92.5094</td>\n",
       "      <td>30.6197</td>\n",
       "      <td>17.8383</td>\n",
       "      <td>11.1367</td>\n",
       "      <td>93.9161</td>\n",
       "    </tr>\n",
       "  </tbody>\n",
       "</table>\n",
       "<p>5 rows × 1495 columns</p>\n",
       "</div>"
      ],
      "text/plain": [
       "      ID_REF  GSM279964  GSM279974  GSM279975  GSM279977  GSM279978  \\\n",
       "0  1007_s_at  10.022909   9.818693   9.647424   9.841938   9.190691   \n",
       "1    1053_at   6.411660   5.665370   5.613482   5.190008   5.180046   \n",
       "2     117_at   6.181633   5.700626   5.786576   5.237599   6.131352   \n",
       "3     121_at   7.436633   7.053211   7.258615   7.562595   7.330315   \n",
       "4  1255_g_at   2.887094   3.000947   3.121344   3.086248   3.480671   \n",
       "\n",
       "   GSM279958  GSM279961  GSM279963  GSM279965  ...  GSM237966  GSM237967  \\\n",
       "0  10.214065  10.284017   7.008211   9.145673  ...  3739.4300  2809.7200   \n",
       "1   6.396298   6.048790   5.671556   5.624627  ...  1205.6400   883.9270   \n",
       "2   7.620443   6.481317   5.739559   6.072929  ...    89.1387    81.6689   \n",
       "3   7.364233   7.421833   7.620457   7.507055  ...   787.3290   848.5340   \n",
       "4   2.905494   2.968376   3.221801   3.069448  ...    80.9794    30.6078   \n",
       "\n",
       "   GSM237968  GSM237969   GSM237970  GSM237972  GSM237973  GSM237974  \\\n",
       "0   2350.390  4079.3500  7302.00000  2898.6400  3494.1600  5225.7500   \n",
       "1   1418.130   721.6150   641.33900  1009.4900   788.6240  1227.7000   \n",
       "2    366.327   151.8190   191.91400   134.4140    67.0623   104.0020   \n",
       "3   1454.480  1142.3000  1099.31000   762.8810   408.8580   684.3200   \n",
       "4    103.337    36.9773     5.61104    92.5094    30.6197    17.8383   \n",
       "\n",
       "   GSM237977  GSM237978  \n",
       "0  5917.5400  4249.9400  \n",
       "1   662.1490  1315.5500  \n",
       "2    15.1112   119.9420  \n",
       "3   612.0700   809.6950  \n",
       "4    11.1367    93.9161  \n",
       "\n",
       "[5 rows x 1495 columns]"
      ]
     },
     "execution_count": 4,
     "metadata": {},
     "output_type": "execute_result"
    }
   ],
   "source": [
    "data = pd.read_csv(\"mirnas_all_nov21.txt\", sep=\"\\t\")\n",
    "labels = pd.read_csv(\"mirnas_all_labels_nov21.txt\", sep=\"\\t\")\n",
    "\n",
    "data=data.drop(['Unnamed: 0'], axis=1)\n",
    "data.set_index('ID_REF')\n",
    "data.head()"
   ]
  },
  {
   "cell_type": "code",
   "execution_count": 5,
   "metadata": {},
   "outputs": [],
   "source": [
    "# tiffany's PCA, uses SVD\n",
    "def PCA(PCA_K, input_data):\n",
    "\n",
    "    total_dim, sample_n = input_data.shape\n",
    "\n",
    "    data_mean = np.reshape(np.mean(input_data, axis=1),(total_dim,1))\n",
    "    data_demean = np.subtract(input_data, data_mean)\n",
    "\n",
    "    u, s, vt = svds(data_demean, k=PCA_K)\n",
    "\n",
    "    PCA_weights = np.matmul(np.transpose(u), data_demean)\n",
    "    \n",
    "    return PCA_weights, u, s, data_mean\n"
   ]
  },
  {
   "cell_type": "code",
   "execution_count": 6,
   "metadata": {},
   "outputs": [
    {
     "data": {
      "text/plain": [
       "(54675, 1494)"
      ]
     },
     "execution_count": 6,
     "metadata": {},
     "output_type": "execute_result"
    }
   ],
   "source": [
    "# will need these to recreate data frame later\n",
    "data_heading=data.columns\n",
    "id_refs=data['ID_REF']\n",
    "\n",
    "np_data = np.array(data)[:,1:].astype(float)\n",
    "np_data.shape"
   ]
  },
  {
   "cell_type": "markdown",
   "metadata": {},
   "source": [
    "## Dimensionality Reduction (PCA)"
   ]
  },
  {
   "cell_type": "code",
   "execution_count": 7,
   "metadata": {},
   "outputs": [],
   "source": [
    "num_dims = 500\n",
    "weights, u, s, mean = PCA(num_dims, np_data)"
   ]
  },
  {
   "cell_type": "code",
   "execution_count": 53,
   "metadata": {},
   "outputs": [],
   "source": [
    "num_features = 50\n",
    "pca_data = np.matmul(np.transpose(u[:,num_dims - num_features:]), np.subtract(np_data,mean))"
   ]
  },
  {
   "cell_type": "code",
   "execution_count": 54,
   "metadata": {},
   "outputs": [],
   "source": [
    "# get labels \n",
    "sample_labels=labels['Sample_label'].values\n",
    "\n",
    "sample_labels = ['Normal' if x=='Metastasis Normal' or x=='Primary Normal' else x for x in labels['Sample_label'].values]\n",
    "sample_labels=np.asarray(sample_labels)"
   ]
  },
  {
   "cell_type": "code",
   "execution_count": 55,
   "metadata": {},
   "outputs": [
    {
     "data": {
      "text/plain": [
       "(array(['Metastasis Tumor', 'Normal', 'Primary Tumor'], dtype='<U16'),\n",
       " array([ 243,   75, 1176]))"
      ]
     },
     "execution_count": 55,
     "metadata": {},
     "output_type": "execute_result"
    }
   ],
   "source": [
    "np.unique(sample_labels,return_counts=True)"
   ]
  },
  {
   "cell_type": "markdown",
   "metadata": {},
   "source": [
    "## Test Train Split"
   ]
  },
  {
   "cell_type": "code",
   "execution_count": 56,
   "metadata": {},
   "outputs": [],
   "source": [
    "# train test split \n",
    "np.random.seed(69)\n",
    "ii = np.random.rand(len(pca_data[0])) < 0.7 \n",
    "\n",
    "# np_data = data.values\n",
    "# np_types = types.values\n",
    "# np_labels = labels.values\n",
    "\n",
    "# # scaling data \n",
    "# from sklearn import preprocessing\n",
    "# min_max_scaler = preprocessing.MinMaxScaler()\n",
    "# np_data_min_max = min_max_scaler.fit_transform(np_data)\n",
    "\n",
    "train = pca_data[:,ii]\n",
    "test = pca_data[:,~ii]\n",
    "\n",
    "train_labels = sample_labels[ii]\n",
    "test_labels = sample_labels[~ii]\n",
    "\n",
    "gsms=data.columns[1:]\n",
    "train_gsm = gsms[ii]\n",
    "test_gsm=gsms[~ii]\n",
    "# train = np_data[ii]\n",
    "# test = np_data[~ii]\n",
    "\n",
    "# pand_train = data[ii]\n",
    "# pand_test = data[~ii]"
   ]
  },
  {
   "cell_type": "code",
   "execution_count": 57,
   "metadata": {},
   "outputs": [
    {
     "name": "stdout",
     "output_type": "stream",
     "text": [
      "[168  50 831]\n",
      "(50, 1049)\n"
     ]
    }
   ],
   "source": [
    "uniqs, counts = np.unique(train_labels, return_counts=True)\n",
    "print(counts)\n",
    "print(train.shape)"
   ]
  },
  {
   "cell_type": "markdown",
   "metadata": {},
   "source": [
    "## Training Model and Prediction"
   ]
  },
  {
   "cell_type": "code",
   "execution_count": 58,
   "metadata": {},
   "outputs": [],
   "source": [
    "def compute_confusion_matrix(true, pred):\n",
    "    '''\n",
    "    Compute a confusion matrix using numpy for two np.arrays\n",
    "    true and pred.\n",
    "\n",
    "    Results are identical (and similar in computation time) to: \n",
    "    \"from sklearn.metrics import confusion_matrix\"\n",
    "\n",
    "    https://stackoverflow.com/questions/2148543/how-to-write-a-confusion-matrix-in-python\n",
    "    '''\n",
    "    # lol map of indicies for non-numeric classes\n",
    "    count=0\n",
    "    idx={}\n",
    "    for i in np.unique(true):\n",
    "        idx[i]=count\n",
    "        count+=1\n",
    "        \n",
    "    K = len(np.unique(true)) # Number of classes \n",
    "    result = np.zeros((K, K))\n",
    "\n",
    "    for i in range(len(true)):\n",
    "        result[idx[true[i]]][idx[pred[i]]] += 1\n",
    "        \n",
    "    print(\"Accuracy: \" + str(np.trace(result)/len(true)))\n",
    "\n",
    "    return result\n"
   ]
  },
  {
   "cell_type": "code",
   "execution_count": 59,
   "metadata": {},
   "outputs": [],
   "source": [
    "def pdf_no_loop(X, mu, sigma):\n",
    "    \n",
    "    sigma_det = np.linalg.det(np.array(sigma))\n",
    "    #sigma_det = np.linalg.slogdet(np.array(sigma))\n",
    "    sigma_inv = np.linalg.inv(np.array(sigma))\n",
    "    \n",
    "    #print(\"Det and Inv\", sigma_det, sigma_inv)\n",
    "    \n",
    "    denominator = np.sqrt(2 * np.pi * sigma_det)\n",
    "    no_mean = X - mu\n",
    "    #print(\"No mean\", no_mean)\n",
    "    numerator = np.exp(-(1/2) * no_mean.T.dot(sigma_inv.dot(no_mean)))    \n",
    "    \n",
    "    #print((numerator/denominator).shape)\n",
    "    \n",
    "    print(\"num and dem\", numerator, denominator)\n",
    "        \n",
    "    \n",
    "    return numerator/denominator"
   ]
  },
  {
   "cell_type": "code",
   "execution_count": 60,
   "metadata": {},
   "outputs": [],
   "source": [
    "def pdf_log(X, mu, sigma):\n",
    "    #sigma_det = np.linalg.det(np.array(sigma))\n",
    "    sigma_det = np.sum(np.log(np.diag(sigma)))\n",
    "    sigma_inv = np.linalg.inv(np.array(sigma))\n",
    "    eps = 1e-6\n",
    "    \n",
    "    denominator = 0.5 * np.log((2 * np.pi * sigma_det) + eps)\n",
    "    no_mean = X - mu\n",
    "    numerator = -(1/2) * no_mean.T.dot(sigma_inv.dot(no_mean)) + eps\n",
    "    \n",
    "    #print(numerator)\n",
    "    \n",
    "    return numerator - denominator"
   ]
  },
  {
   "cell_type": "code",
   "execution_count": 61,
   "metadata": {},
   "outputs": [],
   "source": [
    "# This function finds the covariance\n",
    "def covariance(X):\n",
    "    #print(X.shape)\n",
    "    N = X.shape[1] - 1\n",
    "    covariance =  X.dot(X.T) / (N)\n",
    "    return covariance"
   ]
  },
  {
   "cell_type": "code",
   "execution_count": 62,
   "metadata": {},
   "outputs": [
    {
     "name": "stdout",
     "output_type": "stream",
     "text": [
      "Size of train class: (50, 168)\n",
      "Size of train class: (50, 50)\n",
      "Size of train class: (50, 831)\n",
      "(50, 3)\n"
     ]
    }
   ],
   "source": [
    "#num_features = 88\n",
    "# find mean and cov for each class\n",
    "means = []\n",
    "covs = []\n",
    "\n",
    "prev = 0\n",
    "for c in counts:\n",
    "    mrna = train[:, prev: c]\n",
    "    print(\"Size of train class:\", mrna.shape)\n",
    "    \n",
    "    means.append(np.mean(mrna, axis=1))\n",
    "    norm = mrna.T - np.mean(mrna, axis=1)\n",
    "    cov = covariance(norm.T).reshape(num_features * num_features)\n",
    "    covs.append(cov)\n",
    "\n",
    "# result should be mean = 88 x 3 array\n",
    "means = np.array(means).T\n",
    "print(means.shape)\n",
    "\n",
    "# result for cov should be num_features * num_features x 10 array that can be reshaped to 2x2\n",
    "covs = np.array(covs).T\n",
    "\n",
    "# Now have covariance and means for each class\n",
    "#return means, covs, pca[0], pca[2]\n",
    "#return means, covs, pca2.components_, pca2.mean_"
   ]
  },
  {
   "cell_type": "code",
   "execution_count": 63,
   "metadata": {},
   "outputs": [
    {
     "name": "stdout",
     "output_type": "stream",
     "text": [
      "[[ 4.54894565e+01  5.59070590e+02 -5.47843689e+01]\n",
      " [ 8.28163097e+01 -5.09752112e+02  2.60586377e+02]\n",
      " [-5.70102817e+02  1.52797292e+02 -3.41433237e+02]\n",
      " [-7.26511138e+02 -5.84363457e+02 -1.39807287e+02]\n",
      " [-9.86684743e+02  2.28626376e+02 -2.05464843e+02]\n",
      " [-6.31259308e+02 -5.26610053e+02 -4.38141128e+01]\n",
      " [-3.66217768e+02  4.88546953e+02 -5.37271135e+00]\n",
      " [ 8.44860740e+02  4.67158253e+02  2.55585923e+02]\n",
      " [ 4.83503935e+02  1.24236064e+02  1.44344522e+01]\n",
      " [-1.72344063e+03  9.36022944e+02 -3.03453486e+02]\n",
      " [-9.44928241e+02  1.56638963e+02 -1.13188947e+02]\n",
      " [ 5.83096114e+02  5.62518392e+02  2.07624864e+01]\n",
      " [ 3.76943913e+02 -2.07371615e+02 -1.64127994e+01]\n",
      " [-1.88419536e+03 -1.90639459e+02 -6.75016295e+02]\n",
      " [ 1.10802595e+03  4.47566512e+02 -1.89105553e+02]\n",
      " [ 5.85831119e+02 -9.93652741e+00 -1.12866829e+02]\n",
      " [ 1.34676750e+03  2.09169025e+02  3.79917206e+01]\n",
      " [-1.32729263e+03  4.65627707e+02 -5.42278503e+02]\n",
      " [ 6.97544730e+02  3.41042022e+02 -3.62534286e+02]\n",
      " [ 1.01205444e+03 -7.57775175e+02  6.68804679e+01]\n",
      " [-1.71892961e+03 -3.15105948e+02 -4.72369090e+00]\n",
      " [ 2.31790790e+03  6.44671724e+02  1.01531968e+02]\n",
      " [-1.58018450e+03  2.74868830e+02 -1.48406885e+02]\n",
      " [-6.26035275e+02 -4.37101028e+02 -3.45433671e+01]\n",
      " [ 6.46300891e+02 -8.14131541e+02 -4.27525016e+02]\n",
      " [ 2.56413915e+03  1.22146998e+03  1.12001640e+02]\n",
      " [ 3.83984291e+02 -5.83005003e+01 -2.91488639e+02]\n",
      " [ 4.71159197e+02 -3.48835931e+02  4.84445648e+02]\n",
      " [-6.59339283e+02 -1.54034619e+03  6.41676053e+02]\n",
      " [ 3.37671242e+02  4.32868697e+02  3.20260515e+01]\n",
      " [-1.20801073e+03 -2.54716642e+02 -4.80313066e+02]\n",
      " [-1.58448228e+03  2.03245589e+03 -3.11326204e+01]\n",
      " [-4.68297651e+03  8.78126933e+02 -6.72215702e+01]\n",
      " [ 1.86337853e+02  1.14672834e+03 -4.46605946e+02]\n",
      " [-3.22901045e+03 -9.71843763e+01 -7.02688922e+02]\n",
      " [ 1.54609094e+03 -4.50007277e+02 -4.27093690e+02]\n",
      " [ 3.14167928e+03  1.12613869e+03 -4.58527097e+02]\n",
      " [ 1.55690031e+02 -1.61262713e+03 -1.90416092e+02]\n",
      " [-3.93590527e+03  5.90901233e+02  6.94974581e+01]\n",
      " [ 5.46570516e+02  1.33099827e+03 -1.14647211e+02]\n",
      " [ 5.00638135e+03  2.10178043e+03 -8.61345780e+02]\n",
      " [ 4.00860797e+03  1.34180163e+03  3.40775090e+02]\n",
      " [ 9.46395783e+03  6.60212206e+02  2.12251351e+03]\n",
      " [ 1.10128030e+04  3.63103493e+03  2.57410385e+03]\n",
      " [-1.15467927e+04 -3.34888369e+03 -8.36641746e+02]\n",
      " [ 9.01988618e+03  1.01692711e+03  3.25352717e+03]\n",
      " [ 1.37431712e+04  9.88617820e+02  1.08812762e+03]\n",
      " [-1.22385314e+04 -3.41102210e+03 -6.28551910e+03]\n",
      " [-4.48116245e+04 -8.41296033e+03 -1.12433222e+04]\n",
      " [-4.60988758e+05  1.85479508e+05  1.28794399e+04]]\n"
     ]
    }
   ],
   "source": [
    "print(means)"
   ]
  },
  {
   "cell_type": "code",
   "execution_count": 64,
   "metadata": {},
   "outputs": [],
   "source": [
    "pdfs = []\n",
    "count = 0\n",
    "\n",
    "for digit in test.T:\n",
    "    pdfs.append([])\n",
    "    for mu in range(means.shape[1]):\n",
    "        #print(mus.shape)\n",
    "        res = pdf_log(digit, means[:, mu], covs[:, mu].reshape((num_features, num_features)))\n",
    "        pdfs[count].append(res)\n",
    "    count += 1"
   ]
  },
  {
   "cell_type": "code",
   "execution_count": 65,
   "metadata": {},
   "outputs": [
    {
     "name": "stdout",
     "output_type": "stream",
     "text": [
      "['Primary Tumor' 'Primary Tumor' 'Primary Tumor' 'Primary Tumor'\n",
      " 'Primary Tumor' 'Primary Tumor' 'Primary Tumor' 'Primary Tumor'\n",
      " 'Primary Tumor' 'Primary Tumor' 'Primary Tumor' 'Primary Tumor'\n",
      " 'Metastasis Tumor' 'Metastasis Tumor' 'Metastasis Tumor'\n",
      " 'Metastasis Tumor' 'Metastasis Tumor' 'Metastasis Tumor'\n",
      " 'Metastasis Tumor' 'Metastasis Tumor' 'Metastasis Tumor'\n",
      " 'Metastasis Tumor' 'Metastasis Tumor' 'Metastasis Tumor'\n",
      " 'Metastasis Tumor' 'Metastasis Tumor' 'Metastasis Tumor'\n",
      " 'Metastasis Tumor' 'Metastasis Tumor' 'Metastasis Tumor'\n",
      " 'Metastasis Tumor' 'Metastasis Tumor' 'Metastasis Tumor'\n",
      " 'Metastasis Tumor' 'Metastasis Tumor' 'Metastasis Tumor'\n",
      " 'Metastasis Tumor' 'Metastasis Tumor' 'Metastasis Tumor'\n",
      " 'Metastasis Tumor' 'Metastasis Tumor' 'Metastasis Tumor'\n",
      " 'Metastasis Tumor' 'Metastasis Tumor' 'Metastasis Tumor'\n",
      " 'Metastasis Tumor' 'Metastasis Tumor' 'Metastasis Tumor'\n",
      " 'Metastasis Tumor' 'Metastasis Tumor' 'Metastasis Tumor' 'Primary Tumor'\n",
      " 'Primary Tumor' 'Metastasis Tumor' 'Metastasis Tumor' 'Metastasis Tumor'\n",
      " 'Metastasis Tumor' 'Metastasis Tumor' 'Metastasis Tumor'\n",
      " 'Metastasis Tumor' 'Metastasis Tumor' 'Metastasis Tumor'\n",
      " 'Metastasis Tumor' 'Primary Tumor' 'Primary Tumor' 'Primary Tumor'\n",
      " 'Primary Tumor' 'Primary Tumor' 'Primary Tumor' 'Primary Tumor'\n",
      " 'Primary Tumor' 'Primary Tumor' 'Primary Tumor' 'Primary Tumor'\n",
      " 'Primary Tumor' 'Primary Tumor' 'Primary Tumor' 'Primary Tumor'\n",
      " 'Primary Tumor' 'Primary Tumor' 'Primary Tumor' 'Primary Tumor'\n",
      " 'Primary Tumor' 'Primary Tumor' 'Primary Tumor' 'Primary Tumor'\n",
      " 'Primary Tumor' 'Primary Tumor' 'Primary Tumor' 'Primary Tumor'\n",
      " 'Primary Tumor' 'Primary Tumor' 'Primary Tumor' 'Primary Tumor'\n",
      " 'Primary Tumor' 'Primary Tumor' 'Primary Tumor' 'Primary Tumor'\n",
      " 'Primary Tumor' 'Primary Tumor' 'Primary Tumor' 'Primary Tumor'\n",
      " 'Primary Tumor' 'Primary Tumor' 'Primary Tumor' 'Metastasis Tumor'\n",
      " 'Primary Tumor' 'Primary Tumor' 'Primary Tumor' 'Primary Tumor'\n",
      " 'Primary Tumor' 'Primary Tumor' 'Primary Tumor' 'Primary Tumor'\n",
      " 'Primary Tumor' 'Primary Tumor' 'Primary Tumor' 'Primary Tumor'\n",
      " 'Primary Tumor' 'Primary Tumor' 'Primary Tumor' 'Primary Tumor'\n",
      " 'Primary Tumor' 'Primary Tumor' 'Primary Tumor' 'Primary Tumor'\n",
      " 'Primary Tumor' 'Primary Tumor' 'Primary Tumor' 'Primary Tumor'\n",
      " 'Primary Tumor' 'Primary Tumor' 'Primary Tumor' 'Primary Tumor'\n",
      " 'Primary Tumor' 'Primary Tumor' 'Primary Tumor' 'Primary Tumor'\n",
      " 'Primary Tumor' 'Primary Tumor' 'Primary Tumor' 'Primary Tumor'\n",
      " 'Primary Tumor' 'Primary Tumor' 'Primary Tumor' 'Primary Tumor'\n",
      " 'Primary Tumor' 'Primary Tumor' 'Primary Tumor' 'Primary Tumor'\n",
      " 'Primary Tumor' 'Primary Tumor' 'Primary Tumor' 'Primary Tumor'\n",
      " 'Primary Tumor' 'Primary Tumor' 'Primary Tumor' 'Primary Tumor'\n",
      " 'Primary Tumor' 'Primary Tumor' 'Primary Tumor' 'Primary Tumor'\n",
      " 'Primary Tumor' 'Primary Tumor' 'Primary Tumor' 'Primary Tumor'\n",
      " 'Primary Tumor' 'Primary Tumor' 'Primary Tumor' 'Primary Tumor'\n",
      " 'Primary Tumor' 'Primary Tumor' 'Primary Tumor' 'Primary Tumor'\n",
      " 'Primary Tumor' 'Primary Tumor' 'Primary Tumor' 'Primary Tumor'\n",
      " 'Primary Tumor' 'Metastasis Tumor' 'Primary Tumor' 'Primary Tumor'\n",
      " 'Primary Tumor' 'Primary Tumor' 'Primary Tumor' 'Metastasis Tumor'\n",
      " 'Primary Tumor' 'Primary Tumor' 'Primary Tumor' 'Primary Tumor'\n",
      " 'Primary Tumor' 'Primary Tumor' 'Primary Tumor' 'Primary Tumor'\n",
      " 'Primary Tumor' 'Primary Tumor' 'Primary Tumor' 'Primary Tumor'\n",
      " 'Primary Tumor' 'Primary Tumor' 'Primary Tumor' 'Primary Tumor'\n",
      " 'Primary Tumor' 'Primary Tumor' 'Primary Tumor' 'Primary Tumor'\n",
      " 'Primary Tumor' 'Primary Tumor' 'Primary Tumor' 'Primary Tumor'\n",
      " 'Primary Tumor' 'Primary Tumor' 'Primary Tumor' 'Primary Tumor'\n",
      " 'Primary Tumor' 'Primary Tumor' 'Primary Tumor' 'Primary Tumor'\n",
      " 'Primary Tumor' 'Primary Tumor' 'Primary Tumor' 'Primary Tumor'\n",
      " 'Primary Tumor' 'Primary Tumor' 'Primary Tumor' 'Primary Tumor'\n",
      " 'Primary Tumor' 'Primary Tumor' 'Primary Tumor' 'Primary Tumor'\n",
      " 'Primary Tumor' 'Primary Tumor' 'Primary Tumor' 'Primary Tumor'\n",
      " 'Primary Tumor' 'Primary Tumor' 'Primary Tumor' 'Primary Tumor'\n",
      " 'Primary Tumor' 'Primary Tumor' 'Primary Tumor' 'Primary Tumor'\n",
      " 'Primary Tumor' 'Primary Tumor' 'Primary Tumor' 'Primary Tumor'\n",
      " 'Primary Tumor' 'Primary Tumor' 'Primary Tumor' 'Primary Tumor'\n",
      " 'Primary Tumor' 'Primary Tumor' 'Primary Tumor' 'Metastasis Tumor'\n",
      " 'Primary Tumor' 'Primary Tumor' 'Primary Tumor' 'Primary Tumor'\n",
      " 'Primary Tumor' 'Primary Tumor' 'Primary Tumor' 'Primary Tumor'\n",
      " 'Primary Tumor' 'Primary Tumor' 'Primary Tumor' 'Primary Tumor'\n",
      " 'Primary Tumor' 'Primary Tumor' 'Primary Tumor' 'Primary Tumor'\n",
      " 'Primary Tumor' 'Primary Tumor' 'Primary Tumor' 'Primary Tumor'\n",
      " 'Primary Tumor' 'Primary Tumor' 'Primary Tumor' 'Primary Tumor'\n",
      " 'Primary Tumor' 'Primary Tumor' 'Primary Tumor' 'Primary Tumor'\n",
      " 'Primary Tumor' 'Primary Tumor' 'Primary Tumor' 'Primary Tumor'\n",
      " 'Primary Tumor' 'Primary Tumor' 'Primary Tumor' 'Primary Tumor'\n",
      " 'Primary Tumor' 'Primary Tumor' 'Primary Tumor' 'Primary Tumor'\n",
      " 'Primary Tumor' 'Primary Tumor' 'Primary Tumor' 'Primary Tumor'\n",
      " 'Primary Tumor' 'Primary Tumor' 'Primary Tumor' 'Primary Tumor'\n",
      " 'Primary Tumor' 'Primary Tumor' 'Primary Tumor' 'Primary Tumor'\n",
      " 'Primary Tumor' 'Primary Tumor' 'Primary Tumor' 'Primary Tumor'\n",
      " 'Primary Tumor' 'Primary Tumor' 'Primary Tumor' 'Primary Tumor'\n",
      " 'Primary Tumor' 'Primary Tumor' 'Primary Tumor' 'Primary Tumor'\n",
      " 'Primary Tumor' 'Primary Tumor' 'Primary Tumor' 'Primary Tumor'\n",
      " 'Primary Tumor' 'Primary Tumor' 'Primary Tumor' 'Primary Tumor'\n",
      " 'Primary Tumor' 'Primary Tumor' 'Primary Tumor' 'Primary Tumor'\n",
      " 'Primary Tumor' 'Primary Tumor' 'Primary Tumor' 'Primary Tumor'\n",
      " 'Primary Tumor' 'Primary Tumor' 'Primary Tumor' 'Primary Tumor'\n",
      " 'Primary Tumor' 'Primary Tumor' 'Primary Tumor' 'Primary Tumor'\n",
      " 'Primary Tumor' 'Primary Tumor' 'Primary Tumor' 'Primary Tumor'\n",
      " 'Metastasis Tumor' 'Metastasis Tumor' 'Metastasis Tumor'\n",
      " 'Metastasis Tumor' 'Metastasis Tumor' 'Metastasis Tumor'\n",
      " 'Metastasis Tumor' 'Metastasis Tumor' 'Metastasis Tumor'\n",
      " 'Metastasis Tumor' 'Metastasis Tumor' 'Metastasis Tumor'\n",
      " 'Metastasis Tumor' 'Metastasis Tumor' 'Metastasis Tumor' 'Primary Tumor'\n",
      " 'Primary Tumor' 'Metastasis Tumor' 'Metastasis Tumor' 'Metastasis Tumor'\n",
      " 'Metastasis Tumor' 'Primary Tumor' 'Primary Tumor' 'Primary Tumor'\n",
      " 'Primary Tumor' 'Primary Tumor' 'Primary Tumor' 'Primary Tumor'\n",
      " 'Primary Tumor' 'Primary Tumor' 'Primary Tumor' 'Primary Tumor'\n",
      " 'Primary Tumor' 'Primary Tumor' 'Primary Tumor' 'Primary Tumor'\n",
      " 'Primary Tumor' 'Primary Tumor' 'Primary Tumor' 'Primary Tumor'\n",
      " 'Primary Tumor' 'Primary Tumor' 'Primary Tumor' 'Primary Tumor'\n",
      " 'Primary Tumor' 'Primary Tumor' 'Primary Tumor' 'Primary Tumor'\n",
      " 'Primary Tumor' 'Primary Tumor' 'Primary Tumor' 'Primary Tumor'\n",
      " 'Primary Tumor' 'Primary Tumor' 'Primary Tumor' 'Primary Tumor'\n",
      " 'Primary Tumor' 'Primary Tumor' 'Primary Tumor' 'Primary Tumor'\n",
      " 'Primary Tumor' 'Primary Tumor' 'Primary Tumor' 'Primary Tumor'\n",
      " 'Primary Tumor' 'Primary Tumor' 'Primary Tumor' 'Primary Tumor'\n",
      " 'Primary Tumor' 'Primary Tumor' 'Primary Tumor' 'Primary Tumor'\n",
      " 'Primary Tumor' 'Primary Tumor' 'Primary Tumor' 'Primary Tumor'\n",
      " 'Primary Tumor' 'Primary Tumor' 'Primary Tumor' 'Primary Tumor'\n",
      " 'Primary Tumor' 'Primary Tumor' 'Primary Tumor' 'Primary Tumor'\n",
      " 'Primary Tumor' 'Primary Tumor' 'Primary Tumor' 'Primary Tumor'\n",
      " 'Primary Tumor' 'Primary Tumor' 'Primary Tumor' 'Primary Tumor'\n",
      " 'Primary Tumor' 'Primary Tumor' 'Primary Tumor' 'Primary Tumor'\n",
      " 'Primary Tumor' 'Primary Tumor' 'Primary Tumor']\n"
     ]
    }
   ],
   "source": [
    "max_pdfs = np.argmax(pdfs, axis=1)\n",
    "preds = []\n",
    "for i in max_pdfs:\n",
    "    preds.append(uniqs[i])\n",
    "    \n",
    "preds = np.array(preds)\n",
    "print(preds)"
   ]
  },
  {
   "cell_type": "code",
   "execution_count": 66,
   "metadata": {},
   "outputs": [
    {
     "data": {
      "text/html": [
       "<div>\n",
       "<style scoped>\n",
       "    .dataframe tbody tr th:only-of-type {\n",
       "        vertical-align: middle;\n",
       "    }\n",
       "\n",
       "    .dataframe tbody tr th {\n",
       "        vertical-align: top;\n",
       "    }\n",
       "\n",
       "    .dataframe thead th {\n",
       "        text-align: right;\n",
       "    }\n",
       "</style>\n",
       "<table border=\"1\" class=\"dataframe\">\n",
       "  <thead>\n",
       "    <tr style=\"text-align: right;\">\n",
       "      <th>Predicted</th>\n",
       "      <th>Metastasis Tumor</th>\n",
       "      <th>Primary Tumor</th>\n",
       "      <th>All</th>\n",
       "    </tr>\n",
       "    <tr>\n",
       "      <th>True</th>\n",
       "      <th></th>\n",
       "      <th></th>\n",
       "      <th></th>\n",
       "    </tr>\n",
       "  </thead>\n",
       "  <tbody>\n",
       "    <tr>\n",
       "      <th>Metastasis Tumor</th>\n",
       "      <td>17</td>\n",
       "      <td>58</td>\n",
       "      <td>75</td>\n",
       "    </tr>\n",
       "    <tr>\n",
       "      <th>Normal</th>\n",
       "      <td>0</td>\n",
       "      <td>25</td>\n",
       "      <td>25</td>\n",
       "    </tr>\n",
       "    <tr>\n",
       "      <th>Primary Tumor</th>\n",
       "      <td>55</td>\n",
       "      <td>290</td>\n",
       "      <td>345</td>\n",
       "    </tr>\n",
       "    <tr>\n",
       "      <th>All</th>\n",
       "      <td>72</td>\n",
       "      <td>373</td>\n",
       "      <td>445</td>\n",
       "    </tr>\n",
       "  </tbody>\n",
       "</table>\n",
       "</div>"
      ],
      "text/plain": [
       "Predicted         Metastasis Tumor  Primary Tumor  All\n",
       "True                                                  \n",
       "Metastasis Tumor                17             58   75\n",
       "Normal                           0             25   25\n",
       "Primary Tumor                   55            290  345\n",
       "All                             72            373  445"
      ]
     },
     "execution_count": 66,
     "metadata": {},
     "output_type": "execute_result"
    }
   ],
   "source": [
    "y_true = pd.Series(test_labels)\n",
    "y_pred = pd.Series(preds)\n",
    "\n",
    "pd.crosstab(y_true, y_pred, rownames=['True'], colnames=['Predicted'], margins=True)"
   ]
  },
  {
   "cell_type": "code",
   "execution_count": 67,
   "metadata": {},
   "outputs": [
    {
     "name": "stdout",
     "output_type": "stream",
     "text": [
      "Accuracy: 0.6898876404494382\n"
     ]
    },
    {
     "data": {
      "text/plain": [
       "<matplotlib.image.AxesImage at 0x1198ca518>"
      ]
     },
     "execution_count": 67,
     "metadata": {},
     "output_type": "execute_result"
    },
    {
     "data": {
      "image/png": "[encoded data removed]",
      "text/plain": [
       "<Figure size 432x288 with 1 Axes>"
      ]
     },
     "metadata": {
      "needs_background": "light"
     },
     "output_type": "display_data"
    }
   ],
   "source": [
    "cm = compute_confusion_matrix(test_labels, preds)\n",
    "plt.imshow(cm)"
   ]
  },
  {
   "cell_type": "markdown",
   "metadata": {},
   "source": [
    "## Observations\n",
    "\n",
    "With 150 and 88 features, the accuracy was lower; Maybe this is too many features to accurately tell apart the three types. With a lower amount (50), I was getting a higher accuracy (~70% compared to ~26%) which means the lower amount of features is better at predicting the difference between the three categories."
   ]
  },
  {
   "cell_type": "code",
   "execution_count": null,
   "metadata": {},
   "outputs": [],
   "source": []
  }
 ],
 "metadata": {
  "kernelspec": {
   "display_name": "Python 3",
   "language": "python",
   "name": "python3"
  },
  "language_info": {
   "codemirror_mode": {
    "name": "ipython",
    "version": 3
   },
   "file_extension": ".py",
   "mimetype": "text/x-python",
   "name": "python",
   "nbconvert_exporter": "python",
   "pygments_lexer": "ipython3",
   "version": "3.7.4"
  }
 },
 "nbformat": 4,
 "nbformat_minor": 2
}
